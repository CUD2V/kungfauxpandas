{
 "cells": [
  {
   "cell_type": "markdown",
   "metadata": {},
   "source": [
    "# Forever Monsterous:  A Kung Faux Pandas Tutorial"
   ]
  },
  {
   "cell_type": "markdown",
   "metadata": {},
   "source": [
    "Kung Faux Pandas (KFP) is a set of tools which extends the [Pandas](https://pandas.pydata.org/ \"Pandas Homepage\") dataframe to include some tools for generating synthetic data.\n",
    "\n",
    "There are many reasons to create synthetic data, but KFP assumes the reason is to give a statistical analyst \"realistic\" data, which we term _faux_ data, without exposing the real dataset.   \n",
    "Details on the tools and how to install them are available on the [KFP github repository] (https://github.com/CUD2V/kungfauxpandas).\n",
    "\n",
    "This tutorial assumes you have installed KFP as well as some standard data science tools, such as numpy, scipy, and matplotlib."
   ]
  },
  {
   "cell_type": "markdown",
   "metadata": {},
   "source": [
    "## Chapter 1:  The Problem"
   ]
  },
  {
   "cell_type": "markdown",
   "metadata": {},
   "source": [
    "Monsters are a tricky lot.   They have widely varying statistics and capabilities and many have spent centuries building up their reputations in order to disuade adventurers from invading their spaces.  The smarter varieties of monsters have retained good lawyers through the ages, and it in most jurisdictions it's actually illegal to publish the \"personal\" data on any monster.\n",
    "\n",
    "Of course, we would like to study the monsters without violating their privacy rights.   KFP can help this problem!\n",
    "\n",
    "1. Generate a fake data set based on the real stuff\n",
    "2. Work out all steps necessary to clean the data up\n",
    "3. Code the data cleaning steps into a function\n",
    "4. Re-run the data generation using the data cleaner\n",
    "5. Get a clean, synthetic data set to study\n",
    "6. Have a trusted agent (DM?) run your study code on the real data and deliver you the results.\n",
    "\n"
   ]
  },
  {
   "cell_type": "code",
   "execution_count": 1,
   "metadata": {},
   "outputs": [],
   "source": [
    "import sqlite3\n",
    "import pandas as pd\n",
    "import numpy as np\n",
    "import scipy as sp\n",
    "import scipy.stats as stats\n",
    "import pylab as plt\n",
    "from collections import Counter\n",
    "import datetime\n",
    "import sys\n",
    "sys.path.append('../')\n",
    "sys.path.append('../../../plugins/DataSynthesizer/DataSynthesizer/')\n",
    "sys.path.append('../../../plugins/DataSynthesizer/')\n",
    "from importlib import reload\n",
    "from kungfauxpandas import KungFauxPandas, TrivialPlugin, DataSynthesizerPlugin, KDEPlugin\n",
    "from fractions import Fraction\n",
    "%matplotlib inline"
   ]
  },
  {
   "cell_type": "markdown",
   "metadata": {},
   "source": [
    "# Step 0:  Get the real data\n",
    "This scenario models one in which the monsters' private data is unavailable to us as researchers.  We assume there would be a trusted intermediary who could hold the real data and run the processing for us.\n",
    "\n",
    "\n",
    "\n"
   ]
  },
  {
   "cell_type": "code",
   "execution_count": 2,
   "metadata": {},
   "outputs": [
    {
     "data": {
      "text/html": [
       "<div>\n",
       "<style scoped>\n",
       "    .dataframe tbody tr th:only-of-type {\n",
       "        vertical-align: middle;\n",
       "    }\n",
       "\n",
       "    .dataframe tbody tr th {\n",
       "        vertical-align: top;\n",
       "    }\n",
       "\n",
       "    .dataframe thead th {\n",
       "        text-align: right;\n",
       "    }\n",
       "</style>\n",
       "<table border=\"1\" class=\"dataframe\">\n",
       "  <thead>\n",
       "    <tr style=\"text-align: right;\">\n",
       "      <th></th>\n",
       "      <th>Name</th>\n",
       "      <th>Type</th>\n",
       "      <th>ALIGNMENT</th>\n",
       "      <th>Size</th>\n",
       "      <th>CR</th>\n",
       "      <th>AC</th>\n",
       "      <th>HP</th>\n",
       "      <th>STR</th>\n",
       "      <th>DEX</th>\n",
       "      <th>CON</th>\n",
       "      <th>INT</th>\n",
       "      <th>WIS</th>\n",
       "      <th>CHA</th>\n",
       "    </tr>\n",
       "  </thead>\n",
       "  <tbody>\n",
       "    <tr>\n",
       "      <th>297</th>\n",
       "      <td>Bargheist</td>\n",
       "      <td>Fiend</td>\n",
       "      <td>NE</td>\n",
       "      <td>Large</td>\n",
       "      <td>4</td>\n",
       "      <td>17</td>\n",
       "      <td>90</td>\n",
       "      <td>19</td>\n",
       "      <td>15</td>\n",
       "      <td>14</td>\n",
       "      <td>13</td>\n",
       "      <td>12</td>\n",
       "      <td>14.0</td>\n",
       "    </tr>\n",
       "    <tr>\n",
       "      <th>54</th>\n",
       "      <td>Giant Elk</td>\n",
       "      <td>Beast</td>\n",
       "      <td>U</td>\n",
       "      <td>Huge</td>\n",
       "      <td>2</td>\n",
       "      <td>14</td>\n",
       "      <td>42</td>\n",
       "      <td>19</td>\n",
       "      <td>16</td>\n",
       "      <td>14</td>\n",
       "      <td>7</td>\n",
       "      <td>14</td>\n",
       "      <td>10.0</td>\n",
       "    </tr>\n",
       "    <tr>\n",
       "      <th>581</th>\n",
       "      <td>Cave Fisher</td>\n",
       "      <td>Monstrosity</td>\n",
       "      <td>U</td>\n",
       "      <td>Medium</td>\n",
       "      <td>3</td>\n",
       "      <td>16</td>\n",
       "      <td>58</td>\n",
       "      <td>16</td>\n",
       "      <td>13</td>\n",
       "      <td>14</td>\n",
       "      <td>3</td>\n",
       "      <td>10</td>\n",
       "      <td>3.0</td>\n",
       "    </tr>\n",
       "    <tr>\n",
       "      <th>30</th>\n",
       "      <td>Nothic</td>\n",
       "      <td>Aberration</td>\n",
       "      <td>NE</td>\n",
       "      <td>Medium</td>\n",
       "      <td>2</td>\n",
       "      <td>15</td>\n",
       "      <td>45</td>\n",
       "      <td>14</td>\n",
       "      <td>16</td>\n",
       "      <td>16</td>\n",
       "      <td>13</td>\n",
       "      <td>10</td>\n",
       "      <td>8.0</td>\n",
       "    </tr>\n",
       "    <tr>\n",
       "      <th>145</th>\n",
       "      <td>Empyrean</td>\n",
       "      <td>Celestial</td>\n",
       "      <td>CG OR NE</td>\n",
       "      <td>Huge</td>\n",
       "      <td>23</td>\n",
       "      <td>22</td>\n",
       "      <td>313</td>\n",
       "      <td>30</td>\n",
       "      <td>21</td>\n",
       "      <td>30</td>\n",
       "      <td>21</td>\n",
       "      <td>22</td>\n",
       "      <td>27.0</td>\n",
       "    </tr>\n",
       "    <tr>\n",
       "      <th>524</th>\n",
       "      <td>Kenku</td>\n",
       "      <td>Humanoid</td>\n",
       "      <td>CN</td>\n",
       "      <td>Medium</td>\n",
       "      <td>1/4</td>\n",
       "      <td>13</td>\n",
       "      <td>13</td>\n",
       "      <td>10</td>\n",
       "      <td>16</td>\n",
       "      <td>10</td>\n",
       "      <td>11</td>\n",
       "      <td>10</td>\n",
       "      <td>10.0</td>\n",
       "    </tr>\n",
       "    <tr>\n",
       "      <th>519</th>\n",
       "      <td>Acolyte</td>\n",
       "      <td>Humanoid</td>\n",
       "      <td>ANY</td>\n",
       "      <td>Medium</td>\n",
       "      <td>1/4</td>\n",
       "      <td>10</td>\n",
       "      <td>9</td>\n",
       "      <td>10</td>\n",
       "      <td>10</td>\n",
       "      <td>10</td>\n",
       "      <td>10</td>\n",
       "      <td>14</td>\n",
       "      <td>11.0</td>\n",
       "    </tr>\n",
       "    <tr>\n",
       "      <th>602</th>\n",
       "      <td>Merrow</td>\n",
       "      <td>Monstrosity</td>\n",
       "      <td>CE</td>\n",
       "      <td>Large</td>\n",
       "      <td>2</td>\n",
       "      <td>13</td>\n",
       "      <td>45</td>\n",
       "      <td>18</td>\n",
       "      <td>10</td>\n",
       "      <td>15</td>\n",
       "      <td>8</td>\n",
       "      <td>10</td>\n",
       "      <td>9.0</td>\n",
       "    </tr>\n",
       "    <tr>\n",
       "      <th>27</th>\n",
       "      <td>Berbalang</td>\n",
       "      <td>Aberration</td>\n",
       "      <td>NE</td>\n",
       "      <td>Medium</td>\n",
       "      <td>2</td>\n",
       "      <td>14</td>\n",
       "      <td>38</td>\n",
       "      <td>9</td>\n",
       "      <td>16</td>\n",
       "      <td>9</td>\n",
       "      <td>17</td>\n",
       "      <td>11</td>\n",
       "      <td>10.0</td>\n",
       "    </tr>\n",
       "    <tr>\n",
       "      <th>52</th>\n",
       "      <td>Giant Boar</td>\n",
       "      <td>Beast</td>\n",
       "      <td>U</td>\n",
       "      <td>Large</td>\n",
       "      <td>2</td>\n",
       "      <td>12</td>\n",
       "      <td>42</td>\n",
       "      <td>17</td>\n",
       "      <td>10</td>\n",
       "      <td>16</td>\n",
       "      <td>2</td>\n",
       "      <td>7</td>\n",
       "      <td>5.0</td>\n",
       "    </tr>\n",
       "  </tbody>\n",
       "</table>\n",
       "</div>"
      ],
      "text/plain": [
       "            Name         Type ALIGNMENT    Size   CR  AC   HP  STR  DEX  CON  \\\n",
       "297    Bargheist        Fiend        NE   Large    4  17   90   19   15   14   \n",
       "54     Giant Elk        Beast         U    Huge    2  14   42   19   16   14   \n",
       "581  Cave Fisher  Monstrosity         U  Medium    3  16   58   16   13   14   \n",
       "30        Nothic   Aberration        NE  Medium    2  15   45   14   16   16   \n",
       "145     Empyrean    Celestial  CG OR NE    Huge   23  22  313   30   21   30   \n",
       "524        Kenku     Humanoid        CN  Medium  1/4  13   13   10   16   10   \n",
       "519      Acolyte     Humanoid       ANY  Medium  1/4  10    9   10   10   10   \n",
       "602       Merrow  Monstrosity        CE   Large    2  13   45   18   10   15   \n",
       "27     Berbalang   Aberration        NE  Medium    2  14   38    9   16    9   \n",
       "52    Giant Boar        Beast         U   Large    2  12   42   17   10   16   \n",
       "\n",
       "     INT  WIS   CHA  \n",
       "297   13   12  14.0  \n",
       "54     7   14  10.0  \n",
       "581    3   10   3.0  \n",
       "30    13   10   8.0  \n",
       "145   21   22  27.0  \n",
       "524   11   10  10.0  \n",
       "519   10   14  11.0  \n",
       "602    8   10   9.0  \n",
       "27    17   11  10.0  \n",
       "52     2    7   5.0  "
      ]
     },
     "execution_count": 2,
     "metadata": {},
     "output_type": "execute_result"
    }
   ],
   "source": [
    "# Data from: https://docs.google.com/spreadsheets/d/1FIjaz6S0JXrXaCVhHEDeq-nH7xHzlqAx6inuRbDjhjU/edit#gid=1346812326\n",
    "# Other fun data: https://docs.google.com/spreadsheets/d/16ajgJpvUI0wYcSU7kjHutw8oB6Zv6eIAo5JtI6PLvu8/edit#gid=776794522\n",
    "monsterfile = \"../../../data/D&D 5e Monster List with Ability Scores.xlsx - Monsters by Ability Score.csv\"\n",
    "df = pd.read_csv(monsterfile)\n",
    "df.sample(10)"
   ]
  },
  {
   "cell_type": "markdown",
   "metadata": {},
   "source": [
    "## Step 1: Grab round 1 of the fake data"
   ]
  },
  {
   "cell_type": "code",
   "execution_count": 3,
   "metadata": {},
   "outputs": [
    {
     "name": "stdout",
     "output_type": "stream",
     "text": [
      "Preprocess None\n",
      "Building KDE Model\n"
     ]
    }
   ],
   "source": [
    "# Instantiate KFP object\n",
    "kfpd = KungFauxPandas(plugin=KDEPlugin(),\n",
    "                      logging='../../../data/kfp_log.db',\n",
    "                      db_file='../../../data/monsters.db')\n",
    "\n",
    "# Ensure KFP object has the options we want\n",
    "kfpd.plugin.capture_covariance = True  # models how the stats interact with each other\n",
    "kfpd.plugin.determine_factors =  True  # make a judgement about whether a measure is numeric or categorical\n",
    "\n",
    "# Generate the Fake data\n",
    "kfpd.plugin.fauxify(df_in=df)\n",
    "\n",
    "# Do some renames to improve readability\n",
    "faux_df = kfpd.plugin.df_out\n",
    "factor_indices = kfpd.plugin.factor_indices\n"
   ]
  },
  {
   "cell_type": "markdown",
   "metadata": {},
   "source": [
    "\n",
    "Now we have fake data! It still needs some work, though.\n",
    "\n",
    "# Step 2: EDA and Data Cleanup"
   ]
  },
  {
   "cell_type": "code",
   "execution_count": 4,
   "metadata": {},
   "outputs": [
    {
     "data": {
      "text/html": [
       "<div>\n",
       "<style scoped>\n",
       "    .dataframe tbody tr th:only-of-type {\n",
       "        vertical-align: middle;\n",
       "    }\n",
       "\n",
       "    .dataframe tbody tr th {\n",
       "        vertical-align: top;\n",
       "    }\n",
       "\n",
       "    .dataframe thead th {\n",
       "        text-align: right;\n",
       "    }\n",
       "</style>\n",
       "<table border=\"1\" class=\"dataframe\">\n",
       "  <thead>\n",
       "    <tr style=\"text-align: right;\">\n",
       "      <th></th>\n",
       "      <th>Type</th>\n",
       "      <th>ALIGNMENT</th>\n",
       "      <th>Size</th>\n",
       "      <th>CR</th>\n",
       "      <th>AC</th>\n",
       "      <th>HP</th>\n",
       "      <th>STR</th>\n",
       "      <th>DEX</th>\n",
       "      <th>CON</th>\n",
       "      <th>INT</th>\n",
       "      <th>WIS</th>\n",
       "      <th>CHA</th>\n",
       "    </tr>\n",
       "  </thead>\n",
       "  <tbody>\n",
       "    <tr>\n",
       "      <th>443</th>\n",
       "      <td>15.899096</td>\n",
       "      <td>4.057081</td>\n",
       "      <td>3.012643</td>\n",
       "      <td>14.941855</td>\n",
       "      <td>12.973115</td>\n",
       "      <td>8.831121</td>\n",
       "      <td>7.056146</td>\n",
       "      <td>13.950936</td>\n",
       "      <td>12.998288</td>\n",
       "      <td>5.940831</td>\n",
       "      <td>10.975571</td>\n",
       "      <td>6.925135</td>\n",
       "    </tr>\n",
       "    <tr>\n",
       "      <th>26</th>\n",
       "      <td>12.987592</td>\n",
       "      <td>0.057472</td>\n",
       "      <td>3.005373</td>\n",
       "      <td>10.971504</td>\n",
       "      <td>13.038005</td>\n",
       "      <td>36.183037</td>\n",
       "      <td>9.043111</td>\n",
       "      <td>13.969822</td>\n",
       "      <td>12.040305</td>\n",
       "      <td>10.955493</td>\n",
       "      <td>4.971292</td>\n",
       "      <td>13.919917</td>\n",
       "    </tr>\n",
       "    <tr>\n",
       "      <th>650</th>\n",
       "      <td>4.912578</td>\n",
       "      <td>3.988626</td>\n",
       "      <td>-0.007954</td>\n",
       "      <td>7.987126</td>\n",
       "      <td>13.978606</td>\n",
       "      <td>103.797753</td>\n",
       "      <td>15.934194</td>\n",
       "      <td>19.014346</td>\n",
       "      <td>13.971177</td>\n",
       "      <td>10.011238</td>\n",
       "      <td>15.026137</td>\n",
       "      <td>11.022766</td>\n",
       "    </tr>\n",
       "    <tr>\n",
       "      <th>129</th>\n",
       "      <td>15.001582</td>\n",
       "      <td>1.030263</td>\n",
       "      <td>0.019159</td>\n",
       "      <td>8.995394</td>\n",
       "      <td>14.010009</td>\n",
       "      <td>75.109578</td>\n",
       "      <td>8.035688</td>\n",
       "      <td>18.967817</td>\n",
       "      <td>16.039765</td>\n",
       "      <td>19.028384</td>\n",
       "      <td>12.002626</td>\n",
       "      <td>15.044296</td>\n",
       "    </tr>\n",
       "    <tr>\n",
       "      <th>547</th>\n",
       "      <td>10.929021</td>\n",
       "      <td>-0.021200</td>\n",
       "      <td>1.019709</td>\n",
       "      <td>7.061939</td>\n",
       "      <td>15.053572</td>\n",
       "      <td>95.295970</td>\n",
       "      <td>18.151859</td>\n",
       "      <td>12.968780</td>\n",
       "      <td>20.069679</td>\n",
       "      <td>7.033584</td>\n",
       "      <td>9.003956</td>\n",
       "      <td>7.045264</td>\n",
       "    </tr>\n",
       "  </tbody>\n",
       "</table>\n",
       "</div>"
      ],
      "text/plain": [
       "          Type  ALIGNMENT      Size         CR         AC          HP  \\\n",
       "443  15.899096   4.057081  3.012643  14.941855  12.973115    8.831121   \n",
       "26   12.987592   0.057472  3.005373  10.971504  13.038005   36.183037   \n",
       "650   4.912578   3.988626 -0.007954   7.987126  13.978606  103.797753   \n",
       "129  15.001582   1.030263  0.019159   8.995394  14.010009   75.109578   \n",
       "547  10.929021  -0.021200  1.019709   7.061939  15.053572   95.295970   \n",
       "\n",
       "           STR        DEX        CON        INT        WIS        CHA  \n",
       "443   7.056146  13.950936  12.998288   5.940831  10.975571   6.925135  \n",
       "26    9.043111  13.969822  12.040305  10.955493   4.971292  13.919917  \n",
       "650  15.934194  19.014346  13.971177  10.011238  15.026137  11.022766  \n",
       "129   8.035688  18.967817  16.039765  19.028384  12.002626  15.044296  \n",
       "547  18.151859  12.968780  20.069679   7.033584   9.003956   7.045264  "
      ]
     },
     "execution_count": 4,
     "metadata": {},
     "output_type": "execute_result"
    }
   ],
   "source": [
    "faux_df.sample(5)"
   ]
  },
  {
   "cell_type": "markdown",
   "metadata": {},
   "source": [
    "Since we seleccted the KDE plugin, this data was generated with a Gaussian Kernel Density Estimator, which assumes that the samples come from a continuous distribution.   That is, numbers like Hit Points (HP) are assumed to take any decimal value.    Due to our domain expertise, however, we know that these numbers really should all be integers.    One could generate a more complex simulation model or just round off our fake data.   "
   ]
  },
  {
   "cell_type": "code",
   "execution_count": 5,
   "metadata": {},
   "outputs": [
    {
     "data": {
      "text/html": [
       "<div>\n",
       "<style scoped>\n",
       "    .dataframe tbody tr th:only-of-type {\n",
       "        vertical-align: middle;\n",
       "    }\n",
       "\n",
       "    .dataframe tbody tr th {\n",
       "        vertical-align: top;\n",
       "    }\n",
       "\n",
       "    .dataframe thead th {\n",
       "        text-align: right;\n",
       "    }\n",
       "</style>\n",
       "<table border=\"1\" class=\"dataframe\">\n",
       "  <thead>\n",
       "    <tr style=\"text-align: right;\">\n",
       "      <th></th>\n",
       "      <th>Type</th>\n",
       "      <th>ALIGNMENT</th>\n",
       "      <th>Size</th>\n",
       "      <th>CR</th>\n",
       "      <th>AC</th>\n",
       "      <th>HP</th>\n",
       "      <th>STR</th>\n",
       "      <th>DEX</th>\n",
       "      <th>CON</th>\n",
       "      <th>INT</th>\n",
       "      <th>WIS</th>\n",
       "      <th>CHA</th>\n",
       "    </tr>\n",
       "  </thead>\n",
       "  <tbody>\n",
       "    <tr>\n",
       "      <th>181</th>\n",
       "      <td>14</td>\n",
       "      <td>7</td>\n",
       "      <td>1</td>\n",
       "      <td>10</td>\n",
       "      <td>13</td>\n",
       "      <td>60</td>\n",
       "      <td>18</td>\n",
       "      <td>16</td>\n",
       "      <td>16</td>\n",
       "      <td>5</td>\n",
       "      <td>12</td>\n",
       "      <td>7</td>\n",
       "    </tr>\n",
       "    <tr>\n",
       "      <th>686</th>\n",
       "      <td>13</td>\n",
       "      <td>14</td>\n",
       "      <td>0</td>\n",
       "      <td>9</td>\n",
       "      <td>18</td>\n",
       "      <td>64</td>\n",
       "      <td>16</td>\n",
       "      <td>13</td>\n",
       "      <td>14</td>\n",
       "      <td>10</td>\n",
       "      <td>11</td>\n",
       "      <td>10</td>\n",
       "    </tr>\n",
       "    <tr>\n",
       "      <th>531</th>\n",
       "      <td>1</td>\n",
       "      <td>7</td>\n",
       "      <td>0</td>\n",
       "      <td>15</td>\n",
       "      <td>13</td>\n",
       "      <td>11</td>\n",
       "      <td>12</td>\n",
       "      <td>16</td>\n",
       "      <td>13</td>\n",
       "      <td>3</td>\n",
       "      <td>12</td>\n",
       "      <td>4</td>\n",
       "    </tr>\n",
       "    <tr>\n",
       "      <th>374</th>\n",
       "      <td>4</td>\n",
       "      <td>0</td>\n",
       "      <td>5</td>\n",
       "      <td>26</td>\n",
       "      <td>19</td>\n",
       "      <td>255</td>\n",
       "      <td>27</td>\n",
       "      <td>10</td>\n",
       "      <td>25</td>\n",
       "      <td>16</td>\n",
       "      <td>13</td>\n",
       "      <td>21</td>\n",
       "    </tr>\n",
       "    <tr>\n",
       "      <th>252</th>\n",
       "      <td>13</td>\n",
       "      <td>14</td>\n",
       "      <td>0</td>\n",
       "      <td>9</td>\n",
       "      <td>10</td>\n",
       "      <td>75</td>\n",
       "      <td>12</td>\n",
       "      <td>10</td>\n",
       "      <td>16</td>\n",
       "      <td>10</td>\n",
       "      <td>15</td>\n",
       "      <td>14</td>\n",
       "    </tr>\n",
       "  </tbody>\n",
       "</table>\n",
       "</div>"
      ],
      "text/plain": [
       "     Type  ALIGNMENT  Size  CR  AC   HP  STR  DEX  CON  INT  WIS  CHA\n",
       "181    14          7     1  10  13   60   18   16   16    5   12    7\n",
       "686    13         14     0   9  18   64   16   13   14   10   11   10\n",
       "531     1          7     0  15  13   11   12   16   13    3   12    4\n",
       "374     4          0     5  26  19  255   27   10   25   16   13   21\n",
       "252    13         14     0   9  10   75   12   10   16   10   15   14"
      ]
     },
     "execution_count": 5,
     "metadata": {},
     "output_type": "execute_result"
    }
   ],
   "source": [
    "# Get numbers back to integers\n",
    "faux_df = faux_df.round().astype('int')\n",
    "faux_df.sample(5)"
   ]
  },
  {
   "cell_type": "markdown",
   "metadata": {},
   "source": [
    "These look more like we might expect, however some of our fields were factors (i.e. text fields).  We'd like to restore these to their original labels."
   ]
  },
  {
   "cell_type": "code",
   "execution_count": 6,
   "metadata": {},
   "outputs": [
    {
     "data": {
      "text/html": [
       "<div>\n",
       "<style scoped>\n",
       "    .dataframe tbody tr th:only-of-type {\n",
       "        vertical-align: middle;\n",
       "    }\n",
       "\n",
       "    .dataframe tbody tr th {\n",
       "        vertical-align: top;\n",
       "    }\n",
       "\n",
       "    .dataframe thead th {\n",
       "        text-align: right;\n",
       "    }\n",
       "</style>\n",
       "<table border=\"1\" class=\"dataframe\">\n",
       "  <thead>\n",
       "    <tr style=\"text-align: right;\">\n",
       "      <th></th>\n",
       "      <th>Type</th>\n",
       "      <th>ALIGNMENT</th>\n",
       "      <th>Size</th>\n",
       "      <th>CR</th>\n",
       "      <th>AC</th>\n",
       "      <th>HP</th>\n",
       "      <th>STR</th>\n",
       "      <th>DEX</th>\n",
       "      <th>CON</th>\n",
       "      <th>INT</th>\n",
       "      <th>WIS</th>\n",
       "      <th>CHA</th>\n",
       "    </tr>\n",
       "  </thead>\n",
       "  <tbody>\n",
       "    <tr>\n",
       "      <th>273</th>\n",
       "      <td>Fiend (Demon)</td>\n",
       "      <td>CE</td>\n",
       "      <td>Medium</td>\n",
       "      <td>4</td>\n",
       "      <td>16</td>\n",
       "      <td>83</td>\n",
       "      <td>19</td>\n",
       "      <td>16</td>\n",
       "      <td>16</td>\n",
       "      <td>11</td>\n",
       "      <td>12</td>\n",
       "      <td>13</td>\n",
       "    </tr>\n",
       "    <tr>\n",
       "      <th>87</th>\n",
       "      <td>Humanoid</td>\n",
       "      <td>NE</td>\n",
       "      <td>Medium</td>\n",
       "      <td>20</td>\n",
       "      <td>17</td>\n",
       "      <td>262</td>\n",
       "      <td>12</td>\n",
       "      <td>18</td>\n",
       "      <td>16</td>\n",
       "      <td>17</td>\n",
       "      <td>21</td>\n",
       "      <td>22</td>\n",
       "    </tr>\n",
       "    <tr>\n",
       "      <th>304</th>\n",
       "      <td>Humanoid</td>\n",
       "      <td>LE</td>\n",
       "      <td>Medium</td>\n",
       "      <td>8</td>\n",
       "      <td>18</td>\n",
       "      <td>91</td>\n",
       "      <td>16</td>\n",
       "      <td>14</td>\n",
       "      <td>15</td>\n",
       "      <td>14</td>\n",
       "      <td>14</td>\n",
       "      <td>15</td>\n",
       "    </tr>\n",
       "    <tr>\n",
       "      <th>529</th>\n",
       "      <td>Construct</td>\n",
       "      <td>LN</td>\n",
       "      <td>Medium</td>\n",
       "      <td>1/2</td>\n",
       "      <td>15</td>\n",
       "      <td>16</td>\n",
       "      <td>12</td>\n",
       "      <td>13</td>\n",
       "      <td>12</td>\n",
       "      <td>9</td>\n",
       "      <td>10</td>\n",
       "      <td>9</td>\n",
       "    </tr>\n",
       "    <tr>\n",
       "      <th>56</th>\n",
       "      <td>Humanoid</td>\n",
       "      <td>CE</td>\n",
       "      <td>Small</td>\n",
       "      <td>1/4</td>\n",
       "      <td>13</td>\n",
       "      <td>14</td>\n",
       "      <td>10</td>\n",
       "      <td>14</td>\n",
       "      <td>12</td>\n",
       "      <td>11</td>\n",
       "      <td>5</td>\n",
       "      <td>9</td>\n",
       "    </tr>\n",
       "  </tbody>\n",
       "</table>\n",
       "</div>"
      ],
      "text/plain": [
       "              Type ALIGNMENT    Size   CR  AC   HP  STR  DEX  CON  INT  WIS  \\\n",
       "273  Fiend (Demon)        CE  Medium    4  16   83   19   16   16   11   12   \n",
       "87        Humanoid        NE  Medium   20  17  262   12   18   16   17   21   \n",
       "304       Humanoid        LE  Medium    8  18   91   16   14   15   14   14   \n",
       "529      Construct        LN  Medium  1/2  15   16   12   13   12    9   10   \n",
       "56        Humanoid        CE   Small  1/4  13   14   10   14   12   11    5   \n",
       "\n",
       "     CHA  \n",
       "273   13  \n",
       "87    22  \n",
       "304   15  \n",
       "529    9  \n",
       "56     9  "
      ]
     },
     "execution_count": 6,
     "metadata": {},
     "output_type": "execute_result"
    }
   ],
   "source": [
    "# Back-transform factors to their labels\n",
    "for factor_name in factor_indices:\n",
    "    alt = factor_indices[factor_name]\n",
    "    altlab = np.arange(len(alt))\n",
    "    lookup = dict(zip(altlab,alt))\n",
    "    faux_df[factor_name]=[lookup[xx] for xx in faux_df[factor_name]]\n",
    "\n",
    "faux_df.sample(5)"
   ]
  },
  {
   "cell_type": "markdown",
   "metadata": {},
   "source": [
    "This looks much more like what we'd expect.    Lets do some exploration and cleaning."
   ]
  },
  {
   "cell_type": "code",
   "execution_count": 7,
   "metadata": {},
   "outputs": [
    {
     "name": "stdout",
     "output_type": "stream",
     "text": [
      "['Humanoid' 'Monstrosity' 'Fiend (Devil)' 'Aberration' 'Beast' 'Fiend'\n",
      " 'Dragon' 'Plant' 'Construct' 'Undead' 'Celestial' 'Elemental' 'Fey'\n",
      " 'Fiend (Demon)' 'Giant' 'Ooze' 'Fiend (demon)']\n",
      "['Aberration' 'Beast' 'Celestial' 'Construct' 'Dragon' 'Elemental' 'Fey'\n",
      " 'Fiend' 'Fiend (Demon)' 'Fiend (Devil)' 'Fiend (demon)' 'Giant' 'Humanoid'\n",
      " 'Monstrosity' 'Ooze' 'Plant' 'Undead']\n"
     ]
    }
   ],
   "source": [
    "distincts = faux_df.Type.unique()\n",
    "print(distincts)\n",
    "distincts.sort()\n",
    "print(distincts)\n"
   ]
  },
  {
   "cell_type": "markdown",
   "metadata": {},
   "source": [
    "+ **Boo!  Why is Giant in there twice? A trailing space!**\n",
    "\n",
    "Lets check the other factors."
   ]
  },
  {
   "cell_type": "code",
   "execution_count": 8,
   "metadata": {},
   "outputs": [
    {
     "name": "stdout",
     "output_type": "stream",
     "text": [
      "['Medium' 'Gargantuan' 'Huge' 'Large' 'Small' 'Tiny' 'small' 'large'\n",
      " 'VARIES']\n",
      "['Gargantuan' 'Huge' 'Large' 'Medium' 'Small' 'Tiny' 'VARIES' 'large'\n",
      " 'small']\n"
     ]
    }
   ],
   "source": [
    "distincts = faux_df.Size.unique()\n",
    "print(distincts)\n",
    "distincts.sort()\n",
    "print(distincts)"
   ]
  },
  {
   "cell_type": "markdown",
   "metadata": {},
   "source": [
    "+ **ooh!  There's \"large\" and \"Large\", \"small and \"Small\", and \"VARIES\" changes capitalization convention.**"
   ]
  },
  {
   "cell_type": "code",
   "execution_count": 9,
   "metadata": {},
   "outputs": [
    {
     "name": "stdout",
     "output_type": "stream",
     "text": [
      "['LE' 'U' 'NE' 'NG' 'CN' 'N' 'LN' 'LG' 'CE' 'ANY' 'CG' 'E' 'NOT GOOD'\n",
      " 'CG OR NE' 'NOT LAWFUL' 'ANY EVIL' 'C' 'Same as Eidolon']\n",
      "['ANY' 'ANY EVIL' 'C' 'CE' 'CG' 'CG OR NE' 'CN' 'E' 'LE' 'LG' 'LN' 'N' 'NE'\n",
      " 'NG' 'NOT GOOD' 'NOT LAWFUL' 'Same as Eidolon' 'U']\n"
     ]
    }
   ],
   "source": [
    "distincts = faux_df.ALIGNMENT.unique()\n",
    "print(distincts)\n",
    "distincts.sort()\n",
    "print(distincts)\n",
    "\n"
   ]
  },
  {
   "cell_type": "markdown",
   "metadata": {},
   "source": [
    "* **No problems jump out here**"
   ]
  },
  {
   "cell_type": "code",
   "execution_count": 10,
   "metadata": {},
   "outputs": [
    {
     "name": "stdout",
     "output_type": "stream",
     "text": [
      "['2' '15' '22' '13' '4' '1' '5' '14' '1/2' '8' '11' '7' '9' '0' '3' '10'\n",
      " '16' '18' '1/8' '1/4' '6' '12' '20' '30' '23' '19' '21' '24' '17' '26' '-']\n",
      "['-' '0' '1' '1/2' '1/4' '1/8' '10' '11' '12' '13' '14' '15' '16' '17' '18'\n",
      " '19' '2' '20' '21' '22' '23' '24' '26' '3' '30' '4' '5' '6' '7' '8' '9']\n"
     ]
    }
   ],
   "source": [
    "distincts = faux_df.CR.unique()\n",
    "print(distincts)\n",
    "distincts.sort()\n",
    "print(distincts)"
   ]
  },
  {
   "cell_type": "markdown",
   "metadata": {},
   "source": [
    "*  **This has numbers, mostly.  There's a '-' for some reason.   Also, there are fractions which we might want to be numerical.**\n",
    "\n",
    "Lets build a preprocessor that can fix these problems for us.  "
   ]
  },
  {
   "cell_type": "code",
   "execution_count": 11,
   "metadata": {
    "collapsed": true
   },
   "outputs": [],
   "source": [
    "# Preprocessing instructions\n",
    "def df_preprocess(df):\n",
    "\n",
    "    # Get rid of rows with missing data\n",
    "    df=df.dropna()\n",
    "    \n",
    "    # Take care of capitalization problems\n",
    "    df.loc[:,'Size']=[xx.capitalize().strip() for xx in df.Size]\n",
    "    df.loc[:,'Type']=[xx.capitalize().strip() for xx in df.Type]\n",
    "    df.loc[:,'ALIGNMENT'] = [xx.upper().strip() for xx in df.ALIGNMENT]\n",
    "    \n",
    "    # Convert any '-' values to a 0\n",
    "    df.loc[:,'CR'] = [float(Fraction(xx)) if xx is not '-' else 0.0 for xx in df.CR]\n",
    "    return(df)"
   ]
  },
  {
   "cell_type": "markdown",
   "metadata": {},
   "source": [
    "Lets verify that df_preprocess seems to fix our problems on our original data set."
   ]
  },
  {
   "cell_type": "code",
   "execution_count": 12,
   "metadata": {
    "collapsed": true
   },
   "outputs": [
    {
     "name": "stdout",
     "output_type": "stream",
     "text": [
      "['Medium' 'Gargantuan' 'Huge' 'Large' 'Small' 'Tiny' 'Varies'] \n",
      "\n",
      " ['Humanoid' 'Monstrosity' 'Fiend (devil)' 'Aberration' 'Beast' 'Fiend'\n",
      " 'Dragon' 'Plant' 'Construct' 'Undead' 'Celestial' 'Elemental' 'Fey'\n",
      " 'Fiend (demon)' 'Giant' 'Ooze'] \n",
      "\n",
      " ['LE' 'U' 'NE' 'NG' 'CN' 'N' 'LN' 'LG' 'CE' 'ANY' 'CG' 'E' 'NOT GOOD'\n",
      " 'CG OR NE' 'NOT LAWFUL' 'ANY EVIL' 'C' 'SAME AS EIDOLON']\n",
      "[  2.     15.     22.     13.      4.      1.      5.     14.      0.5     8.\n",
      "  11.      7.      9.      0.      3.     10.     16.     18.      0.125\n",
      "   0.25    6.     12.     20.     30.     23.     19.     21.     24.     17.\n",
      "  26.   ]\n"
     ]
    }
   ],
   "source": [
    "fixed = df_preprocess(faux_df)\n",
    "print(fixed.Size.unique(), '\\n\\n', fixed.Type.unique(),'\\n\\n',fixed.ALIGNMENT.unique())\n",
    "\n",
    "print(fixed.CR.unique())"
   ]
  },
  {
   "cell_type": "markdown",
   "metadata": {},
   "source": [
    "### Generate fake data based on the original _after_ preprocessing."
   ]
  },
  {
   "cell_type": "code",
   "execution_count": 13,
   "metadata": {
    "collapsed": true
   },
   "outputs": [
    {
     "name": "stdout",
     "output_type": "stream",
     "text": [
      "Preprocess <function df_preprocess at 0x1a16150f28>\n",
      "Building KDE Model\n"
     ]
    },
    {
     "name": "stderr",
     "output_type": "stream",
     "text": [
      "/Users/jamesking/miniconda3/lib/python3.6/site-packages/pandas/core/indexing.py:537: SettingWithCopyWarning: \n",
      "A value is trying to be set on a copy of a slice from a DataFrame.\n",
      "Try using .loc[row_indexer,col_indexer] = value instead\n",
      "\n",
      "See the caveats in the documentation: http://pandas.pydata.org/pandas-docs/stable/indexing.html#indexing-view-versus-copy\n",
      "  self.obj[item] = s\n"
     ]
    }
   ],
   "source": [
    "# Instantiate KFP object\n",
    "kfpd = KungFauxPandas(plugin=KDEPlugin(),\n",
    "                      logging='../../../data/kfp_log.db',\n",
    "                      db_file='../../../data/monsters.db')\n",
    "\n",
    "# Ensure KFP object has the options we want\n",
    "kfpd.plugin.capture_covariance = True\n",
    "kfpd.plugin.determine_factors =  True\n",
    "\n",
    "# Generate the Fake data\n",
    "kfpd.plugin.fauxify(df_in=df, preprocess=df_preprocess)\n",
    "\n",
    "# Do some renames to improve readability\n",
    "faux_df = kfpd.plugin.df_out\n",
    "factor_indices = kfpd.plugin.factor_indices"
   ]
  },
  {
   "cell_type": "code",
   "execution_count": 14,
   "metadata": {
    "collapsed": true
   },
   "outputs": [],
   "source": [
    "# Get numbers back to integers\n",
    "faux_df = faux_df.round().astype('int')"
   ]
  },
  {
   "cell_type": "code",
   "execution_count": 15,
   "metadata": {
    "collapsed": true
   },
   "outputs": [
    {
     "data": {
      "text/html": [
       "<div>\n",
       "<style scoped>\n",
       "    .dataframe tbody tr th:only-of-type {\n",
       "        vertical-align: middle;\n",
       "    }\n",
       "\n",
       "    .dataframe tbody tr th {\n",
       "        vertical-align: top;\n",
       "    }\n",
       "\n",
       "    .dataframe thead th {\n",
       "        text-align: right;\n",
       "    }\n",
       "</style>\n",
       "<table border=\"1\" class=\"dataframe\">\n",
       "  <thead>\n",
       "    <tr style=\"text-align: right;\">\n",
       "      <th></th>\n",
       "      <th>Type</th>\n",
       "      <th>ALIGNMENT</th>\n",
       "      <th>Size</th>\n",
       "      <th>CR</th>\n",
       "      <th>AC</th>\n",
       "      <th>HP</th>\n",
       "      <th>STR</th>\n",
       "      <th>DEX</th>\n",
       "      <th>CON</th>\n",
       "      <th>INT</th>\n",
       "      <th>WIS</th>\n",
       "      <th>CHA</th>\n",
       "    </tr>\n",
       "  </thead>\n",
       "  <tbody>\n",
       "    <tr>\n",
       "      <th>19</th>\n",
       "      <td>6</td>\n",
       "      <td>3</td>\n",
       "      <td>0</td>\n",
       "      <td>10</td>\n",
       "      <td>19</td>\n",
       "      <td>127</td>\n",
       "      <td>14</td>\n",
       "      <td>16</td>\n",
       "      <td>16</td>\n",
       "      <td>18</td>\n",
       "      <td>11</td>\n",
       "      <td>18</td>\n",
       "    </tr>\n",
       "    <tr>\n",
       "      <th>153</th>\n",
       "      <td>1</td>\n",
       "      <td>7</td>\n",
       "      <td>5</td>\n",
       "      <td>7</td>\n",
       "      <td>12</td>\n",
       "      <td>156</td>\n",
       "      <td>23</td>\n",
       "      <td>14</td>\n",
       "      <td>18</td>\n",
       "      <td>7</td>\n",
       "      <td>12</td>\n",
       "      <td>7</td>\n",
       "    </tr>\n",
       "    <tr>\n",
       "      <th>174</th>\n",
       "      <td>8</td>\n",
       "      <td>0</td>\n",
       "      <td>1</td>\n",
       "      <td>17</td>\n",
       "      <td>19</td>\n",
       "      <td>310</td>\n",
       "      <td>25</td>\n",
       "      <td>11</td>\n",
       "      <td>25</td>\n",
       "      <td>6</td>\n",
       "      <td>13</td>\n",
       "      <td>14</td>\n",
       "    </tr>\n",
       "    <tr>\n",
       "      <th>401</th>\n",
       "      <td>4</td>\n",
       "      <td>6</td>\n",
       "      <td>0</td>\n",
       "      <td>2</td>\n",
       "      <td>17</td>\n",
       "      <td>32</td>\n",
       "      <td>15</td>\n",
       "      <td>14</td>\n",
       "      <td>13</td>\n",
       "      <td>10</td>\n",
       "      <td>11</td>\n",
       "      <td>13</td>\n",
       "    </tr>\n",
       "    <tr>\n",
       "      <th>387</th>\n",
       "      <td>11</td>\n",
       "      <td>0</td>\n",
       "      <td>0</td>\n",
       "      <td>3</td>\n",
       "      <td>17</td>\n",
       "      <td>59</td>\n",
       "      <td>16</td>\n",
       "      <td>13</td>\n",
       "      <td>14</td>\n",
       "      <td>10</td>\n",
       "      <td>11</td>\n",
       "      <td>10</td>\n",
       "    </tr>\n",
       "    <tr>\n",
       "      <th>641</th>\n",
       "      <td>12</td>\n",
       "      <td>2</td>\n",
       "      <td>0</td>\n",
       "      <td>11</td>\n",
       "      <td>15</td>\n",
       "      <td>247</td>\n",
       "      <td>28</td>\n",
       "      <td>10</td>\n",
       "      <td>20</td>\n",
       "      <td>3</td>\n",
       "      <td>10</td>\n",
       "      <td>9</td>\n",
       "    </tr>\n",
       "    <tr>\n",
       "      <th>307</th>\n",
       "      <td>4</td>\n",
       "      <td>1</td>\n",
       "      <td>1</td>\n",
       "      <td>10</td>\n",
       "      <td>18</td>\n",
       "      <td>178</td>\n",
       "      <td>23</td>\n",
       "      <td>10</td>\n",
       "      <td>21</td>\n",
       "      <td>14</td>\n",
       "      <td>11</td>\n",
       "      <td>19</td>\n",
       "    </tr>\n",
       "    <tr>\n",
       "      <th>221</th>\n",
       "      <td>12</td>\n",
       "      <td>2</td>\n",
       "      <td>0</td>\n",
       "      <td>15</td>\n",
       "      <td>18</td>\n",
       "      <td>246</td>\n",
       "      <td>28</td>\n",
       "      <td>7</td>\n",
       "      <td>22</td>\n",
       "      <td>1</td>\n",
       "      <td>8</td>\n",
       "      <td>4</td>\n",
       "    </tr>\n",
       "    <tr>\n",
       "      <th>145</th>\n",
       "      <td>11</td>\n",
       "      <td>1</td>\n",
       "      <td>3</td>\n",
       "      <td>0</td>\n",
       "      <td>13</td>\n",
       "      <td>13</td>\n",
       "      <td>10</td>\n",
       "      <td>14</td>\n",
       "      <td>12</td>\n",
       "      <td>11</td>\n",
       "      <td>5</td>\n",
       "      <td>9</td>\n",
       "    </tr>\n",
       "    <tr>\n",
       "      <th>433</th>\n",
       "      <td>1</td>\n",
       "      <td>7</td>\n",
       "      <td>4</td>\n",
       "      <td>0</td>\n",
       "      <td>11</td>\n",
       "      <td>1</td>\n",
       "      <td>2</td>\n",
       "      <td>11</td>\n",
       "      <td>10</td>\n",
       "      <td>1</td>\n",
       "      <td>8</td>\n",
       "      <td>2</td>\n",
       "    </tr>\n",
       "  </tbody>\n",
       "</table>\n",
       "</div>"
      ],
      "text/plain": [
       "     Type  ALIGNMENT  Size  CR  AC   HP  STR  DEX  CON  INT  WIS  CHA\n",
       "19      6          3     0  10  19  127   14   16   16   18   11   18\n",
       "153     1          7     5   7  12  156   23   14   18    7   12    7\n",
       "174     8          0     1  17  19  310   25   11   25    6   13   14\n",
       "401     4          6     0   2  17   32   15   14   13   10   11   13\n",
       "387    11          0     0   3  17   59   16   13   14   10   11   10\n",
       "641    12          2     0  11  15  247   28   10   20    3   10    9\n",
       "307     4          1     1  10  18  178   23   10   21   14   11   19\n",
       "221    12          2     0  15  18  246   28    7   22    1    8    4\n",
       "145    11          1     3   0  13   13   10   14   12   11    5    9\n",
       "433     1          7     4   0  11    1    2   11   10    1    8    2"
      ]
     },
     "execution_count": 15,
     "metadata": {},
     "output_type": "execute_result"
    }
   ],
   "source": [
    "faux_df.sample(10)"
   ]
  },
  {
   "cell_type": "code",
   "execution_count": 16,
   "metadata": {
    "collapsed": true
   },
   "outputs": [
    {
     "data": {
      "text/plain": [
       "{'ALIGNMENT': Index(['CE', 'LE', 'NE', 'CN', 'N', 'LN', 'LG', 'U', 'CG OR NE', 'CG',\n",
       "        'SAME AS EIDOLON', 'NG', 'E', 'C', 'ANY', 'NOT GOOD', 'NOT LAWFUL',\n",
       "        'ANY EVIL'],\n",
       "       dtype='object'),\n",
       " 'Size': Index(['Medium', 'Large', 'Gargantuan', 'Small', 'Tiny', 'Huge', 'Varies'], dtype='object'),\n",
       " 'Type': Index(['Aberration', 'Beast', 'Celestial', 'Construct', 'Dragon', 'Elemental',\n",
       "        'Fey', 'Fiend', 'Fiend (demon)', 'Fiend (devil)', 'Giant', 'Humanoid',\n",
       "        'Monstrosity', 'Ooze', 'Plant', 'Undead'],\n",
       "       dtype='object')}"
      ]
     },
     "execution_count": 16,
     "metadata": {},
     "output_type": "execute_result"
    }
   ],
   "source": [
    "factor_indices"
   ]
  },
  {
   "cell_type": "code",
   "execution_count": 17,
   "metadata": {
    "collapsed": true
   },
   "outputs": [],
   "source": [
    "# Back-transform factors to their labels\n",
    "for factor_name in factor_indices:\n",
    "    alt = factor_indices[factor_name]\n",
    "    altlab = np.arange(len(alt))\n",
    "    lookup = dict(zip(altlab,alt))\n",
    "    faux_df[factor_name]=[lookup[xx] for xx in faux_df[factor_name]]\n",
    "\n"
   ]
  },
  {
   "cell_type": "code",
   "execution_count": 18,
   "metadata": {},
   "outputs": [
    {
     "data": {
      "text/html": [
       "<div>\n",
       "<style scoped>\n",
       "    .dataframe tbody tr th:only-of-type {\n",
       "        vertical-align: middle;\n",
       "    }\n",
       "\n",
       "    .dataframe tbody tr th {\n",
       "        vertical-align: top;\n",
       "    }\n",
       "\n",
       "    .dataframe thead th {\n",
       "        text-align: right;\n",
       "    }\n",
       "</style>\n",
       "<table border=\"1\" class=\"dataframe\">\n",
       "  <thead>\n",
       "    <tr style=\"text-align: right;\">\n",
       "      <th></th>\n",
       "      <th>Type</th>\n",
       "      <th>ALIGNMENT</th>\n",
       "      <th>Size</th>\n",
       "      <th>CR</th>\n",
       "      <th>AC</th>\n",
       "      <th>HP</th>\n",
       "      <th>STR</th>\n",
       "      <th>DEX</th>\n",
       "      <th>CON</th>\n",
       "      <th>INT</th>\n",
       "      <th>WIS</th>\n",
       "      <th>CHA</th>\n",
       "    </tr>\n",
       "  </thead>\n",
       "  <tbody>\n",
       "    <tr>\n",
       "      <th>562</th>\n",
       "      <td>Aberration</td>\n",
       "      <td>LE</td>\n",
       "      <td>Medium</td>\n",
       "      <td>4</td>\n",
       "      <td>15</td>\n",
       "      <td>71</td>\n",
       "      <td>6</td>\n",
       "      <td>16</td>\n",
       "      <td>14</td>\n",
       "      <td>16</td>\n",
       "      <td>12</td>\n",
       "      <td>18</td>\n",
       "    </tr>\n",
       "    <tr>\n",
       "      <th>202</th>\n",
       "      <td>Humanoid</td>\n",
       "      <td>ANY</td>\n",
       "      <td>Medium</td>\n",
       "      <td>5</td>\n",
       "      <td>16</td>\n",
       "      <td>75</td>\n",
       "      <td>19</td>\n",
       "      <td>15</td>\n",
       "      <td>16</td>\n",
       "      <td>14</td>\n",
       "      <td>13</td>\n",
       "      <td>17</td>\n",
       "    </tr>\n",
       "    <tr>\n",
       "      <th>569</th>\n",
       "      <td>Construct</td>\n",
       "      <td>U</td>\n",
       "      <td>Medium</td>\n",
       "      <td>4</td>\n",
       "      <td>20</td>\n",
       "      <td>60</td>\n",
       "      <td>18</td>\n",
       "      <td>13</td>\n",
       "      <td>16</td>\n",
       "      <td>10</td>\n",
       "      <td>10</td>\n",
       "      <td>10</td>\n",
       "    </tr>\n",
       "    <tr>\n",
       "      <th>466</th>\n",
       "      <td>Beast</td>\n",
       "      <td>U</td>\n",
       "      <td>Huge</td>\n",
       "      <td>2</td>\n",
       "      <td>13</td>\n",
       "      <td>30</td>\n",
       "      <td>15</td>\n",
       "      <td>13</td>\n",
       "      <td>13</td>\n",
       "      <td>2</td>\n",
       "      <td>10</td>\n",
       "      <td>5</td>\n",
       "    </tr>\n",
       "    <tr>\n",
       "      <th>121</th>\n",
       "      <td>Humanoid</td>\n",
       "      <td>NOT GOOD</td>\n",
       "      <td>Medium</td>\n",
       "      <td>0</td>\n",
       "      <td>12</td>\n",
       "      <td>13</td>\n",
       "      <td>11</td>\n",
       "      <td>12</td>\n",
       "      <td>12</td>\n",
       "      <td>10</td>\n",
       "      <td>10</td>\n",
       "      <td>10</td>\n",
       "    </tr>\n",
       "  </tbody>\n",
       "</table>\n",
       "</div>"
      ],
      "text/plain": [
       "           Type ALIGNMENT    Size  CR  AC  HP  STR  DEX  CON  INT  WIS  CHA\n",
       "562  Aberration        LE  Medium   4  15  71    6   16   14   16   12   18\n",
       "202    Humanoid       ANY  Medium   5  16  75   19   15   16   14   13   17\n",
       "569   Construct         U  Medium   4  20  60   18   13   16   10   10   10\n",
       "466       Beast         U    Huge   2  13  30   15   13   13    2   10    5\n",
       "121    Humanoid  NOT GOOD  Medium   0  12  13   11   12   12   10   10   10"
      ]
     },
     "execution_count": 18,
     "metadata": {},
     "output_type": "execute_result"
    }
   ],
   "source": [
    "faux_df.sample(5)"
   ]
  },
  {
   "cell_type": "markdown",
   "metadata": {},
   "source": [
    "**We now have fake data which strongly resembles the real stuff!**"
   ]
  },
  {
   "cell_type": "code",
   "execution_count": null,
   "metadata": {},
   "outputs": [],
   "source": []
  },
  {
   "cell_type": "markdown",
   "metadata": {},
   "source": [
    "# Comparing the Faux Data to the Original\n",
    "\n",
    "Any analysis you might be interested in can now be run on the faux data and you can expect the results.\n",
    "\n",
    "One of the numbers included in the stats is the so-called \"Challenge Rating\" (CR).  The meaning is detailed [here](https://www.reddit.com/r/DnD/comments/2egr5y/explaining_5e_cr/), but suffice it to say, it's a popular measure of the monster's dangerousness.\n",
    "\n",
    "One way to test our faux data is to make sure that the generated CR correlates to the generated monsters' stats in the same way that the real CR correlates to the real monsters' stats.  For this, we can use a linear regression.\n",
    "\n"
   ]
  },
  {
   "cell_type": "markdown",
   "metadata": {},
   "source": [
    "## Faux Data"
   ]
  },
  {
   "cell_type": "code",
   "execution_count": 33,
   "metadata": {},
   "outputs": [
    {
     "name": "stdout",
     "output_type": "stream",
     "text": [
      "                            OLS Regression Results                            \n",
      "==============================================================================\n",
      "Dep. Variable:                      y   R-squared:                       0.928\n",
      "Model:                            OLS   Adj. R-squared:                  0.928\n",
      "Method:                 Least Squares   F-statistic:                     2960.\n",
      "Date:                Fri, 07 Sep 2018   Prob (F-statistic):               0.00\n",
      "Time:                        10:42:44   Log-Likelihood:                -1542.4\n",
      "No. Observations:                 690   AIC:                             3091.\n",
      "Df Residuals:                     687   BIC:                             3104.\n",
      "Df Model:                           3                                         \n",
      "Covariance Type:            nonrobust                                         \n",
      "==============================================================================\n",
      "                 coef    std err          t      P>|t|      [0.025      0.975]\n",
      "------------------------------------------------------------------------------\n",
      "HP             0.0599      0.001     52.037      0.000       0.058       0.062\n",
      "STR           -0.1126      0.016     -7.006      0.000      -0.144      -0.081\n",
      "WIS            0.1617      0.018      9.003      0.000       0.126       0.197\n",
      "==============================================================================\n",
      "Omnibus:                       94.950   Durbin-Watson:                   2.030\n",
      "Prob(Omnibus):                  0.000   Jarque-Bera (JB):              454.870\n",
      "Skew:                           0.513   Prob(JB):                     1.68e-99\n",
      "Kurtosis:                       6.843   Cond. No.                         36.2\n",
      "==============================================================================\n",
      "\n",
      "Warnings:\n",
      "[1] Standard Errors assume that the covariance matrix of the errors is correctly specified.\n"
     ]
    }
   ],
   "source": [
    "import statsmodels.api as sm\n",
    "from fractions import Fraction\n",
    "import numpy\n",
    "#reg = linear_model.LinearRegression()\n",
    "\n",
    "y = [float(Fraction(xx))  if xx !='-' else 0.0 for xx in faux_df.CR]\n",
    "#X = faux_df.iloc[:,[xx in ['HP','AC','STR','DEX','INT','CON','WIS','CHA'] for xx in faux_df.columns]]\n",
    "X = faux_df.loc[:,[xx in ['HP','STR','WIS'] for xx in faux_df.columns]]\n",
    "#X = sm.add_constant(X)  \n",
    "\n",
    "M1 = sm.OLS(y,X)\n",
    "print(M1.fit().summary())"
   ]
  },
  {
   "cell_type": "markdown",
   "metadata": {},
   "source": [
    "## Real Data"
   ]
  },
  {
   "cell_type": "code",
   "execution_count": 38,
   "metadata": {},
   "outputs": [
    {
     "name": "stdout",
     "output_type": "stream",
     "text": [
      "                            OLS Regression Results                            \n",
      "==============================================================================\n",
      "Dep. Variable:                      y   R-squared:                       0.930\n",
      "Model:                            OLS   Adj. R-squared:                  0.930\n",
      "Method:                 Least Squares   F-statistic:                     3056.\n",
      "Date:                Fri, 07 Sep 2018   Prob (F-statistic):               0.00\n",
      "Time:                        10:46:11   Log-Likelihood:                -1521.2\n",
      "No. Observations:                 690   AIC:                             3048.\n",
      "Df Residuals:                     687   BIC:                             3062.\n",
      "Df Model:                           3                                         \n",
      "Covariance Type:            nonrobust                                         \n",
      "==============================================================================\n",
      "                 coef    std err          t      P>|t|      [0.025      0.975]\n",
      "------------------------------------------------------------------------------\n",
      "HP             0.0629      0.001     52.248      0.000       0.061       0.065\n",
      "STR           -0.1146      0.016     -7.269      0.000      -0.146      -0.084\n",
      "WIS            0.1579      0.017      9.075      0.000       0.124       0.192\n",
      "==============================================================================\n",
      "Omnibus:                      117.005   Durbin-Watson:                   1.041\n",
      "Prob(Omnibus):                  0.000   Jarque-Bera (JB):              955.600\n",
      "Skew:                           0.486   Prob(JB):                    3.12e-208\n",
      "Kurtosis:                       8.683   Cond. No.                         34.3\n",
      "==============================================================================\n",
      "\n",
      "Warnings:\n",
      "[1] Standard Errors assume that the covariance matrix of the errors is correctly specified.\n"
     ]
    }
   ],
   "source": [
    "import statsmodels.api as sm\n",
    "from fractions import Fraction\n",
    "import numpy\n",
    "\n",
    "df = df_preprocess(df)  # Use the same pre-processor used to generate the faux data\n",
    "\n",
    "\n",
    "y2 = [float(Fraction(xx))  if not np.isnan(xx) else 0 for xx in df.CR]\n",
    "#X2 = df.iloc[:,[xx in ['HP','AC','STR','DEX','INT','CON','WIS','CHA'] for xx in df.columns]]\n",
    "X2 = df.loc[:,[xx in ['HP','STR','WIS'] for xx in df.columns]]\n",
    "\n",
    "#X2 = sm.add_constant(X2)  \n",
    "X2.columns\n",
    "\n",
    "M2 = sm.OLS(y2,X2)\n",
    "print(M2.fit().summary())"
   ]
  },
  {
   "cell_type": "markdown",
   "metadata": {},
   "source": [
    "# Comparing Histograms"
   ]
  },
  {
   "cell_type": "code",
   "execution_count": 92,
   "metadata": {
    "collapsed": true
   },
   "outputs": [
    {
     "data": {
      "text/plain": [
       "(array([ 300.,  144.,   70.,   63.,   42.,   28.,   13.,   21.,    8.,    1.]),\n",
       " array([  0.,   3.,   6.,   9.,  12.,  15.,  18.,  21.,  24.,  27.,  30.]),\n",
       " <a list of 10 Patch objects>)"
      ]
     },
     "execution_count": 92,
     "metadata": {},
     "output_type": "execute_result"
    },
    {
     "data": {
      "image/png": "[encoded data removed]",
      "text/plain": [
       "<matplotlib.figure.Figure at 0x1c20a23f28>"
      ]
     },
     "metadata": {},
     "output_type": "display_data"
    }
   ],
   "source": [
    "%matplotlib inline\n",
    "plt.subplot(1,2,1)\n",
    "plt.hist(y)\n",
    "plt.subplot(1,2,2)\n",
    "plt.hist(y2)"
   ]
  },
  {
   "cell_type": "code",
   "execution_count": 114,
   "metadata": {},
   "outputs": [
    {
     "data": {
      "image/png": "[encoded data removed]",
      "text/plain": [
       "<matplotlib.figure.Figure at 0x1c2514d9b0>"
      ]
     },
     "metadata": {},
     "output_type": "display_data"
    }
   ],
   "source": [
    "numrows = 2#len(colz)\n",
    "\n",
    "for thiscol in enumerate(colz[0:2]):    \n",
    "    plt.subplot(numrows,2,2*thiscol[0]+1)\n",
    "    plt.hist(df[thiscol[1]])\n",
    "    plt.xlabel(thiscol[1]+' Real')\n",
    "    plt.subplot(numrows,2,2*thiscol[0]+2)\n",
    "    plt.hist(faux_df[thiscol[1]])\n",
    "    plt.xlabel(thiscol[1]+' Faux')\n",
    "    "
   ]
  },
  {
   "cell_type": "code",
   "execution_count": 110,
   "metadata": {},
   "outputs": [
    {
     "data": {
      "image/png": "[encoded data removed]",
      "text/plain": [
       "<matplotlib.figure.Figure at 0x1c2489d6a0>"
      ]
     },
     "metadata": {},
     "output_type": "display_data"
    }
   ],
   "source": [
    "for thiscol in enumerate(colz[3:]):    \n",
    "    plt.subplot(numrows,2,2*thiscol[0]+1)\n",
    "    plt.hist(df[thiscol[1]])\n",
    "    plt.subplot(numrows,2,2*thiscol[0]+2)\n",
    "    plt.hist(faux_df[thiscol[1]])"
   ]
  },
  {
   "cell_type": "code",
   "execution_count": 117,
   "metadata": {},
   "outputs": [
    {
     "ename": "KeyError",
     "evalue": "IndexError('indices are out-of-bounds',)",
     "output_type": "error",
     "traceback": [
      "\u001b[0;31m---------------------------------------------------------------------------\u001b[0m",
      "\u001b[0;31mIndexError\u001b[0m                                Traceback (most recent call last)",
      "\u001b[0;32m~/miniconda3/lib/python3.6/site-packages/pandas/core/indexing.py\u001b[0m in \u001b[0;36m_getbool_axis\u001b[0;34m(self, key, axis)\u001b[0m\n\u001b[1;32m   1390\u001b[0m         \u001b[0;32mtry\u001b[0m\u001b[0;34m:\u001b[0m\u001b[0;34m\u001b[0m\u001b[0m\n\u001b[0;32m-> 1391\u001b[0;31m             \u001b[0;32mreturn\u001b[0m \u001b[0mself\u001b[0m\u001b[0;34m.\u001b[0m\u001b[0mobj\u001b[0m\u001b[0;34m.\u001b[0m\u001b[0m_take\u001b[0m\u001b[0;34m(\u001b[0m\u001b[0minds\u001b[0m\u001b[0;34m,\u001b[0m \u001b[0maxis\u001b[0m\u001b[0;34m=\u001b[0m\u001b[0maxis\u001b[0m\u001b[0;34m,\u001b[0m \u001b[0mconvert\u001b[0m\u001b[0;34m=\u001b[0m\u001b[0;32mFalse\u001b[0m\u001b[0;34m)\u001b[0m\u001b[0;34m\u001b[0m\u001b[0m\n\u001b[0m\u001b[1;32m   1392\u001b[0m         \u001b[0;32mexcept\u001b[0m \u001b[0mException\u001b[0m \u001b[0;32mas\u001b[0m \u001b[0mdetail\u001b[0m\u001b[0;34m:\u001b[0m\u001b[0;34m\u001b[0m\u001b[0m\n",
      "\u001b[0;32m~/miniconda3/lib/python3.6/site-packages/pandas/core/generic.py\u001b[0m in \u001b[0;36m_take\u001b[0;34m(self, indices, axis, convert, is_copy)\u001b[0m\n\u001b[1;32m   2149\u001b[0m                                    \u001b[0maxis\u001b[0m\u001b[0;34m=\u001b[0m\u001b[0mself\u001b[0m\u001b[0;34m.\u001b[0m\u001b[0m_get_block_manager_axis\u001b[0m\u001b[0;34m(\u001b[0m\u001b[0maxis\u001b[0m\u001b[0;34m)\u001b[0m\u001b[0;34m,\u001b[0m\u001b[0;34m\u001b[0m\u001b[0m\n\u001b[0;32m-> 2150\u001b[0;31m                                    verify=True)\n\u001b[0m\u001b[1;32m   2151\u001b[0m         \u001b[0mresult\u001b[0m \u001b[0;34m=\u001b[0m \u001b[0mself\u001b[0m\u001b[0;34m.\u001b[0m\u001b[0m_constructor\u001b[0m\u001b[0;34m(\u001b[0m\u001b[0mnew_data\u001b[0m\u001b[0;34m)\u001b[0m\u001b[0;34m.\u001b[0m\u001b[0m__finalize__\u001b[0m\u001b[0;34m(\u001b[0m\u001b[0mself\u001b[0m\u001b[0;34m)\u001b[0m\u001b[0;34m\u001b[0m\u001b[0m\n",
      "\u001b[0;32m~/miniconda3/lib/python3.6/site-packages/pandas/core/internals.py\u001b[0m in \u001b[0;36mtake\u001b[0;34m(self, indexer, axis, verify, convert)\u001b[0m\n\u001b[1;32m   4249\u001b[0m         \u001b[0;32mif\u001b[0m \u001b[0mconvert\u001b[0m\u001b[0;34m:\u001b[0m\u001b[0;34m\u001b[0m\u001b[0m\n\u001b[0;32m-> 4250\u001b[0;31m             \u001b[0mindexer\u001b[0m \u001b[0;34m=\u001b[0m \u001b[0mmaybe_convert_indices\u001b[0m\u001b[0;34m(\u001b[0m\u001b[0mindexer\u001b[0m\u001b[0;34m,\u001b[0m \u001b[0mn\u001b[0m\u001b[0;34m)\u001b[0m\u001b[0;34m\u001b[0m\u001b[0m\n\u001b[0m\u001b[1;32m   4251\u001b[0m \u001b[0;34m\u001b[0m\u001b[0m\n",
      "\u001b[0;32m~/miniconda3/lib/python3.6/site-packages/pandas/core/indexing.py\u001b[0m in \u001b[0;36mmaybe_convert_indices\u001b[0;34m(indices, n)\u001b[0m\n\u001b[1;32m   2102\u001b[0m     \u001b[0;32mif\u001b[0m \u001b[0mmask\u001b[0m\u001b[0;34m.\u001b[0m\u001b[0many\u001b[0m\u001b[0;34m(\u001b[0m\u001b[0;34m)\u001b[0m\u001b[0;34m:\u001b[0m\u001b[0;34m\u001b[0m\u001b[0m\n\u001b[0;32m-> 2103\u001b[0;31m         \u001b[0;32mraise\u001b[0m \u001b[0mIndexError\u001b[0m\u001b[0;34m(\u001b[0m\u001b[0;34m\"indices are out-of-bounds\"\u001b[0m\u001b[0;34m)\u001b[0m\u001b[0;34m\u001b[0m\u001b[0m\n\u001b[0m\u001b[1;32m   2104\u001b[0m     \u001b[0;32mreturn\u001b[0m \u001b[0mindices\u001b[0m\u001b[0;34m\u001b[0m\u001b[0m\n",
      "\u001b[0;31mIndexError\u001b[0m: indices are out-of-bounds",
      "\nDuring handling of the above exception, another exception occurred:\n",
      "\u001b[0;31mKeyError\u001b[0m                                  Traceback (most recent call last)",
      "\u001b[0;32m<ipython-input-117-8e01f9e5dc91>\u001b[0m in \u001b[0;36m<module>\u001b[0;34m()\u001b[0m\n\u001b[1;32m     10\u001b[0m \u001b[0mplt\u001b[0m\u001b[0;34m.\u001b[0m\u001b[0mcolorbar\u001b[0m\u001b[0;34m(\u001b[0m\u001b[0;34m)\u001b[0m\u001b[0;34m\u001b[0m\u001b[0m\n\u001b[1;32m     11\u001b[0m \u001b[0mplt\u001b[0m\u001b[0;34m.\u001b[0m\u001b[0msubplot\u001b[0m\u001b[0;34m(\u001b[0m\u001b[0;36m1\u001b[0m\u001b[0;34m,\u001b[0m\u001b[0;36m2\u001b[0m\u001b[0;34m,\u001b[0m\u001b[0;36m2\u001b[0m\u001b[0;34m)\u001b[0m\u001b[0;34m\u001b[0m\u001b[0m\n\u001b[0;32m---> 12\u001b[0;31m \u001b[0mX4\u001b[0m \u001b[0;34m=\u001b[0m \u001b[0mfaux_df\u001b[0m\u001b[0;34m.\u001b[0m\u001b[0mloc\u001b[0m\u001b[0;34m[\u001b[0m\u001b[0;34m:\u001b[0m\u001b[0;34m,\u001b[0m\u001b[0;34m[\u001b[0m\u001b[0mxx\u001b[0m \u001b[0;32min\u001b[0m \u001b[0mcolz\u001b[0m \u001b[0;32mfor\u001b[0m \u001b[0mxx\u001b[0m \u001b[0;32min\u001b[0m \u001b[0mdf\u001b[0m\u001b[0;34m.\u001b[0m\u001b[0mcolumns\u001b[0m\u001b[0;34m]\u001b[0m\u001b[0;34m]\u001b[0m\u001b[0;34m\u001b[0m\u001b[0m\n\u001b[0m\u001b[1;32m     13\u001b[0m \u001b[0mf2\u001b[0m\u001b[0;34m=\u001b[0m\u001b[0mplt\u001b[0m\u001b[0;34m.\u001b[0m\u001b[0mimshow\u001b[0m\u001b[0;34m(\u001b[0m\u001b[0mnp\u001b[0m\u001b[0;34m.\u001b[0m\u001b[0mcorrcoef\u001b[0m\u001b[0;34m(\u001b[0m\u001b[0mX4\u001b[0m\u001b[0;34m.\u001b[0m\u001b[0mtranspose\u001b[0m\u001b[0;34m(\u001b[0m\u001b[0;34m)\u001b[0m\u001b[0;34m)\u001b[0m\u001b[0;34m,\u001b[0m\u001b[0mcmap\u001b[0m\u001b[0;34m=\u001b[0m\u001b[0;34m'copper'\u001b[0m\u001b[0;34m)\u001b[0m\u001b[0;34m\u001b[0m\u001b[0m\n\u001b[1;32m     14\u001b[0m \u001b[0mf2\u001b[0m\u001b[0;34m.\u001b[0m\u001b[0maxes\u001b[0m\u001b[0;34m.\u001b[0m\u001b[0mset_xticklabels\u001b[0m\u001b[0;34m(\u001b[0m\u001b[0mcolz\u001b[0m\u001b[0;34m)\u001b[0m\u001b[0;34m\u001b[0m\u001b[0m\n",
      "\u001b[0;32m~/miniconda3/lib/python3.6/site-packages/pandas/core/indexing.py\u001b[0m in \u001b[0;36m__getitem__\u001b[0;34m(self, key)\u001b[0m\n\u001b[1;32m   1365\u001b[0m             \u001b[0;32mexcept\u001b[0m \u001b[0;34m(\u001b[0m\u001b[0mKeyError\u001b[0m\u001b[0;34m,\u001b[0m \u001b[0mIndexError\u001b[0m\u001b[0;34m)\u001b[0m\u001b[0;34m:\u001b[0m\u001b[0;34m\u001b[0m\u001b[0m\n\u001b[1;32m   1366\u001b[0m                 \u001b[0;32mpass\u001b[0m\u001b[0;34m\u001b[0m\u001b[0m\n\u001b[0;32m-> 1367\u001b[0;31m             \u001b[0;32mreturn\u001b[0m \u001b[0mself\u001b[0m\u001b[0;34m.\u001b[0m\u001b[0m_getitem_tuple\u001b[0m\u001b[0;34m(\u001b[0m\u001b[0mkey\u001b[0m\u001b[0;34m)\u001b[0m\u001b[0;34m\u001b[0m\u001b[0m\n\u001b[0m\u001b[1;32m   1368\u001b[0m         \u001b[0;32melse\u001b[0m\u001b[0;34m:\u001b[0m\u001b[0;34m\u001b[0m\u001b[0m\n\u001b[1;32m   1369\u001b[0m             \u001b[0;31m# we by definition only have the 0th axis\u001b[0m\u001b[0;34m\u001b[0m\u001b[0;34m\u001b[0m\u001b[0m\n",
      "\u001b[0;32m~/miniconda3/lib/python3.6/site-packages/pandas/core/indexing.py\u001b[0m in \u001b[0;36m_getitem_tuple\u001b[0;34m(self, tup)\u001b[0m\n\u001b[1;32m    876\u001b[0m                 \u001b[0;32mcontinue\u001b[0m\u001b[0;34m\u001b[0m\u001b[0m\n\u001b[1;32m    877\u001b[0m \u001b[0;34m\u001b[0m\u001b[0m\n\u001b[0;32m--> 878\u001b[0;31m             \u001b[0mretval\u001b[0m \u001b[0;34m=\u001b[0m \u001b[0mgetattr\u001b[0m\u001b[0;34m(\u001b[0m\u001b[0mretval\u001b[0m\u001b[0;34m,\u001b[0m \u001b[0mself\u001b[0m\u001b[0;34m.\u001b[0m\u001b[0mname\u001b[0m\u001b[0;34m)\u001b[0m\u001b[0;34m.\u001b[0m\u001b[0m_getitem_axis\u001b[0m\u001b[0;34m(\u001b[0m\u001b[0mkey\u001b[0m\u001b[0;34m,\u001b[0m \u001b[0maxis\u001b[0m\u001b[0;34m=\u001b[0m\u001b[0mi\u001b[0m\u001b[0;34m)\u001b[0m\u001b[0;34m\u001b[0m\u001b[0m\n\u001b[0m\u001b[1;32m    879\u001b[0m \u001b[0;34m\u001b[0m\u001b[0m\n\u001b[1;32m    880\u001b[0m         \u001b[0;32mreturn\u001b[0m \u001b[0mretval\u001b[0m\u001b[0;34m\u001b[0m\u001b[0m\n",
      "\u001b[0;32m~/miniconda3/lib/python3.6/site-packages/pandas/core/indexing.py\u001b[0m in \u001b[0;36m_getitem_axis\u001b[0;34m(self, key, axis)\u001b[0m\n\u001b[1;32m   1581\u001b[0m             \u001b[0;32mreturn\u001b[0m \u001b[0mself\u001b[0m\u001b[0;34m.\u001b[0m\u001b[0m_get_slice_axis\u001b[0m\u001b[0;34m(\u001b[0m\u001b[0mkey\u001b[0m\u001b[0;34m,\u001b[0m \u001b[0maxis\u001b[0m\u001b[0;34m=\u001b[0m\u001b[0maxis\u001b[0m\u001b[0;34m)\u001b[0m\u001b[0;34m\u001b[0m\u001b[0m\n\u001b[1;32m   1582\u001b[0m         \u001b[0;32melif\u001b[0m \u001b[0mis_bool_indexer\u001b[0m\u001b[0;34m(\u001b[0m\u001b[0mkey\u001b[0m\u001b[0;34m)\u001b[0m\u001b[0;34m:\u001b[0m\u001b[0;34m\u001b[0m\u001b[0m\n\u001b[0;32m-> 1583\u001b[0;31m             \u001b[0;32mreturn\u001b[0m \u001b[0mself\u001b[0m\u001b[0;34m.\u001b[0m\u001b[0m_getbool_axis\u001b[0m\u001b[0;34m(\u001b[0m\u001b[0mkey\u001b[0m\u001b[0;34m,\u001b[0m \u001b[0maxis\u001b[0m\u001b[0;34m=\u001b[0m\u001b[0maxis\u001b[0m\u001b[0;34m)\u001b[0m\u001b[0;34m\u001b[0m\u001b[0m\n\u001b[0m\u001b[1;32m   1584\u001b[0m         \u001b[0;32melif\u001b[0m \u001b[0mis_list_like_indexer\u001b[0m\u001b[0;34m(\u001b[0m\u001b[0mkey\u001b[0m\u001b[0;34m)\u001b[0m\u001b[0;34m:\u001b[0m\u001b[0;34m\u001b[0m\u001b[0m\n\u001b[1;32m   1585\u001b[0m \u001b[0;34m\u001b[0m\u001b[0m\n",
      "\u001b[0;32m~/miniconda3/lib/python3.6/site-packages/pandas/core/indexing.py\u001b[0m in \u001b[0;36m_getbool_axis\u001b[0;34m(self, key, axis)\u001b[0m\n\u001b[1;32m   1391\u001b[0m             \u001b[0;32mreturn\u001b[0m \u001b[0mself\u001b[0m\u001b[0;34m.\u001b[0m\u001b[0mobj\u001b[0m\u001b[0;34m.\u001b[0m\u001b[0m_take\u001b[0m\u001b[0;34m(\u001b[0m\u001b[0minds\u001b[0m\u001b[0;34m,\u001b[0m \u001b[0maxis\u001b[0m\u001b[0;34m=\u001b[0m\u001b[0maxis\u001b[0m\u001b[0;34m,\u001b[0m \u001b[0mconvert\u001b[0m\u001b[0;34m=\u001b[0m\u001b[0;32mFalse\u001b[0m\u001b[0;34m)\u001b[0m\u001b[0;34m\u001b[0m\u001b[0m\n\u001b[1;32m   1392\u001b[0m         \u001b[0;32mexcept\u001b[0m \u001b[0mException\u001b[0m \u001b[0;32mas\u001b[0m \u001b[0mdetail\u001b[0m\u001b[0;34m:\u001b[0m\u001b[0;34m\u001b[0m\u001b[0m\n\u001b[0;32m-> 1393\u001b[0;31m             \u001b[0;32mraise\u001b[0m \u001b[0mself\u001b[0m\u001b[0;34m.\u001b[0m\u001b[0m_exception\u001b[0m\u001b[0;34m(\u001b[0m\u001b[0mdetail\u001b[0m\u001b[0;34m)\u001b[0m\u001b[0;34m\u001b[0m\u001b[0m\n\u001b[0m\u001b[1;32m   1394\u001b[0m \u001b[0;34m\u001b[0m\u001b[0m\n\u001b[1;32m   1395\u001b[0m     \u001b[0;32mdef\u001b[0m \u001b[0m_get_slice_axis\u001b[0m\u001b[0;34m(\u001b[0m\u001b[0mself\u001b[0m\u001b[0;34m,\u001b[0m \u001b[0mslice_obj\u001b[0m\u001b[0;34m,\u001b[0m \u001b[0maxis\u001b[0m\u001b[0;34m=\u001b[0m\u001b[0;32mNone\u001b[0m\u001b[0;34m)\u001b[0m\u001b[0;34m:\u001b[0m\u001b[0;34m\u001b[0m\u001b[0m\n",
      "\u001b[0;31mKeyError\u001b[0m: IndexError('indices are out-of-bounds',)"
     ]
    },
    {
     "data": {
      "image/png": "[encoded data removed]",
      "text/plain": [
       "<matplotlib.figure.Figure at 0x1c25957860>"
      ]
     },
     "metadata": {},
     "output_type": "display_data"
    }
   ],
   "source": [
    "#colz = ['CR','HP','AC','STR','DEX','INT','CON','WIS','CHA']\n",
    "colz = ['STR','DEX','CON','INT','WIS','CHA']\n",
    "X3 = df.iloc[:,[xx in colz for xx in df.columns]]\n",
    "plt.subplot(1,2,1)\n",
    "f1=plt.imshow(np.corrcoef(X3.transpose()),cmap='copper')\n",
    "f1.axes.set_xticklabels(colz)\n",
    "f1.axes.set_xticks(range(len(colz)))\n",
    "f1.axes.set_yticklabels(colz)\n",
    "f1.axes.set_yticks(range(len(colz)))\n",
    "plt.colorbar()\n",
    "plt.subplot(1,2,2)\n",
    "X4 = faux_df.loc[:,[xx in colz for xx in df.columns]]\n",
    "f2=plt.imshow(np.corrcoef(X4.transpose()),cmap='copper')\n",
    "f2.axes.set_xticklabels(colz)\n",
    "f2.axes.set_xticks(range(len(colz)))\n",
    "f2.axes.set_yticklabels(colz)\n",
    "f2.axes.set_yticks(range(len(colz)))\n",
    "\n",
    "plt.colorbar()"
   ]
  },
  {
   "cell_type": "code",
   "execution_count": 121,
   "metadata": {},
   "outputs": [
    {
     "data": {
      "text/plain": [
       "(array([   6.,   10.,   48.,  139.,  255.,  178.,   32.,   16.,    3.,    3.]),\n",
       " array([  1. ,   3.7,   6.4,   9.1,  11.8,  14.5,  17.2,  19.9,  22.6,\n",
       "         25.3,  28. ]),\n",
       " <a list of 10 Patch objects>)"
      ]
     },
     "execution_count": 121,
     "metadata": {},
     "output_type": "execute_result"
    },
    {
     "data": {
      "image/png": "[encoded data removed]",
      "text/plain": [
       "<matplotlib.figure.Figure at 0x1c244e4940>"
      ]
     },
     "metadata": {},
     "output_type": "display_data"
    }
   ],
   "source": [
    "plt.hist(df.DEX)"
   ]
  },
  {
   "cell_type": "code",
   "execution_count": 122,
   "metadata": {},
   "outputs": [
    {
     "data": {
      "text/plain": [
       "(array([  34.,   34.,   56.,  103.,  114.,  165.,   89.,   46.,   27.,   22.]),\n",
       " array([  1. ,   3.9,   6.8,   9.7,  12.6,  15.5,  18.4,  21.3,  24.2,\n",
       "         27.1,  30. ]),\n",
       " <a list of 10 Patch objects>)"
      ]
     },
     "execution_count": 122,
     "metadata": {},
     "output_type": "execute_result"
    },
    {
     "data": {
      "image/png": "[encoded data removed]",
      "text/plain": [
       "<matplotlib.figure.Figure at 0x1c255861d0>"
      ]
     },
     "metadata": {},
     "output_type": "display_data"
    }
   ],
   "source": [
    "plt.hist(df.STR)"
   ]
  },
  {
   "cell_type": "code",
   "execution_count": 123,
   "metadata": {},
   "outputs": [
    {
     "data": {
      "text/plain": [
       "(array([   1.,   11.,   99.,  145.,  214.,  100.,   58.,   31.,   23.,    8.]),\n",
       " array([  3. ,   5.7,   8.4,  11.1,  13.8,  16.5,  19.2,  21.9,  24.6,\n",
       "         27.3,  30. ]),\n",
       " <a list of 10 Patch objects>)"
      ]
     },
     "execution_count": 123,
     "metadata": {},
     "output_type": "execute_result"
    },
    {
     "data": {
      "image/png": "[encoded data removed]",
      "text/plain": [
       "<matplotlib.figure.Figure at 0x1c24116a58>"
      ]
     },
     "metadata": {},
     "output_type": "display_data"
    }
   ],
   "source": [
    "plt.hist(df.CON)"
   ]
  },
  {
   "cell_type": "code",
   "execution_count": 124,
   "metadata": {},
   "outputs": [
    {
     "data": {
      "text/plain": [
       "(array([ 158.,   52.,  100.,   88.,  121.,   53.,   71.,   28.,   14.,    5.]),\n",
       " array([  1. ,   3.5,   6. ,   8.5,  11. ,  13.5,  16. ,  18.5,  21. ,\n",
       "         23.5,  26. ]),\n",
       " <a list of 10 Patch objects>)"
      ]
     },
     "execution_count": 124,
     "metadata": {},
     "output_type": "execute_result"
    },
    {
     "data": {
      "image/png": "[encoded data removed]",
      "text/plain": [
       "<matplotlib.figure.Figure at 0x1c251a13c8>"
      ]
     },
     "metadata": {},
     "output_type": "display_data"
    }
   ],
   "source": [
    "plt.hist(df.INT)\n"
   ]
  },
  {
   "cell_type": "code",
   "execution_count": 125,
   "metadata": {},
   "outputs": [
    {
     "data": {
      "text/plain": [
       "(array([   5.,   18.,   51.,  230.,  191.,  131.,   37.,   15.,   10.,    2.]),\n",
       " array([  1. ,   3.6,   6.2,   8.8,  11.4,  14. ,  16.6,  19.2,  21.8,\n",
       "         24.4,  27. ]),\n",
       " <a list of 10 Patch objects>)"
      ]
     },
     "execution_count": 125,
     "metadata": {},
     "output_type": "execute_result"
    },
    {
     "data": {
      "image/png": "[encoded data removed]",
      "text/plain": [
       "<matplotlib.figure.Figure at 0x1c24cbc470>"
      ]
     },
     "metadata": {},
     "output_type": "display_data"
    }
   ],
   "source": [
    "plt.hist(df.WIS)"
   ]
  },
  {
   "cell_type": "code",
   "execution_count": 126,
   "metadata": {},
   "outputs": [
    {
     "data": {
      "text/plain": [
       "(array([  58.,  120.,  140.,  132.,   89.,   91.,   35.,   13.,    9.,    3.]),\n",
       " array([  1. ,   3.9,   6.8,   9.7,  12.6,  15.5,  18.4,  21.3,  24.2,\n",
       "         27.1,  30. ]),\n",
       " <a list of 10 Patch objects>)"
      ]
     },
     "execution_count": 126,
     "metadata": {},
     "output_type": "execute_result"
    },
    {
     "data": {
      "image/png": "[encoded data removed]",
      "text/plain": [
       "<matplotlib.figure.Figure at 0x1c2459d080>"
      ]
     },
     "metadata": {},
     "output_type": "display_data"
    }
   ],
   "source": [
    "plt.hist(df.CHA)"
   ]
  },
  {
   "cell_type": "code",
   "execution_count": null,
   "metadata": {},
   "outputs": [],
   "source": []
  }
 ],
 "metadata": {
  "kernelspec": {
   "display_name": "Python 3",
   "language": "python",
   "name": "python3"
  },
  "language_info": {
   "codemirror_mode": {
    "name": "ipython",
    "version": 3
   },
   "file_extension": ".py",
   "mimetype": "text/x-python",
   "name": "python",
   "nbconvert_exporter": "python",
   "pygments_lexer": "ipython3",
   "version": "3.6.3"
  }
 },
 "nbformat": 4,
 "nbformat_minor": 2
}
