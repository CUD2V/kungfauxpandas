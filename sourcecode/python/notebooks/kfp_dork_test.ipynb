{
 "cells": [
  {
   "cell_type": "markdown",
   "metadata": {},
   "source": [
    "# Forever Monsterous:  A Kung Faux Pandas Tutorial"
   ]
  },
  {
   "cell_type": "markdown",
   "metadata": {},
   "source": [
    "Kung Faux Pandas (KFP) is a set of tools which extends the [Pandas](https://pandas.pydata.org/ \"Pandas Homepage\") dataframe to include some tools for generating synthetic data.\n",
    "\n",
    "There are many reasons to create synthetic data, but KFP assumes the reason is to give a statistical analyst \"realistic\" data, which we term _faux_ data, without exposing the real dataset.   \n",
    "Details on the tools and how to install them are available on the [KFP github repository] (https://github.com/CUD2V/kungfauxpandas).\n",
    "\n",
    "This tutorial assumes you have installed KFP as well as some standard data science tools, such as numpy, scipy, and matplotlib."
   ]
  },
  {
   "cell_type": "markdown",
   "metadata": {},
   "source": [
    "## Chapter 1:  The Problem"
   ]
  },
  {
   "cell_type": "markdown",
   "metadata": {},
   "source": [
    "Monsters are a tricky lot.   They have widely varying statistics and capabilities and many have spent centuries building up their reputations in order to disuade adventurers from invading their spaces.  The smarter varieties of monsters have retained good lawyers through the ages, and it in most jurisdictions it's actually illegal to publish the \"personal\" data on any monster.\n",
    "\n",
    "Of course, we would like to study the monsters without violating their privacy rights.   KFP can help this problem!\n",
    "\n",
    "1. Generate a fake data set based on the real stuff\n",
    "2. Work out all steps necessary to clean the data up\n",
    "3. Code the data cleaning steps into a function\n",
    "4. Re-run the data generation using the data cleaner\n",
    "5. Get a clean, synthetic data set to study\n",
    "6. Have a trusted agent (DM?) run your study code on the real data and deliver you the results.\n",
    "\n"
   ]
  },
  {
   "cell_type": "code",
   "execution_count": 1,
   "metadata": {},
   "outputs": [],
   "source": [
    "import sqlite3\n",
    "import pandas as pd\n",
    "import numpy as np\n",
    "import scipy as sp\n",
    "import scipy.stats as stats\n",
    "import pylab as plt\n",
    "from collections import Counter\n",
    "import datetime\n",
    "import sys\n",
    "sys.path.append('../')\n",
    "sys.path.append('../../../plugins/DataSynthesizer/DataSynthesizer/')\n",
    "sys.path.append('../../../plugins/DataSynthesizer/')\n",
    "from importlib import reload\n",
    "from kungfauxpandas import KungFauxPandas, TrivialPlugin, DataSynthesizerPlugin, KDEPlugin\n",
    "from fractions import Fraction\n",
    "%matplotlib inline"
   ]
  },
  {
   "cell_type": "markdown",
   "metadata": {},
   "source": [
    "# Step 0:  Get the real data\n",
    "This scenario models one in which the monsters' private data is unavailable to us as researchers.  We assume there would be a trusted intermediary who could hold the real data and run the processing for us.\n",
    "\n",
    "\n",
    "\n"
   ]
  },
  {
   "cell_type": "code",
   "execution_count": 2,
   "metadata": {},
   "outputs": [
    {
     "data": {
      "text/html": [
       "<div>\n",
       "<style scoped>\n",
       "    .dataframe tbody tr th:only-of-type {\n",
       "        vertical-align: middle;\n",
       "    }\n",
       "\n",
       "    .dataframe tbody tr th {\n",
       "        vertical-align: top;\n",
       "    }\n",
       "\n",
       "    .dataframe thead th {\n",
       "        text-align: right;\n",
       "    }\n",
       "</style>\n",
       "<table border=\"1\" class=\"dataframe\">\n",
       "  <thead>\n",
       "    <tr style=\"text-align: right;\">\n",
       "      <th></th>\n",
       "      <th>Name</th>\n",
       "      <th>Type</th>\n",
       "      <th>ALIGNMENT</th>\n",
       "      <th>Size</th>\n",
       "      <th>CR</th>\n",
       "      <th>AC</th>\n",
       "      <th>HP</th>\n",
       "      <th>STR</th>\n",
       "      <th>DEX</th>\n",
       "      <th>CON</th>\n",
       "      <th>INT</th>\n",
       "      <th>WIS</th>\n",
       "      <th>CHA</th>\n",
       "    </tr>\n",
       "  </thead>\n",
       "  <tbody>\n",
       "    <tr>\n",
       "      <th>201</th>\n",
       "      <td>Copper Dragon, Adult</td>\n",
       "      <td>Dragon</td>\n",
       "      <td>CG</td>\n",
       "      <td>Huge</td>\n",
       "      <td>14</td>\n",
       "      <td>18</td>\n",
       "      <td>184</td>\n",
       "      <td>23</td>\n",
       "      <td>12</td>\n",
       "      <td>21</td>\n",
       "      <td>18</td>\n",
       "      <td>15</td>\n",
       "      <td>17.0</td>\n",
       "    </tr>\n",
       "    <tr>\n",
       "      <th>70</th>\n",
       "      <td>Giant Vulture</td>\n",
       "      <td>Beast</td>\n",
       "      <td>NE</td>\n",
       "      <td>Large</td>\n",
       "      <td>1</td>\n",
       "      <td>10</td>\n",
       "      <td>22</td>\n",
       "      <td>15</td>\n",
       "      <td>10</td>\n",
       "      <td>15</td>\n",
       "      <td>6</td>\n",
       "      <td>12</td>\n",
       "      <td>7.0</td>\n",
       "    </tr>\n",
       "    <tr>\n",
       "      <th>496</th>\n",
       "      <td>Kobold Dragonshield</td>\n",
       "      <td>Humanoid</td>\n",
       "      <td>LE</td>\n",
       "      <td>Small</td>\n",
       "      <td>1</td>\n",
       "      <td>15</td>\n",
       "      <td>44</td>\n",
       "      <td>12</td>\n",
       "      <td>15</td>\n",
       "      <td>14</td>\n",
       "      <td>8</td>\n",
       "      <td>9</td>\n",
       "      <td>10.0</td>\n",
       "    </tr>\n",
       "    <tr>\n",
       "      <th>268</th>\n",
       "      <td>Annis Hag</td>\n",
       "      <td>Fey</td>\n",
       "      <td>CE</td>\n",
       "      <td>Large</td>\n",
       "      <td>6</td>\n",
       "      <td>17</td>\n",
       "      <td>75</td>\n",
       "      <td>21</td>\n",
       "      <td>12</td>\n",
       "      <td>14</td>\n",
       "      <td>13</td>\n",
       "      <td>14</td>\n",
       "      <td>15.0</td>\n",
       "    </tr>\n",
       "    <tr>\n",
       "      <th>474</th>\n",
       "      <td>Githzerai Monk</td>\n",
       "      <td>Humanoid</td>\n",
       "      <td>LN</td>\n",
       "      <td>Medium</td>\n",
       "      <td>2</td>\n",
       "      <td>14</td>\n",
       "      <td>38</td>\n",
       "      <td>12</td>\n",
       "      <td>15</td>\n",
       "      <td>12</td>\n",
       "      <td>13</td>\n",
       "      <td>14</td>\n",
       "      <td>10.0</td>\n",
       "    </tr>\n",
       "    <tr>\n",
       "      <th>557</th>\n",
       "      <td>Abominable Yeti</td>\n",
       "      <td>Monstrosity</td>\n",
       "      <td>CE</td>\n",
       "      <td>Huge</td>\n",
       "      <td>9</td>\n",
       "      <td>15</td>\n",
       "      <td>137</td>\n",
       "      <td>24</td>\n",
       "      <td>10</td>\n",
       "      <td>22</td>\n",
       "      <td>9</td>\n",
       "      <td>13</td>\n",
       "      <td>9.0</td>\n",
       "    </tr>\n",
       "    <tr>\n",
       "      <th>296</th>\n",
       "      <td>Night Hag</td>\n",
       "      <td>Fiend</td>\n",
       "      <td>NE</td>\n",
       "      <td>Medium</td>\n",
       "      <td>5</td>\n",
       "      <td>17</td>\n",
       "      <td>112</td>\n",
       "      <td>18</td>\n",
       "      <td>15</td>\n",
       "      <td>16</td>\n",
       "      <td>16</td>\n",
       "      <td>14</td>\n",
       "      <td>16.0</td>\n",
       "    </tr>\n",
       "    <tr>\n",
       "      <th>541</th>\n",
       "      <td>Commoner</td>\n",
       "      <td>Humanoid</td>\n",
       "      <td>ANY</td>\n",
       "      <td>Medium</td>\n",
       "      <td>0</td>\n",
       "      <td>10</td>\n",
       "      <td>4</td>\n",
       "      <td>10</td>\n",
       "      <td>10</td>\n",
       "      <td>10</td>\n",
       "      <td>10</td>\n",
       "      <td>10</td>\n",
       "      <td>10.0</td>\n",
       "    </tr>\n",
       "    <tr>\n",
       "      <th>335</th>\n",
       "      <td>Rutterkin</td>\n",
       "      <td>Fiend (Demon)</td>\n",
       "      <td>CE</td>\n",
       "      <td>Medium</td>\n",
       "      <td>2</td>\n",
       "      <td>12</td>\n",
       "      <td>37</td>\n",
       "      <td>14</td>\n",
       "      <td>15</td>\n",
       "      <td>17</td>\n",
       "      <td>5</td>\n",
       "      <td>12</td>\n",
       "      <td>6.0</td>\n",
       "    </tr>\n",
       "    <tr>\n",
       "      <th>49</th>\n",
       "      <td>Killer Whale</td>\n",
       "      <td>Beast</td>\n",
       "      <td>U</td>\n",
       "      <td>Huge</td>\n",
       "      <td>3</td>\n",
       "      <td>12</td>\n",
       "      <td>90</td>\n",
       "      <td>19</td>\n",
       "      <td>10</td>\n",
       "      <td>13</td>\n",
       "      <td>3</td>\n",
       "      <td>12</td>\n",
       "      <td>7.0</td>\n",
       "    </tr>\n",
       "  </tbody>\n",
       "</table>\n",
       "</div>"
      ],
      "text/plain": [
       "                     Name           Type ALIGNMENT    Size  CR  AC   HP  STR  \\\n",
       "201  Copper Dragon, Adult         Dragon        CG    Huge  14  18  184   23   \n",
       "70          Giant Vulture          Beast        NE   Large   1  10   22   15   \n",
       "496   Kobold Dragonshield       Humanoid        LE   Small   1  15   44   12   \n",
       "268             Annis Hag            Fey        CE   Large   6  17   75   21   \n",
       "474        Githzerai Monk       Humanoid        LN  Medium   2  14   38   12   \n",
       "557       Abominable Yeti    Monstrosity        CE    Huge   9  15  137   24   \n",
       "296             Night Hag          Fiend        NE  Medium   5  17  112   18   \n",
       "541              Commoner       Humanoid       ANY  Medium   0  10    4   10   \n",
       "335             Rutterkin  Fiend (Demon)        CE  Medium   2  12   37   14   \n",
       "49           Killer Whale          Beast         U    Huge   3  12   90   19   \n",
       "\n",
       "     DEX  CON  INT  WIS   CHA  \n",
       "201   12   21   18   15  17.0  \n",
       "70    10   15    6   12   7.0  \n",
       "496   15   14    8    9  10.0  \n",
       "268   12   14   13   14  15.0  \n",
       "474   15   12   13   14  10.0  \n",
       "557   10   22    9   13   9.0  \n",
       "296   15   16   16   14  16.0  \n",
       "541   10   10   10   10  10.0  \n",
       "335   15   17    5   12   6.0  \n",
       "49    10   13    3   12   7.0  "
      ]
     },
     "execution_count": 2,
     "metadata": {},
     "output_type": "execute_result"
    }
   ],
   "source": [
    "# Data from: https://docs.google.com/spreadsheets/d/1FIjaz6S0JXrXaCVhHEDeq-nH7xHzlqAx6inuRbDjhjU/edit#gid=1346812326\n",
    "# Other fun data: https://docs.google.com/spreadsheets/d/16ajgJpvUI0wYcSU7kjHutw8oB6Zv6eIAo5JtI6PLvu8/edit#gid=776794522\n",
    "monsterfile = \"../../../data/D&D 5e Monster List with Ability Scores.xlsx - Monsters by Ability Score.csv\"\n",
    "df = pd.read_csv(monsterfile)\n",
    "df.sample(10)"
   ]
  },
  {
   "cell_type": "markdown",
   "metadata": {},
   "source": [
    "## Step 1: Grab round 1 of the fake data"
   ]
  },
  {
   "cell_type": "code",
   "execution_count": 3,
   "metadata": {},
   "outputs": [
    {
     "name": "stdout",
     "output_type": "stream",
     "text": [
      "Preprocess None\n",
      "Building KDE Covariate Model\n"
     ]
    },
    {
     "name": "stderr",
     "output_type": "stream",
     "text": [
      "../kungfauxpandas.py:373: UserWarning: capture_covariance has been deprecated in favor of mode\n",
      "  warnings.warn('capture_covariance has been deprecated in favor of mode')\n"
     ]
    }
   ],
   "source": [
    "# Don't need Name for this analysis\n",
    "df.drop('Name', axis=1, inplace=True)\n",
    "\n",
    "# Instantiate KFP object\n",
    "kfpd = KungFauxPandas(plugin=KDEPlugin(),\n",
    "                      logging='../../../data/kfp_log.db',\n",
    "                      db_file='../../../data/monsters.db')\n",
    "\n",
    "# Ensure KFP object has the options we want\n",
    "kfpd.plugin.capture_covariance = True  # models how the stats interact with each other\n",
    "kfpd.plugin.determine_factors =  True  # make a judgement about whether a measure is numeric or categorical\n",
    "\n",
    "# Generate the Fake data\n",
    "kfpd.plugin.fauxify(df_in=df, refactorize=False)\n",
    "\n",
    "# Do some renames to improve readability\n",
    "faux_df = kfpd.plugin.df_out\n",
    "factor_indices = kfpd.plugin.factor_indices\n"
   ]
  },
  {
   "cell_type": "markdown",
   "metadata": {},
   "source": [
    "\n",
    "Now we have fake data! It still needs some work, though.\n",
    "\n",
    "# Step 2: EDA and Data Cleanup"
   ]
  },
  {
   "cell_type": "code",
   "execution_count": 4,
   "metadata": {},
   "outputs": [
    {
     "data": {
      "text/html": [
       "<div>\n",
       "<style scoped>\n",
       "    .dataframe tbody tr th:only-of-type {\n",
       "        vertical-align: middle;\n",
       "    }\n",
       "\n",
       "    .dataframe tbody tr th {\n",
       "        vertical-align: top;\n",
       "    }\n",
       "\n",
       "    .dataframe thead th {\n",
       "        text-align: right;\n",
       "    }\n",
       "</style>\n",
       "<table border=\"1\" class=\"dataframe\">\n",
       "  <thead>\n",
       "    <tr style=\"text-align: right;\">\n",
       "      <th></th>\n",
       "      <th>Type</th>\n",
       "      <th>ALIGNMENT</th>\n",
       "      <th>Size</th>\n",
       "      <th>CR</th>\n",
       "      <th>AC</th>\n",
       "      <th>HP</th>\n",
       "      <th>STR</th>\n",
       "      <th>DEX</th>\n",
       "      <th>CON</th>\n",
       "      <th>INT</th>\n",
       "      <th>WIS</th>\n",
       "      <th>CHA</th>\n",
       "    </tr>\n",
       "  </thead>\n",
       "  <tbody>\n",
       "    <tr>\n",
       "      <th>268</th>\n",
       "      <td>0.965100</td>\n",
       "      <td>7.042135</td>\n",
       "      <td>0.991315</td>\n",
       "      <td>14.039670</td>\n",
       "      <td>10.974397</td>\n",
       "      <td>18.669779</td>\n",
       "      <td>17.974173</td>\n",
       "      <td>12.004202</td>\n",
       "      <td>12.997251</td>\n",
       "      <td>2.011924</td>\n",
       "      <td>12.005775</td>\n",
       "      <td>7.011680</td>\n",
       "    </tr>\n",
       "    <tr>\n",
       "      <th>5</th>\n",
       "      <td>8.052980</td>\n",
       "      <td>-0.019494</td>\n",
       "      <td>1.023507</td>\n",
       "      <td>7.920466</td>\n",
       "      <td>15.032754</td>\n",
       "      <td>84.941164</td>\n",
       "      <td>15.072528</td>\n",
       "      <td>14.990890</td>\n",
       "      <td>12.045342</td>\n",
       "      <td>11.026358</td>\n",
       "      <td>14.046396</td>\n",
       "      <td>9.998679</td>\n",
       "    </tr>\n",
       "    <tr>\n",
       "      <th>579</th>\n",
       "      <td>8.009323</td>\n",
       "      <td>0.067638</td>\n",
       "      <td>5.000185</td>\n",
       "      <td>28.009377</td>\n",
       "      <td>21.973006</td>\n",
       "      <td>405.954607</td>\n",
       "      <td>28.987820</td>\n",
       "      <td>13.925441</td>\n",
       "      <td>25.960934</td>\n",
       "      <td>20.062875</td>\n",
       "      <td>17.025716</td>\n",
       "      <td>25.029498</td>\n",
       "    </tr>\n",
       "    <tr>\n",
       "      <th>569</th>\n",
       "      <td>10.955594</td>\n",
       "      <td>0.016342</td>\n",
       "      <td>1.003735</td>\n",
       "      <td>11.973446</td>\n",
       "      <td>11.023183</td>\n",
       "      <td>59.903433</td>\n",
       "      <td>19.090250</td>\n",
       "      <td>7.962934</td>\n",
       "      <td>16.019966</td>\n",
       "      <td>4.936757</td>\n",
       "      <td>6.963455</td>\n",
       "      <td>6.955865</td>\n",
       "    </tr>\n",
       "    <tr>\n",
       "      <th>175</th>\n",
       "      <td>12.861476</td>\n",
       "      <td>1.107153</td>\n",
       "      <td>0.024186</td>\n",
       "      <td>12.036720</td>\n",
       "      <td>12.030504</td>\n",
       "      <td>34.260790</td>\n",
       "      <td>13.102753</td>\n",
       "      <td>10.992665</td>\n",
       "      <td>12.055019</td>\n",
       "      <td>11.965211</td>\n",
       "      <td>13.987507</td>\n",
       "      <td>13.006140</td>\n",
       "    </tr>\n",
       "  </tbody>\n",
       "</table>\n",
       "</div>"
      ],
      "text/plain": [
       "          Type  ALIGNMENT      Size         CR         AC          HP  \\\n",
       "268   0.965100   7.042135  0.991315  14.039670  10.974397   18.669779   \n",
       "5     8.052980  -0.019494  1.023507   7.920466  15.032754   84.941164   \n",
       "579   8.009323   0.067638  5.000185  28.009377  21.973006  405.954607   \n",
       "569  10.955594   0.016342  1.003735  11.973446  11.023183   59.903433   \n",
       "175  12.861476   1.107153  0.024186  12.036720  12.030504   34.260790   \n",
       "\n",
       "           STR        DEX        CON        INT        WIS        CHA  \n",
       "268  17.974173  12.004202  12.997251   2.011924  12.005775   7.011680  \n",
       "5    15.072528  14.990890  12.045342  11.026358  14.046396   9.998679  \n",
       "579  28.987820  13.925441  25.960934  20.062875  17.025716  25.029498  \n",
       "569  19.090250   7.962934  16.019966   4.936757   6.963455   6.955865  \n",
       "175  13.102753  10.992665  12.055019  11.965211  13.987507  13.006140  "
      ]
     },
     "execution_count": 4,
     "metadata": {},
     "output_type": "execute_result"
    }
   ],
   "source": [
    "faux_df.sample(5)"
   ]
  },
  {
   "cell_type": "markdown",
   "metadata": {},
   "source": [
    "Since we seleccted the KDE plugin, this data was generated with a Gaussian Kernel Density Estimator, which assumes that the samples come from a continuous distribution.   That is, numbers like Hit Points (HP) are assumed to take any decimal value.    Due to our domain expertise, however, we know that these numbers really should all be integers.    One could generate a more complex simulation model or just round off our fake data.   "
   ]
  },
  {
   "cell_type": "code",
   "execution_count": 5,
   "metadata": {},
   "outputs": [
    {
     "data": {
      "text/html": [
       "<div>\n",
       "<style scoped>\n",
       "    .dataframe tbody tr th:only-of-type {\n",
       "        vertical-align: middle;\n",
       "    }\n",
       "\n",
       "    .dataframe tbody tr th {\n",
       "        vertical-align: top;\n",
       "    }\n",
       "\n",
       "    .dataframe thead th {\n",
       "        text-align: right;\n",
       "    }\n",
       "</style>\n",
       "<table border=\"1\" class=\"dataframe\">\n",
       "  <thead>\n",
       "    <tr style=\"text-align: right;\">\n",
       "      <th></th>\n",
       "      <th>Type</th>\n",
       "      <th>ALIGNMENT</th>\n",
       "      <th>Size</th>\n",
       "      <th>CR</th>\n",
       "      <th>AC</th>\n",
       "      <th>HP</th>\n",
       "      <th>STR</th>\n",
       "      <th>DEX</th>\n",
       "      <th>CON</th>\n",
       "      <th>INT</th>\n",
       "      <th>WIS</th>\n",
       "      <th>CHA</th>\n",
       "    </tr>\n",
       "  </thead>\n",
       "  <tbody>\n",
       "    <tr>\n",
       "      <th>354</th>\n",
       "      <td>6</td>\n",
       "      <td>0</td>\n",
       "      <td>0</td>\n",
       "      <td>12</td>\n",
       "      <td>14</td>\n",
       "      <td>52</td>\n",
       "      <td>16</td>\n",
       "      <td>13</td>\n",
       "      <td>16</td>\n",
       "      <td>12</td>\n",
       "      <td>12</td>\n",
       "      <td>13</td>\n",
       "    </tr>\n",
       "    <tr>\n",
       "      <th>680</th>\n",
       "      <td>13</td>\n",
       "      <td>1</td>\n",
       "      <td>0</td>\n",
       "      <td>6</td>\n",
       "      <td>18</td>\n",
       "      <td>91</td>\n",
       "      <td>16</td>\n",
       "      <td>14</td>\n",
       "      <td>15</td>\n",
       "      <td>14</td>\n",
       "      <td>14</td>\n",
       "      <td>15</td>\n",
       "    </tr>\n",
       "    <tr>\n",
       "      <th>224</th>\n",
       "      <td>13</td>\n",
       "      <td>5</td>\n",
       "      <td>0</td>\n",
       "      <td>4</td>\n",
       "      <td>18</td>\n",
       "      <td>112</td>\n",
       "      <td>14</td>\n",
       "      <td>19</td>\n",
       "      <td>16</td>\n",
       "      <td>17</td>\n",
       "      <td>19</td>\n",
       "      <td>13</td>\n",
       "    </tr>\n",
       "    <tr>\n",
       "      <th>170</th>\n",
       "      <td>2</td>\n",
       "      <td>6</td>\n",
       "      <td>1</td>\n",
       "      <td>19</td>\n",
       "      <td>21</td>\n",
       "      <td>243</td>\n",
       "      <td>26</td>\n",
       "      <td>22</td>\n",
       "      <td>26</td>\n",
       "      <td>25</td>\n",
       "      <td>25</td>\n",
       "      <td>30</td>\n",
       "    </tr>\n",
       "    <tr>\n",
       "      <th>130</th>\n",
       "      <td>1</td>\n",
       "      <td>7</td>\n",
       "      <td>1</td>\n",
       "      <td>13</td>\n",
       "      <td>11</td>\n",
       "      <td>34</td>\n",
       "      <td>19</td>\n",
       "      <td>10</td>\n",
       "      <td>16</td>\n",
       "      <td>2</td>\n",
       "      <td>13</td>\n",
       "      <td>7</td>\n",
       "    </tr>\n",
       "  </tbody>\n",
       "</table>\n",
       "</div>"
      ],
      "text/plain": [
       "     Type  ALIGNMENT  Size  CR  AC   HP  STR  DEX  CON  INT  WIS  CHA\n",
       "354     6          0     0  12  14   52   16   13   16   12   12   13\n",
       "680    13          1     0   6  18   91   16   14   15   14   14   15\n",
       "224    13          5     0   4  18  112   14   19   16   17   19   13\n",
       "170     2          6     1  19  21  243   26   22   26   25   25   30\n",
       "130     1          7     1  13  11   34   19   10   16    2   13    7"
      ]
     },
     "execution_count": 5,
     "metadata": {},
     "output_type": "execute_result"
    }
   ],
   "source": [
    "# Get numbers back to integers\n",
    "faux_df = faux_df.round().astype('int')\n",
    "faux_df.sample(5)"
   ]
  },
  {
   "cell_type": "markdown",
   "metadata": {},
   "source": [
    "These look more like we might expect, however some of our fields were factors (i.e. text fields).  We'd like to restore these to their original labels."
   ]
  },
  {
   "cell_type": "code",
   "execution_count": 6,
   "metadata": {},
   "outputs": [
    {
     "data": {
      "text/html": [
       "<div>\n",
       "<style scoped>\n",
       "    .dataframe tbody tr th:only-of-type {\n",
       "        vertical-align: middle;\n",
       "    }\n",
       "\n",
       "    .dataframe tbody tr th {\n",
       "        vertical-align: top;\n",
       "    }\n",
       "\n",
       "    .dataframe thead th {\n",
       "        text-align: right;\n",
       "    }\n",
       "</style>\n",
       "<table border=\"1\" class=\"dataframe\">\n",
       "  <thead>\n",
       "    <tr style=\"text-align: right;\">\n",
       "      <th></th>\n",
       "      <th>Type</th>\n",
       "      <th>ALIGNMENT</th>\n",
       "      <th>Size</th>\n",
       "      <th>CR</th>\n",
       "      <th>AC</th>\n",
       "      <th>HP</th>\n",
       "      <th>STR</th>\n",
       "      <th>DEX</th>\n",
       "      <th>CON</th>\n",
       "      <th>INT</th>\n",
       "      <th>WIS</th>\n",
       "      <th>CHA</th>\n",
       "    </tr>\n",
       "  </thead>\n",
       "  <tbody>\n",
       "    <tr>\n",
       "      <th>651</th>\n",
       "      <td>Aberration</td>\n",
       "      <td>LE</td>\n",
       "      <td>Small</td>\n",
       "      <td>3</td>\n",
       "      <td>15</td>\n",
       "      <td>33</td>\n",
       "      <td>6</td>\n",
       "      <td>16</td>\n",
       "      <td>14</td>\n",
       "      <td>13</td>\n",
       "      <td>12</td>\n",
       "      <td>15</td>\n",
       "    </tr>\n",
       "    <tr>\n",
       "      <th>637</th>\n",
       "      <td>Undead</td>\n",
       "      <td>ANY</td>\n",
       "      <td>Medium</td>\n",
       "      <td>12</td>\n",
       "      <td>9</td>\n",
       "      <td>64</td>\n",
       "      <td>7</td>\n",
       "      <td>8</td>\n",
       "      <td>9</td>\n",
       "      <td>14</td>\n",
       "      <td>19</td>\n",
       "      <td>16</td>\n",
       "    </tr>\n",
       "    <tr>\n",
       "      <th>209</th>\n",
       "      <td>Humanoid</td>\n",
       "      <td>ANY</td>\n",
       "      <td>Medium</td>\n",
       "      <td>9</td>\n",
       "      <td>12</td>\n",
       "      <td>84</td>\n",
       "      <td>9</td>\n",
       "      <td>14</td>\n",
       "      <td>14</td>\n",
       "      <td>18</td>\n",
       "      <td>12</td>\n",
       "      <td>11</td>\n",
       "    </tr>\n",
       "    <tr>\n",
       "      <th>298</th>\n",
       "      <td>Monstrosity</td>\n",
       "      <td>U</td>\n",
       "      <td>Large</td>\n",
       "      <td>3</td>\n",
       "      <td>13</td>\n",
       "      <td>32</td>\n",
       "      <td>15</td>\n",
       "      <td>15</td>\n",
       "      <td>12</td>\n",
       "      <td>6</td>\n",
       "      <td>10</td>\n",
       "      <td>6</td>\n",
       "    </tr>\n",
       "    <tr>\n",
       "      <th>504</th>\n",
       "      <td>Elemental</td>\n",
       "      <td>N</td>\n",
       "      <td>Large</td>\n",
       "      <td>3</td>\n",
       "      <td>13</td>\n",
       "      <td>58</td>\n",
       "      <td>17</td>\n",
       "      <td>16</td>\n",
       "      <td>13</td>\n",
       "      <td>11</td>\n",
       "      <td>10</td>\n",
       "      <td>10</td>\n",
       "    </tr>\n",
       "  </tbody>\n",
       "</table>\n",
       "</div>"
      ],
      "text/plain": [
       "            Type ALIGNMENT    Size  CR  AC  HP  STR  DEX  CON  INT  WIS  CHA\n",
       "651   Aberration        LE   Small   3  15  33    6   16   14   13   12   15\n",
       "637       Undead       ANY  Medium  12   9  64    7    8    9   14   19   16\n",
       "209     Humanoid       ANY  Medium   9  12  84    9   14   14   18   12   11\n",
       "298  Monstrosity         U   Large   3  13  32   15   15   12    6   10    6\n",
       "504    Elemental         N   Large   3  13  58   17   16   13   11   10   10"
      ]
     },
     "execution_count": 6,
     "metadata": {},
     "output_type": "execute_result"
    }
   ],
   "source": [
    "# Back-transform factors to their labels\n",
    "for factor_name in factor_indices:\n",
    "    alt = factor_indices[factor_name]\n",
    "    altlab = np.arange(len(alt))\n",
    "    lookup = dict(zip(altlab,alt))\n",
    "    faux_df[factor_name]=[lookup[xx] for xx in faux_df[factor_name]]\n",
    "\n",
    "faux_df.sample(5)"
   ]
  },
  {
   "cell_type": "markdown",
   "metadata": {},
   "source": [
    "This looks much more like what we'd expect.    Lets do some exploration and cleaning."
   ]
  },
  {
   "cell_type": "code",
   "execution_count": 7,
   "metadata": {},
   "outputs": [
    {
     "name": "stdout",
     "output_type": "stream",
     "text": [
      "['Monstrosity' 'Beast' 'Undead' 'Fiend (Demon)' 'Humanoid' 'Dragon'\n",
      " 'Giant' 'Construct' 'Aberration' 'Fiend (Devil)' 'Plant' 'Elemental'\n",
      " 'Fey' 'Fiend' 'Ooze' 'Celestial']\n",
      "['Aberration' 'Beast' 'Celestial' 'Construct' 'Dragon' 'Elemental' 'Fey'\n",
      " 'Fiend' 'Fiend (Demon)' 'Fiend (Devil)' 'Giant' 'Humanoid' 'Monstrosity'\n",
      " 'Ooze' 'Plant' 'Undead']\n"
     ]
    }
   ],
   "source": [
    "distincts = faux_df.Type.unique()\n",
    "print(distincts)\n",
    "distincts.sort()\n",
    "print(distincts)\n"
   ]
  },
  {
   "cell_type": "markdown",
   "metadata": {},
   "source": [
    "+ **Boo!  Why is Giant in there twice? A trailing space!**\n",
    "\n",
    "Lets check the other factors."
   ]
  },
  {
   "cell_type": "code",
   "execution_count": 8,
   "metadata": {},
   "outputs": [
    {
     "name": "stdout",
     "output_type": "stream",
     "text": [
      "['Large' 'Medium' 'Huge' 'Gargantuan' 'Tiny' 'Small' 'large' 'VARIES'\n",
      " 'small']\n",
      "['Gargantuan' 'Huge' 'Large' 'Medium' 'Small' 'Tiny' 'VARIES' 'large'\n",
      " 'small']\n"
     ]
    }
   ],
   "source": [
    "distincts = faux_df.Size.unique()\n",
    "print(distincts)\n",
    "distincts.sort()\n",
    "print(distincts)"
   ]
  },
  {
   "cell_type": "markdown",
   "metadata": {},
   "source": [
    "+ **ooh!  There's \"large\" and \"Large\", \"small and \"Small\", and \"VARIES\" changes capitalization convention.**"
   ]
  },
  {
   "cell_type": "code",
   "execution_count": 9,
   "metadata": {},
   "outputs": [
    {
     "name": "stdout",
     "output_type": "stream",
     "text": [
      "['U' 'CE' 'ANY' 'LE' 'N' 'LG' 'NE' 'LN' 'NOT LAWFUL' 'NG' 'CN' 'NOT GOOD'\n",
      " 'CG' 'E' 'C' 'ANY EVIL' 'CG OR NE']\n",
      "['ANY' 'ANY EVIL' 'C' 'CE' 'CG' 'CG OR NE' 'CN' 'E' 'LE' 'LG' 'LN' 'N'\n",
      " 'NE' 'NG' 'NOT GOOD' 'NOT LAWFUL' 'U']\n"
     ]
    }
   ],
   "source": [
    "distincts = faux_df.ALIGNMENT.unique()\n",
    "print(distincts)\n",
    "distincts.sort()\n",
    "print(distincts)\n",
    "\n"
   ]
  },
  {
   "cell_type": "markdown",
   "metadata": {},
   "source": [
    "* **No problems jump out here**"
   ]
  },
  {
   "cell_type": "code",
   "execution_count": 10,
   "metadata": {},
   "outputs": [
    {
     "name": "stdout",
     "output_type": "stream",
     "text": [
      "['4' '2' '1' '12' '1/4' '6' '9' '8' '16' '5' '24' '3' '11' '1/2' '23'\n",
      " '1/8' '13' '14' '7' '0' '10' '19' '20' '21' '30' '15' '17' '26' '18' '22'\n",
      " '25']\n",
      "['0' '1' '1/2' '1/4' '1/8' '10' '11' '12' '13' '14' '15' '16' '17' '18'\n",
      " '19' '2' '20' '21' '22' '23' '24' '25' '26' '3' '30' '4' '5' '6' '7' '8'\n",
      " '9']\n"
     ]
    }
   ],
   "source": [
    "distincts = faux_df.CR.unique()\n",
    "print(distincts)\n",
    "distincts.sort()\n",
    "print(distincts)"
   ]
  },
  {
   "cell_type": "markdown",
   "metadata": {},
   "source": [
    "*  **This has numbers, mostly.  There's a '-' for some reason.   Also, there are fractions which we might want to be numerical.**\n",
    "\n",
    "Lets build a preprocessor that can fix these problems for us.  "
   ]
  },
  {
   "cell_type": "code",
   "execution_count": 11,
   "metadata": {},
   "outputs": [],
   "source": [
    "# Preprocessing instructions\n",
    "def df_preprocess(df):\n",
    "\n",
    "    # Get rid of rows with missing data\n",
    "    df=df.copy().dropna()\n",
    "    \n",
    "    # Take care of capitalization problems\n",
    "    df.loc[:,'Size']=[xx.capitalize().strip() for xx in df.Size]\n",
    "    df.loc[:,'Type']=[xx.capitalize().strip() for xx in df.Type]\n",
    "    df.loc[:,'ALIGNMENT'] = [xx.upper().strip() for xx in df.ALIGNMENT]\n",
    "    \n",
    "    # Convert any '-' values to a 0\n",
    "    df.loc[:,'CR'] = [float(Fraction(xx)) if xx is not '-' else 0.0 for xx in df.CR]\n",
    "    return(df)"
   ]
  },
  {
   "cell_type": "markdown",
   "metadata": {},
   "source": [
    "Lets verify that df_preprocess seems to fix our problems on our original data set."
   ]
  },
  {
   "cell_type": "code",
   "execution_count": 12,
   "metadata": {},
   "outputs": [
    {
     "name": "stdout",
     "output_type": "stream",
     "text": [
      "['Large' 'Medium' 'Huge' 'Gargantuan' 'Tiny' 'Small' 'Varies'] \n",
      "\n",
      " ['Monstrosity' 'Beast' 'Undead' 'Fiend (demon)' 'Humanoid' 'Dragon'\n",
      " 'Giant' 'Construct' 'Aberration' 'Fiend (devil)' 'Plant' 'Elemental'\n",
      " 'Fey' 'Fiend' 'Ooze' 'Celestial'] \n",
      "\n",
      " ['U' 'CE' 'ANY' 'LE' 'N' 'LG' 'NE' 'LN' 'NOT LAWFUL' 'NG' 'CN' 'NOT GOOD'\n",
      " 'CG' 'E' 'C' 'ANY EVIL' 'CG OR NE']\n",
      "[ 4.     2.     1.    12.     0.25   6.     9.     8.    16.     5.\n",
      " 24.     3.    11.     0.5   23.     0.125 13.    14.     7.     0.\n",
      " 10.    19.    20.    21.    30.    15.    17.    26.    18.    22.\n",
      " 25.   ]\n"
     ]
    }
   ],
   "source": [
    "fixed = df_preprocess(faux_df)\n",
    "print(fixed.Size.unique(), '\\n\\n', fixed.Type.unique(),'\\n\\n',fixed.ALIGNMENT.unique())\n",
    "\n",
    "print(fixed.CR.unique())"
   ]
  },
  {
   "cell_type": "markdown",
   "metadata": {},
   "source": [
    "### Generate fake data based on the original _after_ preprocessing."
   ]
  },
  {
   "cell_type": "code",
   "execution_count": 13,
   "metadata": {},
   "outputs": [
    {
     "name": "stdout",
     "output_type": "stream",
     "text": [
      "Preprocess <function df_preprocess at 0x10bfe6950>\n",
      "Building KDE Covariate Model\n"
     ]
    }
   ],
   "source": [
    "# Instantiate KFP object\n",
    "kfpd = KungFauxPandas(plugin=KDEPlugin(),\n",
    "                      logging='../../../data/kfp_log.db',\n",
    "                      db_file='../../../data/monsters.db')\n",
    "\n",
    "# Ensure KFP object has the options we want\n",
    "kfpd.plugin.capture_covariance = True\n",
    "kfpd.plugin.determine_factors =  True\n",
    "\n",
    "# Generate the Fake data\n",
    "kfpd.plugin.fauxify(df_in=df, preprocess=df_preprocess, refactorize=False)\n",
    "\n",
    "# Do some renames to improve readability\n",
    "faux_df = kfpd.plugin.df_out\n",
    "factor_indices = kfpd.plugin.factor_indices"
   ]
  },
  {
   "cell_type": "code",
   "execution_count": 14,
   "metadata": {},
   "outputs": [],
   "source": [
    "# Get numbers back to integers\n",
    "faux_df = faux_df.round().astype('int')"
   ]
  },
  {
   "cell_type": "code",
   "execution_count": 15,
   "metadata": {},
   "outputs": [
    {
     "data": {
      "text/html": [
       "<div>\n",
       "<style scoped>\n",
       "    .dataframe tbody tr th:only-of-type {\n",
       "        vertical-align: middle;\n",
       "    }\n",
       "\n",
       "    .dataframe tbody tr th {\n",
       "        vertical-align: top;\n",
       "    }\n",
       "\n",
       "    .dataframe thead th {\n",
       "        text-align: right;\n",
       "    }\n",
       "</style>\n",
       "<table border=\"1\" class=\"dataframe\">\n",
       "  <thead>\n",
       "    <tr style=\"text-align: right;\">\n",
       "      <th></th>\n",
       "      <th>Type</th>\n",
       "      <th>ALIGNMENT</th>\n",
       "      <th>Size</th>\n",
       "      <th>CR</th>\n",
       "      <th>AC</th>\n",
       "      <th>HP</th>\n",
       "      <th>STR</th>\n",
       "      <th>DEX</th>\n",
       "      <th>CON</th>\n",
       "      <th>INT</th>\n",
       "      <th>WIS</th>\n",
       "      <th>CHA</th>\n",
       "    </tr>\n",
       "  </thead>\n",
       "  <tbody>\n",
       "    <tr>\n",
       "      <th>269</th>\n",
       "      <td>1</td>\n",
       "      <td>1</td>\n",
       "      <td>4</td>\n",
       "      <td>5</td>\n",
       "      <td>12</td>\n",
       "      <td>36</td>\n",
       "      <td>9</td>\n",
       "      <td>14</td>\n",
       "      <td>10</td>\n",
       "      <td>15</td>\n",
       "      <td>11</td>\n",
       "      <td>14</td>\n",
       "    </tr>\n",
       "    <tr>\n",
       "      <th>160</th>\n",
       "      <td>10</td>\n",
       "      <td>0</td>\n",
       "      <td>1</td>\n",
       "      <td>11</td>\n",
       "      <td>15</td>\n",
       "      <td>262</td>\n",
       "      <td>26</td>\n",
       "      <td>12</td>\n",
       "      <td>22</td>\n",
       "      <td>15</td>\n",
       "      <td>16</td>\n",
       "      <td>17</td>\n",
       "    </tr>\n",
       "    <tr>\n",
       "      <th>95</th>\n",
       "      <td>12</td>\n",
       "      <td>7</td>\n",
       "      <td>1</td>\n",
       "      <td>3</td>\n",
       "      <td>13</td>\n",
       "      <td>31</td>\n",
       "      <td>15</td>\n",
       "      <td>15</td>\n",
       "      <td>12</td>\n",
       "      <td>6</td>\n",
       "      <td>10</td>\n",
       "      <td>6</td>\n",
       "    </tr>\n",
       "    <tr>\n",
       "      <th>64</th>\n",
       "      <td>0</td>\n",
       "      <td>1</td>\n",
       "      <td>1</td>\n",
       "      <td>9</td>\n",
       "      <td>15</td>\n",
       "      <td>127</td>\n",
       "      <td>15</td>\n",
       "      <td>12</td>\n",
       "      <td>15</td>\n",
       "      <td>21</td>\n",
       "      <td>19</td>\n",
       "      <td>21</td>\n",
       "    </tr>\n",
       "    <tr>\n",
       "      <th>574</th>\n",
       "      <td>12</td>\n",
       "      <td>7</td>\n",
       "      <td>0</td>\n",
       "      <td>3</td>\n",
       "      <td>15</td>\n",
       "      <td>52</td>\n",
       "      <td>16</td>\n",
       "      <td>8</td>\n",
       "      <td>15</td>\n",
       "      <td>2</td>\n",
       "      <td>8</td>\n",
       "      <td>7</td>\n",
       "    </tr>\n",
       "    <tr>\n",
       "      <th>157</th>\n",
       "      <td>11</td>\n",
       "      <td>1</td>\n",
       "      <td>3</td>\n",
       "      <td>1</td>\n",
       "      <td>17</td>\n",
       "      <td>20</td>\n",
       "      <td>10</td>\n",
       "      <td>14</td>\n",
       "      <td>10</td>\n",
       "      <td>10</td>\n",
       "      <td>8</td>\n",
       "      <td>10</td>\n",
       "    </tr>\n",
       "    <tr>\n",
       "      <th>219</th>\n",
       "      <td>15</td>\n",
       "      <td>0</td>\n",
       "      <td>5</td>\n",
       "      <td>21</td>\n",
       "      <td>17</td>\n",
       "      <td>134</td>\n",
       "      <td>11</td>\n",
       "      <td>16</td>\n",
       "      <td>16</td>\n",
       "      <td>20</td>\n",
       "      <td>14</td>\n",
       "      <td>16</td>\n",
       "    </tr>\n",
       "    <tr>\n",
       "      <th>251</th>\n",
       "      <td>9</td>\n",
       "      <td>1</td>\n",
       "      <td>0</td>\n",
       "      <td>4</td>\n",
       "      <td>16</td>\n",
       "      <td>45</td>\n",
       "      <td>18</td>\n",
       "      <td>14</td>\n",
       "      <td>17</td>\n",
       "      <td>6</td>\n",
       "      <td>12</td>\n",
       "      <td>8</td>\n",
       "    </tr>\n",
       "    <tr>\n",
       "      <th>596</th>\n",
       "      <td>12</td>\n",
       "      <td>2</td>\n",
       "      <td>0</td>\n",
       "      <td>3</td>\n",
       "      <td>12</td>\n",
       "      <td>51</td>\n",
       "      <td>18</td>\n",
       "      <td>13</td>\n",
       "      <td>16</td>\n",
       "      <td>8</td>\n",
       "      <td>12</td>\n",
       "      <td>7</td>\n",
       "    </tr>\n",
       "    <tr>\n",
       "      <th>482</th>\n",
       "      <td>12</td>\n",
       "      <td>0</td>\n",
       "      <td>0</td>\n",
       "      <td>1</td>\n",
       "      <td>14</td>\n",
       "      <td>24</td>\n",
       "      <td>18</td>\n",
       "      <td>13</td>\n",
       "      <td>14</td>\n",
       "      <td>4</td>\n",
       "      <td>12</td>\n",
       "      <td>6</td>\n",
       "    </tr>\n",
       "  </tbody>\n",
       "</table>\n",
       "</div>"
      ],
      "text/plain": [
       "     Type  ALIGNMENT  Size  CR  AC   HP  STR  DEX  CON  INT  WIS  CHA\n",
       "269     1          1     4   5  12   36    9   14   10   15   11   14\n",
       "160    10          0     1  11  15  262   26   12   22   15   16   17\n",
       "95     12          7     1   3  13   31   15   15   12    6   10    6\n",
       "64      0          1     1   9  15  127   15   12   15   21   19   21\n",
       "574    12          7     0   3  15   52   16    8   15    2    8    7\n",
       "157    11          1     3   1  17   20   10   14   10   10    8   10\n",
       "219    15          0     5  21  17  134   11   16   16   20   14   16\n",
       "251     9          1     0   4  16   45   18   14   17    6   12    8\n",
       "596    12          2     0   3  12   51   18   13   16    8   12    7\n",
       "482    12          0     0   1  14   24   18   13   14    4   12    6"
      ]
     },
     "execution_count": 15,
     "metadata": {},
     "output_type": "execute_result"
    }
   ],
   "source": [
    "faux_df.sample(10)"
   ]
  },
  {
   "cell_type": "code",
   "execution_count": 16,
   "metadata": {},
   "outputs": [
    {
     "data": {
      "text/plain": [
       "{'Type': Index(['Aberration', 'Beast', 'Celestial', 'Construct', 'Dragon', 'Elemental',\n",
       "        'Fey', 'Fiend', 'Fiend (demon)', 'Fiend (devil)', 'Giant', 'Humanoid',\n",
       "        'Monstrosity', 'Ooze', 'Plant', 'Undead'],\n",
       "       dtype='object'),\n",
       " 'ALIGNMENT': Index(['CE', 'LE', 'NE', 'CN', 'N', 'LN', 'LG', 'U', 'CG OR NE', 'CG',\n",
       "        'SAME AS EIDOLON', 'NG', 'E', 'C', 'ANY', 'NOT GOOD', 'NOT LAWFUL',\n",
       "        'ANY EVIL'],\n",
       "       dtype='object'),\n",
       " 'Size': Index(['Medium', 'Large', 'Gargantuan', 'Small', 'Tiny', 'Huge', 'Varies'], dtype='object')}"
      ]
     },
     "execution_count": 16,
     "metadata": {},
     "output_type": "execute_result"
    }
   ],
   "source": [
    "factor_indices"
   ]
  },
  {
   "cell_type": "code",
   "execution_count": 17,
   "metadata": {},
   "outputs": [],
   "source": [
    "# Back-transform factors to their labels\n",
    "for factor_name in factor_indices:\n",
    "    alt = factor_indices[factor_name]\n",
    "    altlab = np.arange(len(alt))\n",
    "    lookup = dict(zip(altlab,alt))\n",
    "    faux_df[factor_name]=[lookup[xx] for xx in faux_df[factor_name]]\n",
    "\n"
   ]
  },
  {
   "cell_type": "code",
   "execution_count": 18,
   "metadata": {},
   "outputs": [
    {
     "data": {
      "text/html": [
       "<div>\n",
       "<style scoped>\n",
       "    .dataframe tbody tr th:only-of-type {\n",
       "        vertical-align: middle;\n",
       "    }\n",
       "\n",
       "    .dataframe tbody tr th {\n",
       "        vertical-align: top;\n",
       "    }\n",
       "\n",
       "    .dataframe thead th {\n",
       "        text-align: right;\n",
       "    }\n",
       "</style>\n",
       "<table border=\"1\" class=\"dataframe\">\n",
       "  <thead>\n",
       "    <tr style=\"text-align: right;\">\n",
       "      <th></th>\n",
       "      <th>Type</th>\n",
       "      <th>ALIGNMENT</th>\n",
       "      <th>Size</th>\n",
       "      <th>CR</th>\n",
       "      <th>AC</th>\n",
       "      <th>HP</th>\n",
       "      <th>STR</th>\n",
       "      <th>DEX</th>\n",
       "      <th>CON</th>\n",
       "      <th>INT</th>\n",
       "      <th>WIS</th>\n",
       "      <th>CHA</th>\n",
       "    </tr>\n",
       "  </thead>\n",
       "  <tbody>\n",
       "    <tr>\n",
       "      <th>72</th>\n",
       "      <td>Humanoid</td>\n",
       "      <td>N</td>\n",
       "      <td>Medium</td>\n",
       "      <td>4</td>\n",
       "      <td>11</td>\n",
       "      <td>80</td>\n",
       "      <td>17</td>\n",
       "      <td>10</td>\n",
       "      <td>15</td>\n",
       "      <td>10</td>\n",
       "      <td>11</td>\n",
       "      <td>8</td>\n",
       "    </tr>\n",
       "    <tr>\n",
       "      <th>315</th>\n",
       "      <td>Fiend (demon)</td>\n",
       "      <td>CE</td>\n",
       "      <td>Huge</td>\n",
       "      <td>23</td>\n",
       "      <td>18</td>\n",
       "      <td>305</td>\n",
       "      <td>22</td>\n",
       "      <td>15</td>\n",
       "      <td>18</td>\n",
       "      <td>20</td>\n",
       "      <td>19</td>\n",
       "      <td>24</td>\n",
       "    </tr>\n",
       "    <tr>\n",
       "      <th>112</th>\n",
       "      <td>Monstrosity</td>\n",
       "      <td>NE</td>\n",
       "      <td>Large</td>\n",
       "      <td>1</td>\n",
       "      <td>14</td>\n",
       "      <td>28</td>\n",
       "      <td>13</td>\n",
       "      <td>12</td>\n",
       "      <td>13</td>\n",
       "      <td>2</td>\n",
       "      <td>13</td>\n",
       "      <td>6</td>\n",
       "    </tr>\n",
       "    <tr>\n",
       "      <th>41</th>\n",
       "      <td>Beast</td>\n",
       "      <td>U</td>\n",
       "      <td>Tiny</td>\n",
       "      <td>0</td>\n",
       "      <td>13</td>\n",
       "      <td>11</td>\n",
       "      <td>5</td>\n",
       "      <td>16</td>\n",
       "      <td>8</td>\n",
       "      <td>2</td>\n",
       "      <td>14</td>\n",
       "      <td>6</td>\n",
       "    </tr>\n",
       "    <tr>\n",
       "      <th>160</th>\n",
       "      <td>Giant</td>\n",
       "      <td>CE</td>\n",
       "      <td>Large</td>\n",
       "      <td>11</td>\n",
       "      <td>15</td>\n",
       "      <td>262</td>\n",
       "      <td>26</td>\n",
       "      <td>12</td>\n",
       "      <td>22</td>\n",
       "      <td>15</td>\n",
       "      <td>16</td>\n",
       "      <td>17</td>\n",
       "    </tr>\n",
       "  </tbody>\n",
       "</table>\n",
       "</div>"
      ],
      "text/plain": [
       "              Type ALIGNMENT    Size  CR  AC   HP  STR  DEX  CON  INT  WIS  \\\n",
       "72        Humanoid         N  Medium   4  11   80   17   10   15   10   11   \n",
       "315  Fiend (demon)        CE    Huge  23  18  305   22   15   18   20   19   \n",
       "112    Monstrosity        NE   Large   1  14   28   13   12   13    2   13   \n",
       "41           Beast         U    Tiny   0  13   11    5   16    8    2   14   \n",
       "160          Giant        CE   Large  11  15  262   26   12   22   15   16   \n",
       "\n",
       "     CHA  \n",
       "72     8  \n",
       "315   24  \n",
       "112    6  \n",
       "41     6  \n",
       "160   17  "
      ]
     },
     "execution_count": 18,
     "metadata": {},
     "output_type": "execute_result"
    }
   ],
   "source": [
    "faux_df.sample(5)"
   ]
  },
  {
   "cell_type": "markdown",
   "metadata": {},
   "source": [
    "**We now have fake data which strongly resembles the real stuff!**"
   ]
  },
  {
   "cell_type": "markdown",
   "metadata": {},
   "source": [
    "# Comparing the Faux Data to the Original\n",
    "\n",
    "Any analysis you might be interested in can now be run on the faux data and you can expect the results.\n",
    "\n",
    "One of the numbers included in the stats is the so-called \"Challenge Rating\" (CR).  The meaning is detailed [here](https://www.reddit.com/r/DnD/comments/2egr5y/explaining_5e_cr/), but suffice it to say, it's a popular measure of the monster's dangerousness.\n",
    "\n",
    "One way to test our faux data is to make sure that the generated CR correlates to the generated monsters' stats in the same way that the real CR correlates to the real monsters' stats.  For this, we can use a linear regression.\n",
    "\n"
   ]
  },
  {
   "cell_type": "markdown",
   "metadata": {},
   "source": [
    "## Faux Data"
   ]
  },
  {
   "cell_type": "code",
   "execution_count": 19,
   "metadata": {},
   "outputs": [
    {
     "name": "stdout",
     "output_type": "stream",
     "text": [
      "                            OLS Regression Results                            \n",
      "==============================================================================\n",
      "Dep. Variable:                      y   R-squared:                       0.929\n",
      "Model:                            OLS   Adj. R-squared:                  0.929\n",
      "Method:                 Least Squares   F-statistic:                     2991.\n",
      "Date:                Wed, 17 Oct 2018   Prob (F-statistic):               0.00\n",
      "Time:                        22:17:05   Log-Likelihood:                -1524.5\n",
      "No. Observations:                 690   AIC:                             3055.\n",
      "Df Residuals:                     687   BIC:                             3069.\n",
      "Df Model:                           3                                         \n",
      "Covariance Type:            nonrobust                                         \n",
      "==============================================================================\n",
      "                 coef    std err          t      P>|t|      [0.025      0.975]\n",
      "------------------------------------------------------------------------------\n",
      "HP             0.0664      0.001     52.721      0.000       0.064       0.069\n",
      "STR           -0.1373      0.016     -8.754      0.000      -0.168      -0.107\n",
      "WIS            0.1588      0.017      9.156      0.000       0.125       0.193\n",
      "==============================================================================\n",
      "Omnibus:                      126.557   Durbin-Watson:                   2.108\n",
      "Prob(Omnibus):                  0.000   Jarque-Bera (JB):              950.624\n",
      "Skew:                           0.588   Prob(JB):                    3.75e-207\n",
      "Kurtosis:                       8.628   Cond. No.                         33.3\n",
      "==============================================================================\n",
      "\n",
      "Warnings:\n",
      "[1] Standard Errors assume that the covariance matrix of the errors is correctly specified.\n"
     ]
    }
   ],
   "source": [
    "import statsmodels.api as sm\n",
    "from fractions import Fraction\n",
    "import numpy\n",
    "#reg = linear_model.LinearRegression()\n",
    "\n",
    "y = [float(Fraction(xx))  if xx !='-' else 0.0 for xx in faux_df.CR]\n",
    "#X = faux_df.iloc[:,[xx in ['HP','AC','STR','DEX','INT','CON','WIS','CHA'] for xx in faux_df.columns]]\n",
    "X = faux_df.loc[:,[xx in ['HP','STR','WIS'] for xx in faux_df.columns]]\n",
    "#X = sm.add_constant(X)  \n",
    "\n",
    "M1 = sm.OLS(y,X)\n",
    "print(M1.fit().summary())"
   ]
  },
  {
   "cell_type": "markdown",
   "metadata": {},
   "source": [
    "## Real Data"
   ]
  },
  {
   "cell_type": "code",
   "execution_count": 20,
   "metadata": {},
   "outputs": [
    {
     "name": "stdout",
     "output_type": "stream",
     "text": [
      "                            OLS Regression Results                            \n",
      "==============================================================================\n",
      "Dep. Variable:                      y   R-squared:                       0.930\n",
      "Model:                            OLS   Adj. R-squared:                  0.930\n",
      "Method:                 Least Squares   F-statistic:                     3056.\n",
      "Date:                Wed, 17 Oct 2018   Prob (F-statistic):               0.00\n",
      "Time:                        22:17:05   Log-Likelihood:                -1521.2\n",
      "No. Observations:                 690   AIC:                             3048.\n",
      "Df Residuals:                     687   BIC:                             3062.\n",
      "Df Model:                           3                                         \n",
      "Covariance Type:            nonrobust                                         \n",
      "==============================================================================\n",
      "                 coef    std err          t      P>|t|      [0.025      0.975]\n",
      "------------------------------------------------------------------------------\n",
      "HP             0.0629      0.001     52.248      0.000       0.061       0.065\n",
      "STR           -0.1146      0.016     -7.269      0.000      -0.146      -0.084\n",
      "WIS            0.1579      0.017      9.075      0.000       0.124       0.192\n",
      "==============================================================================\n",
      "Omnibus:                      117.005   Durbin-Watson:                   1.041\n",
      "Prob(Omnibus):                  0.000   Jarque-Bera (JB):              955.600\n",
      "Skew:                           0.486   Prob(JB):                    3.12e-208\n",
      "Kurtosis:                       8.683   Cond. No.                         34.3\n",
      "==============================================================================\n",
      "\n",
      "Warnings:\n",
      "[1] Standard Errors assume that the covariance matrix of the errors is correctly specified.\n"
     ]
    }
   ],
   "source": [
    "import statsmodels.api as sm\n",
    "from fractions import Fraction\n",
    "import numpy\n",
    "\n",
    "df = df_preprocess(df)  # Use the same pre-processor used to generate the faux data\n",
    "\n",
    "\n",
    "y2 = [float(Fraction(xx))  if not np.isnan(xx) else 0 for xx in df.CR]\n",
    "#X2 = df.iloc[:,[xx in ['HP','AC','STR','DEX','INT','CON','WIS','CHA'] for xx in df.columns]]\n",
    "X2 = df.loc[:,[xx in ['HP','STR','WIS'] for xx in df.columns]]\n",
    "\n",
    "#X2 = sm.add_constant(X2)  \n",
    "X2.columns\n",
    "\n",
    "M2 = sm.OLS(y2,X2)\n",
    "print(M2.fit().summary())"
   ]
  },
  {
   "cell_type": "markdown",
   "metadata": {},
   "source": [
    "# Comparing Histograms"
   ]
  },
  {
   "cell_type": "code",
   "execution_count": 21,
   "metadata": {},
   "outputs": [
    {
     "data": {
      "text/plain": [
       "(array([300., 144.,  70.,  63.,  42.,  28.,  13.,  21.,   8.,   1.]),\n",
       " array([ 0.,  3.,  6.,  9., 12., 15., 18., 21., 24., 27., 30.]),\n",
       " <a list of 10 Patch objects>)"
      ]
     },
     "execution_count": 21,
     "metadata": {},
     "output_type": "execute_result"
    },
    {
     "data": {
      "image/png": "[encoded data removed]",
      "text/plain": [
       "<Figure size 432x288 with 2 Axes>"
      ]
     },
     "metadata": {
      "needs_background": "light"
     },
     "output_type": "display_data"
    }
   ],
   "source": [
    "%matplotlib inline\n",
    "plt.subplot(1,2,1)\n",
    "plt.hist(y)\n",
    "plt.subplot(1,2,2)\n",
    "plt.hist(y2)"
   ]
  },
  {
   "cell_type": "code",
   "execution_count": 22,
   "metadata": {},
   "outputs": [
    {
     "data": {
      "image/png": "[encoded data removed]",
      "text/plain": [
       "<Figure size 432x288 with 4 Axes>"
      ]
     },
     "metadata": {
      "needs_background": "light"
     },
     "output_type": "display_data"
    }
   ],
   "source": [
    "numrows = 2#len(colz)\n",
    "\n",
    "#colz = ['CR','HP','AC','STR','DEX','INT','CON','WIS','CHA']\n",
    "colz = ['STR','DEX','CON','INT','WIS','CHA']\n",
    "\n",
    "for thiscol in enumerate(colz[0:2]):    \n",
    "    plt.subplot(numrows,2,2*thiscol[0]+1)\n",
    "    plt.hist(df[thiscol[1]])\n",
    "    plt.xlabel(thiscol[1]+' Real')\n",
    "    plt.subplot(numrows,2,2*thiscol[0]+2)\n",
    "    plt.hist(faux_df[thiscol[1]])\n",
    "    plt.xlabel(thiscol[1]+' Faux')\n",
    "    "
   ]
  },
  {
   "cell_type": "code",
   "execution_count": 23,
   "metadata": {},
   "outputs": [
    {
     "data": {
      "image/png": "[encoded data removed]",
      "text/plain": [
       "<Figure size 432x288 with 6 Axes>"
      ]
     },
     "metadata": {
      "needs_background": "light"
     },
     "output_type": "display_data"
    }
   ],
   "source": [
    "numrows = 3\n",
    "for thiscol in enumerate(colz[3:]):\n",
    "    plt.subplot(numrows,2,2*thiscol[0]+1)\n",
    "    plt.hist(df[thiscol[1]])\n",
    "    plt.subplot(numrows,2,2*thiscol[0]+2)\n",
    "    plt.hist(faux_df[thiscol[1]])"
   ]
  },
  {
   "cell_type": "code",
   "execution_count": 24,
   "metadata": {},
   "outputs": [
    {
     "data": {
      "text/plain": [
       "<matplotlib.colorbar.Colorbar at 0x1c1c953208>"
      ]
     },
     "execution_count": 24,
     "metadata": {},
     "output_type": "execute_result"
    },
    {
     "data": {
      "image/png": "[encoded data removed]",
      "text/plain": [
       "<Figure size 432x288 with 4 Axes>"
      ]
     },
     "metadata": {
      "needs_background": "light"
     },
     "output_type": "display_data"
    }
   ],
   "source": [
    "#colz = ['CR','HP','AC','STR','DEX','INT','CON','WIS','CHA']\n",
    "colz = ['STR','DEX','CON','INT','WIS','CHA']\n",
    "X3 = df.iloc[:,[xx in colz for xx in df.columns]]\n",
    "plt.subplot(1,2,1)\n",
    "f1=plt.imshow(np.corrcoef(X3.transpose()),cmap='copper')\n",
    "f1.axes.set_xticklabels(colz)\n",
    "f1.axes.set_xticks(range(len(colz)))\n",
    "f1.axes.set_yticklabels(colz)\n",
    "f1.axes.set_yticks(range(len(colz)))\n",
    "plt.colorbar()\n",
    "plt.subplot(1,2,2)\n",
    "X4 = faux_df.loc[:,[xx in colz for xx in df.columns]]\n",
    "f2=plt.imshow(np.corrcoef(X4.transpose()),cmap='copper')\n",
    "f2.axes.set_xticklabels(colz)\n",
    "f2.axes.set_xticks(range(len(colz)))\n",
    "f2.axes.set_yticklabels(colz)\n",
    "f2.axes.set_yticks(range(len(colz)))\n",
    "\n",
    "plt.colorbar()"
   ]
  },
  {
   "cell_type": "code",
   "execution_count": 25,
   "metadata": {},
   "outputs": [
    {
     "data": {
      "text/plain": [
       "(array([  6.,  10.,  48., 139., 255., 178.,  32.,  16.,   3.,   3.]),\n",
       " array([ 1. ,  3.7,  6.4,  9.1, 11.8, 14.5, 17.2, 19.9, 22.6, 25.3, 28. ]),\n",
       " <a list of 10 Patch objects>)"
      ]
     },
     "execution_count": 25,
     "metadata": {},
     "output_type": "execute_result"
    },
    {
     "data": {
      "image/png": "[encoded data removed]",
      "text/plain": [
       "<Figure size 432x288 with 1 Axes>"
      ]
     },
     "metadata": {
      "needs_background": "light"
     },
     "output_type": "display_data"
    }
   ],
   "source": [
    "plt.hist(df.DEX)"
   ]
  },
  {
   "cell_type": "code",
   "execution_count": 26,
   "metadata": {},
   "outputs": [
    {
     "data": {
      "text/plain": [
       "(array([ 34.,  34.,  56., 103., 114., 165.,  89.,  46.,  27.,  22.]),\n",
       " array([ 1. ,  3.9,  6.8,  9.7, 12.6, 15.5, 18.4, 21.3, 24.2, 27.1, 30. ]),\n",
       " <a list of 10 Patch objects>)"
      ]
     },
     "execution_count": 26,
     "metadata": {},
     "output_type": "execute_result"
    },
    {
     "data": {
      "image/png": "[encoded data removed]",
      "text/plain": [
       "<Figure size 432x288 with 1 Axes>"
      ]
     },
     "metadata": {
      "needs_background": "light"
     },
     "output_type": "display_data"
    }
   ],
   "source": [
    "plt.hist(df.STR)"
   ]
  },
  {
   "cell_type": "code",
   "execution_count": 27,
   "metadata": {},
   "outputs": [
    {
     "data": {
      "text/plain": [
       "(array([  1.,  11.,  99., 145., 214., 100.,  58.,  31.,  23.,   8.]),\n",
       " array([ 3. ,  5.7,  8.4, 11.1, 13.8, 16.5, 19.2, 21.9, 24.6, 27.3, 30. ]),\n",
       " <a list of 10 Patch objects>)"
      ]
     },
     "execution_count": 27,
     "metadata": {},
     "output_type": "execute_result"
    },
    {
     "data": {
      "image/png": "[encoded data removed]",
      "text/plain": [
       "<Figure size 432x288 with 1 Axes>"
      ]
     },
     "metadata": {
      "needs_background": "light"
     },
     "output_type": "display_data"
    }
   ],
   "source": [
    "plt.hist(df.CON)"
   ]
  },
  {
   "cell_type": "code",
   "execution_count": 28,
   "metadata": {},
   "outputs": [
    {
     "data": {
      "text/plain": [
       "(array([158.,  52., 100.,  88., 121.,  53.,  71.,  28.,  14.,   5.]),\n",
       " array([ 1. ,  3.5,  6. ,  8.5, 11. , 13.5, 16. , 18.5, 21. , 23.5, 26. ]),\n",
       " <a list of 10 Patch objects>)"
      ]
     },
     "execution_count": 28,
     "metadata": {},
     "output_type": "execute_result"
    },
    {
     "data": {
      "image/png": "[encoded data removed]",
      "text/plain": [
       "<Figure size 432x288 with 1 Axes>"
      ]
     },
     "metadata": {
      "needs_background": "light"
     },
     "output_type": "display_data"
    }
   ],
   "source": [
    "plt.hist(df.INT)\n"
   ]
  },
  {
   "cell_type": "code",
   "execution_count": 29,
   "metadata": {},
   "outputs": [
    {
     "data": {
      "text/plain": [
       "(array([  5.,  18.,  51., 230., 191., 131.,  37.,  15.,  10.,   2.]),\n",
       " array([ 1. ,  3.6,  6.2,  8.8, 11.4, 14. , 16.6, 19.2, 21.8, 24.4, 27. ]),\n",
       " <a list of 10 Patch objects>)"
      ]
     },
     "execution_count": 29,
     "metadata": {},
     "output_type": "execute_result"
    },
    {
     "data": {
      "image/png": "[encoded data removed]",
      "text/plain": [
       "<Figure size 432x288 with 1 Axes>"
      ]
     },
     "metadata": {
      "needs_background": "light"
     },
     "output_type": "display_data"
    }
   ],
   "source": [
    "plt.hist(df.WIS)"
   ]
  },
  {
   "cell_type": "code",
   "execution_count": 30,
   "metadata": {},
   "outputs": [
    {
     "data": {
      "text/plain": [
       "(array([ 58., 120., 140., 132.,  89.,  91.,  35.,  13.,   9.,   3.]),\n",
       " array([ 1. ,  3.9,  6.8,  9.7, 12.6, 15.5, 18.4, 21.3, 24.2, 27.1, 30. ]),\n",
       " <a list of 10 Patch objects>)"
      ]
     },
     "execution_count": 30,
     "metadata": {},
     "output_type": "execute_result"
    },
    {
     "data": {
      "image/png": "[encoded data removed]",
      "text/plain": [
       "<Figure size 432x288 with 1 Axes>"
      ]
     },
     "metadata": {
      "needs_background": "light"
     },
     "output_type": "display_data"
    }
   ],
   "source": [
    "plt.hist(df.CHA)"
   ]
  },
  {
   "cell_type": "code",
   "execution_count": null,
   "metadata": {},
   "outputs": [],
   "source": []
  }
 ],
 "metadata": {
  "kernelspec": {
   "display_name": "Python 3",
   "language": "python",
   "name": "python3"
  },
  "language_info": {
   "codemirror_mode": {
    "name": "ipython",
    "version": 3
   },
   "file_extension": ".py",
   "mimetype": "text/x-python",
   "name": "python",
   "nbconvert_exporter": "python",
   "pygments_lexer": "ipython3",
   "version": "3.6.5"
  }
 },
 "nbformat": 4,
 "nbformat_minor": 2
}
