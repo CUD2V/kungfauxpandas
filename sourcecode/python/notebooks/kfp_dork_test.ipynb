{
 "cells": [
  {
   "cell_type": "markdown",
   "metadata": {},
   "source": [
    "# Forever Monsterous:  A Kung Faux Pandas Tutorial"
   ]
  },
  {
   "cell_type": "markdown",
   "metadata": {},
   "source": [
    "Kung Faux Pandas (KFP) is a set of tools which extends the [Pandas](https://pandas.pydata.org/ \"Pandas Homepage\") dataframe to include some tools for generating synthetic data.\n",
    "\n",
    "There are many reasons to create synthetic data, but KFP assumes the reason is to give a statistical analyst \"realistic\" data, which we term _faux_ data, without exposing the real dataset.   \n",
    "Details on the tools and how to install them are available on the [KFP github repository] (https://github.com/CUD2V/kungfauxpandas).\n",
    "\n",
    "This tutorial assumes you have installed KFP as well as some standard data science tools, such as numpy, scipy, and matplotlib."
   ]
  },
  {
   "cell_type": "markdown",
   "metadata": {},
   "source": [
    "## Chapter 1:  The Problem"
   ]
  },
  {
   "cell_type": "markdown",
   "metadata": {},
   "source": [
    "Monsters are a tricky lot.   They have widely varying statistics and capabilities and many have spent centuries building up their reputations in order to disuade adventurers from invading their spaces.  The smarter variety of monsters have consistently retained good lawyers through the ages, and it in most jurisdictions it's actually illegal to publish the \"personal\" data any monster.\n",
    "\n",
    "Of course, we would like to study the monsters without violating their privacy rights.   KFP can help this problem!\n",
    "\n",
    "1. Generate a fake data set based on the real stuff\n",
    "2. Work out all steps necessary to clean the data up\n",
    "3. Code the data cleaning steps into a function\n",
    "4. Re-run the data generation using the data cleaner\n",
    "5. Get a clean, synthetic data set to study\n",
    "6. Have a trusted agent (DM?) run your study code on the real data and deliver you the results.\n",
    "\n"
   ]
  },
  {
   "cell_type": "code",
   "execution_count": 1,
   "metadata": {},
   "outputs": [],
   "source": [
    "import sqlite3\n",
    "import pandas as pd\n",
    "import numpy as np\n",
    "import scipy as sp\n",
    "import scipy.stats as stats\n",
    "import pylab as plt\n",
    "from collections import Counter\n",
    "import datetime\n",
    "import sys\n",
    "sys.path.append('../')\n",
    "sys.path.append('../../../plugins/DataSynthesizer/DataSynthesizer/')\n",
    "sys.path.append('../../../plugins/DataSynthesizer/')\n",
    "from importlib import reload\n",
    "from kungfauxpandas import KungFauxPandas, TrivialPlugin, DataSynthesizerPlugin, KDEPlugin\n",
    "from fractions import Fraction\n",
    "%matplotlib inline"
   ]
  },
  {
   "cell_type": "markdown",
   "metadata": {},
   "source": [
    "# Step 0:  Get the real data\n",
    "In the real scenario, this step would be done in a secure computing environment to which the researcher has no access."
   ]
  },
  {
   "cell_type": "code",
   "execution_count": 2,
   "metadata": {},
   "outputs": [
    {
     "data": {
      "text/html": [
       "<div>\n",
       "<style scoped>\n",
       "    .dataframe tbody tr th:only-of-type {\n",
       "        vertical-align: middle;\n",
       "    }\n",
       "\n",
       "    .dataframe tbody tr th {\n",
       "        vertical-align: top;\n",
       "    }\n",
       "\n",
       "    .dataframe thead th {\n",
       "        text-align: right;\n",
       "    }\n",
       "</style>\n",
       "<table border=\"1\" class=\"dataframe\">\n",
       "  <thead>\n",
       "    <tr style=\"text-align: right;\">\n",
       "      <th></th>\n",
       "      <th>Name</th>\n",
       "      <th>Type</th>\n",
       "      <th>ALIGNMENT</th>\n",
       "      <th>Size</th>\n",
       "      <th>CR</th>\n",
       "      <th>AC</th>\n",
       "      <th>HP</th>\n",
       "      <th>STR</th>\n",
       "      <th>DEX</th>\n",
       "      <th>CON</th>\n",
       "      <th>INT</th>\n",
       "      <th>WIS</th>\n",
       "      <th>CHA</th>\n",
       "    </tr>\n",
       "  </thead>\n",
       "  <tbody>\n",
       "    <tr>\n",
       "      <th>376</th>\n",
       "      <td>Cloud Giant</td>\n",
       "      <td>Giant</td>\n",
       "      <td>N</td>\n",
       "      <td>Huge</td>\n",
       "      <td>9</td>\n",
       "      <td>14</td>\n",
       "      <td>200</td>\n",
       "      <td>27</td>\n",
       "      <td>10</td>\n",
       "      <td>22</td>\n",
       "      <td>12</td>\n",
       "      <td>16</td>\n",
       "      <td>16.0</td>\n",
       "    </tr>\n",
       "    <tr>\n",
       "      <th>595</th>\n",
       "      <td>Adult Kruthik</td>\n",
       "      <td>Monstrosity</td>\n",
       "      <td>U</td>\n",
       "      <td>Medium</td>\n",
       "      <td>2</td>\n",
       "      <td>18</td>\n",
       "      <td>39</td>\n",
       "      <td>15</td>\n",
       "      <td>16</td>\n",
       "      <td>15</td>\n",
       "      <td>7</td>\n",
       "      <td>12</td>\n",
       "      <td>8.0</td>\n",
       "    </tr>\n",
       "    <tr>\n",
       "      <th>187</th>\n",
       "      <td>Bronze Dragon, Ancient</td>\n",
       "      <td>Dragon</td>\n",
       "      <td>LG</td>\n",
       "      <td>Gargantuan</td>\n",
       "      <td>22</td>\n",
       "      <td>22</td>\n",
       "      <td>444</td>\n",
       "      <td>29</td>\n",
       "      <td>10</td>\n",
       "      <td>27</td>\n",
       "      <td>18</td>\n",
       "      <td>17</td>\n",
       "      <td>21.0</td>\n",
       "    </tr>\n",
       "    <tr>\n",
       "      <th>637</th>\n",
       "      <td>Thorny</td>\n",
       "      <td>Plant</td>\n",
       "      <td>N</td>\n",
       "      <td>Medium</td>\n",
       "      <td>1</td>\n",
       "      <td>14</td>\n",
       "      <td>27</td>\n",
       "      <td>13</td>\n",
       "      <td>12</td>\n",
       "      <td>13</td>\n",
       "      <td>2</td>\n",
       "      <td>10</td>\n",
       "      <td>6.0</td>\n",
       "    </tr>\n",
       "    <tr>\n",
       "      <th>45</th>\n",
       "      <td>Elephant</td>\n",
       "      <td>Beast</td>\n",
       "      <td>U</td>\n",
       "      <td>Huge</td>\n",
       "      <td>4</td>\n",
       "      <td>12</td>\n",
       "      <td>76</td>\n",
       "      <td>22</td>\n",
       "      <td>9</td>\n",
       "      <td>17</td>\n",
       "      <td>3</td>\n",
       "      <td>11</td>\n",
       "      <td>6.0</td>\n",
       "    </tr>\n",
       "    <tr>\n",
       "      <th>597</th>\n",
       "      <td>Carrion Crawler</td>\n",
       "      <td>Monstrosity</td>\n",
       "      <td>U</td>\n",
       "      <td>Large</td>\n",
       "      <td>2</td>\n",
       "      <td>13</td>\n",
       "      <td>51</td>\n",
       "      <td>14</td>\n",
       "      <td>13</td>\n",
       "      <td>16</td>\n",
       "      <td>1</td>\n",
       "      <td>12</td>\n",
       "      <td>5.0</td>\n",
       "    </tr>\n",
       "    <tr>\n",
       "      <th>289</th>\n",
       "      <td>Hydroloth</td>\n",
       "      <td>Fiend</td>\n",
       "      <td>NE</td>\n",
       "      <td>Medium</td>\n",
       "      <td>9</td>\n",
       "      <td>15</td>\n",
       "      <td>135</td>\n",
       "      <td>12</td>\n",
       "      <td>21</td>\n",
       "      <td>16</td>\n",
       "      <td>19</td>\n",
       "      <td>10</td>\n",
       "      <td>14.0</td>\n",
       "    </tr>\n",
       "    <tr>\n",
       "      <th>418</th>\n",
       "      <td>War Priest</td>\n",
       "      <td>Humanoid</td>\n",
       "      <td>ANY</td>\n",
       "      <td>Medium</td>\n",
       "      <td>9</td>\n",
       "      <td>18</td>\n",
       "      <td>117</td>\n",
       "      <td>16</td>\n",
       "      <td>10</td>\n",
       "      <td>14</td>\n",
       "      <td>11</td>\n",
       "      <td>17</td>\n",
       "      <td>13.0</td>\n",
       "    </tr>\n",
       "    <tr>\n",
       "      <th>516</th>\n",
       "      <td>Orc Nurtured One of Yurtrus</td>\n",
       "      <td>Humanoid</td>\n",
       "      <td>CE</td>\n",
       "      <td>Medium</td>\n",
       "      <td>1/2</td>\n",
       "      <td>9</td>\n",
       "      <td>30</td>\n",
       "      <td>15</td>\n",
       "      <td>8</td>\n",
       "      <td>16</td>\n",
       "      <td>7</td>\n",
       "      <td>11</td>\n",
       "      <td>7.0</td>\n",
       "    </tr>\n",
       "    <tr>\n",
       "      <th>314</th>\n",
       "      <td>Goristro</td>\n",
       "      <td>Fiend (Demon)</td>\n",
       "      <td>CE</td>\n",
       "      <td>Huge</td>\n",
       "      <td>17</td>\n",
       "      <td>19</td>\n",
       "      <td>310</td>\n",
       "      <td>25</td>\n",
       "      <td>11</td>\n",
       "      <td>25</td>\n",
       "      <td>6</td>\n",
       "      <td>13</td>\n",
       "      <td>14.0</td>\n",
       "    </tr>\n",
       "  </tbody>\n",
       "</table>\n",
       "</div>"
      ],
      "text/plain": [
       "                            Name           Type ALIGNMENT        Size   CR  \\\n",
       "376                  Cloud Giant          Giant         N        Huge    9   \n",
       "595                Adult Kruthik    Monstrosity         U      Medium    2   \n",
       "187       Bronze Dragon, Ancient         Dragon        LG  Gargantuan   22   \n",
       "637                       Thorny          Plant         N      Medium    1   \n",
       "45                      Elephant          Beast         U        Huge    4   \n",
       "597              Carrion Crawler    Monstrosity         U       Large    2   \n",
       "289                    Hydroloth          Fiend        NE      Medium    9   \n",
       "418                   War Priest       Humanoid       ANY      Medium    9   \n",
       "516  Orc Nurtured One of Yurtrus       Humanoid        CE      Medium  1/2   \n",
       "314                     Goristro  Fiend (Demon)        CE        Huge   17   \n",
       "\n",
       "     AC   HP  STR  DEX  CON  INT  WIS   CHA  \n",
       "376  14  200   27   10   22   12   16  16.0  \n",
       "595  18   39   15   16   15    7   12   8.0  \n",
       "187  22  444   29   10   27   18   17  21.0  \n",
       "637  14   27   13   12   13    2   10   6.0  \n",
       "45   12   76   22    9   17    3   11   6.0  \n",
       "597  13   51   14   13   16    1   12   5.0  \n",
       "289  15  135   12   21   16   19   10  14.0  \n",
       "418  18  117   16   10   14   11   17  13.0  \n",
       "516   9   30   15    8   16    7   11   7.0  \n",
       "314  19  310   25   11   25    6   13  14.0  "
      ]
     },
     "execution_count": 2,
     "metadata": {},
     "output_type": "execute_result"
    }
   ],
   "source": [
    "# Data from: https://docs.google.com/spreadsheets/d/16ajgJpvUI0wYcSU7kjHutw8oB6Zv6eIAo5JtI6PLvu8/edit#gid=776794522\n",
    "monsterfile = \"../../../data/D&D 5e Monster List with Ability Scores.xlsx - Monsters by Ability Score.csv\"\n",
    "df = pd.read_csv(monsterfile)\n",
    "df.sample(10)"
   ]
  },
  {
   "cell_type": "markdown",
   "metadata": {},
   "source": [
    "## Step 1: Grab round 1 of the fake data"
   ]
  },
  {
   "cell_type": "code",
   "execution_count": 3,
   "metadata": {},
   "outputs": [
    {
     "name": "stdout",
     "output_type": "stream",
     "text": [
      "Preprocess None\n",
      "Building KDE Model\n"
     ]
    }
   ],
   "source": [
    "# Instantiate KFP object\n",
    "kfpd = KungFauxPandas(plugin=KDEPlugin(),\n",
    "                      logging='../../../data/kfp_log.db',\n",
    "                      db_file='../../../data/monsters.db')\n",
    "\n",
    "# Ensure KFP object has the options we want\n",
    "kfpd.plugin.capture_covariance = True\n",
    "kfpd.plugin.determine_factors =  True\n",
    "\n",
    "# Generate the Fake data\n",
    "kfpd.plugin.fauxify(df_in=df)\n",
    "\n",
    "# Do some renames to improve readability\n",
    "faux_df = kfpd.plugin.df_out\n",
    "factor_indices = kfpd.plugin.factor_indices\n"
   ]
  },
  {
   "cell_type": "markdown",
   "metadata": {},
   "source": [
    "# Step 2: EDA and Data Cleanup"
   ]
  },
  {
   "cell_type": "code",
   "execution_count": 4,
   "metadata": {},
   "outputs": [
    {
     "data": {
      "text/html": [
       "<div>\n",
       "<style scoped>\n",
       "    .dataframe tbody tr th:only-of-type {\n",
       "        vertical-align: middle;\n",
       "    }\n",
       "\n",
       "    .dataframe tbody tr th {\n",
       "        vertical-align: top;\n",
       "    }\n",
       "\n",
       "    .dataframe thead th {\n",
       "        text-align: right;\n",
       "    }\n",
       "</style>\n",
       "<table border=\"1\" class=\"dataframe\">\n",
       "  <thead>\n",
       "    <tr style=\"text-align: right;\">\n",
       "      <th></th>\n",
       "      <th>Type</th>\n",
       "      <th>ALIGNMENT</th>\n",
       "      <th>Size</th>\n",
       "      <th>CR</th>\n",
       "      <th>AC</th>\n",
       "      <th>HP</th>\n",
       "      <th>STR</th>\n",
       "      <th>DEX</th>\n",
       "      <th>CON</th>\n",
       "      <th>INT</th>\n",
       "      <th>WIS</th>\n",
       "      <th>CHA</th>\n",
       "    </tr>\n",
       "  </thead>\n",
       "  <tbody>\n",
       "    <tr>\n",
       "      <th>418</th>\n",
       "      <td>1.059753</td>\n",
       "      <td>7.033672</td>\n",
       "      <td>3.981787</td>\n",
       "      <td>16.965493</td>\n",
       "      <td>9.983326</td>\n",
       "      <td>0.990464</td>\n",
       "      <td>1.988472</td>\n",
       "      <td>11.041203</td>\n",
       "      <td>9.028838</td>\n",
       "      <td>2.010031</td>\n",
       "      <td>10.034255</td>\n",
       "      <td>4.020048</td>\n",
       "    </tr>\n",
       "    <tr>\n",
       "      <th>371</th>\n",
       "      <td>14.044071</td>\n",
       "      <td>4.008534</td>\n",
       "      <td>0.966237</td>\n",
       "      <td>11.018127</td>\n",
       "      <td>15.003323</td>\n",
       "      <td>74.783926</td>\n",
       "      <td>18.050155</td>\n",
       "      <td>10.022315</td>\n",
       "      <td>14.982374</td>\n",
       "      <td>6.069961</td>\n",
       "      <td>12.038335</td>\n",
       "      <td>7.041281</td>\n",
       "    </tr>\n",
       "    <tr>\n",
       "      <th>74</th>\n",
       "      <td>12.993474</td>\n",
       "      <td>0.995189</td>\n",
       "      <td>3.021833</td>\n",
       "      <td>11.983459</td>\n",
       "      <td>12.973972</td>\n",
       "      <td>47.545542</td>\n",
       "      <td>6.949638</td>\n",
       "      <td>15.983722</td>\n",
       "      <td>14.953299</td>\n",
       "      <td>9.929959</td>\n",
       "      <td>10.950610</td>\n",
       "      <td>11.946950</td>\n",
       "    </tr>\n",
       "    <tr>\n",
       "      <th>221</th>\n",
       "      <td>14.055771</td>\n",
       "      <td>3.995570</td>\n",
       "      <td>-0.027995</td>\n",
       "      <td>12.022474</td>\n",
       "      <td>12.055382</td>\n",
       "      <td>59.334986</td>\n",
       "      <td>17.041374</td>\n",
       "      <td>12.017493</td>\n",
       "      <td>15.056232</td>\n",
       "      <td>5.140403</td>\n",
       "      <td>13.045185</td>\n",
       "      <td>8.130676</td>\n",
       "    </tr>\n",
       "    <tr>\n",
       "      <th>57</th>\n",
       "      <td>0.969588</td>\n",
       "      <td>7.062867</td>\n",
       "      <td>0.999705</td>\n",
       "      <td>12.981905</td>\n",
       "      <td>13.989919</td>\n",
       "      <td>26.759079</td>\n",
       "      <td>14.051135</td>\n",
       "      <td>15.999280</td>\n",
       "      <td>12.020118</td>\n",
       "      <td>2.007933</td>\n",
       "      <td>11.045520</td>\n",
       "      <td>4.056531</td>\n",
       "    </tr>\n",
       "  </tbody>\n",
       "</table>\n",
       "</div>"
      ],
      "text/plain": [
       "          Type  ALIGNMENT      Size         CR         AC         HP  \\\n",
       "418   1.059753   7.033672  3.981787  16.965493   9.983326   0.990464   \n",
       "371  14.044071   4.008534  0.966237  11.018127  15.003323  74.783926   \n",
       "74   12.993474   0.995189  3.021833  11.983459  12.973972  47.545542   \n",
       "221  14.055771   3.995570 -0.027995  12.022474  12.055382  59.334986   \n",
       "57    0.969588   7.062867  0.999705  12.981905  13.989919  26.759079   \n",
       "\n",
       "           STR        DEX        CON       INT        WIS        CHA  \n",
       "418   1.988472  11.041203   9.028838  2.010031  10.034255   4.020048  \n",
       "371  18.050155  10.022315  14.982374  6.069961  12.038335   7.041281  \n",
       "74    6.949638  15.983722  14.953299  9.929959  10.950610  11.946950  \n",
       "221  17.041374  12.017493  15.056232  5.140403  13.045185   8.130676  \n",
       "57   14.051135  15.999280  12.020118  2.007933  11.045520   4.056531  "
      ]
     },
     "execution_count": 4,
     "metadata": {},
     "output_type": "execute_result"
    }
   ],
   "source": [
    "faux_df.sample(5)"
   ]
  },
  {
   "cell_type": "markdown",
   "metadata": {},
   "source": [
    "Since we seleccted the KDE plugin, this data was generated with a Gaussian Kernel Density Estimator, which assumes that the samples come from a continuous distribution.   That is, numbers like Hit Points (HP) are assumed to take any decimal value.    Due to our domain expertise, however, we know that these numbers really should all be integers.    One could generate a more complex simulation model or just round off our fake data.   "
   ]
  },
  {
   "cell_type": "code",
   "execution_count": 5,
   "metadata": {},
   "outputs": [
    {
     "data": {
      "text/html": [
       "<div>\n",
       "<style scoped>\n",
       "    .dataframe tbody tr th:only-of-type {\n",
       "        vertical-align: middle;\n",
       "    }\n",
       "\n",
       "    .dataframe tbody tr th {\n",
       "        vertical-align: top;\n",
       "    }\n",
       "\n",
       "    .dataframe thead th {\n",
       "        text-align: right;\n",
       "    }\n",
       "</style>\n",
       "<table border=\"1\" class=\"dataframe\">\n",
       "  <thead>\n",
       "    <tr style=\"text-align: right;\">\n",
       "      <th></th>\n",
       "      <th>Type</th>\n",
       "      <th>ALIGNMENT</th>\n",
       "      <th>Size</th>\n",
       "      <th>CR</th>\n",
       "      <th>AC</th>\n",
       "      <th>HP</th>\n",
       "      <th>STR</th>\n",
       "      <th>DEX</th>\n",
       "      <th>CON</th>\n",
       "      <th>INT</th>\n",
       "      <th>WIS</th>\n",
       "      <th>CHA</th>\n",
       "    </tr>\n",
       "  </thead>\n",
       "  <tbody>\n",
       "    <tr>\n",
       "      <th>152</th>\n",
       "      <td>4</td>\n",
       "      <td>6</td>\n",
       "      <td>5</td>\n",
       "      <td>26</td>\n",
       "      <td>19</td>\n",
       "      <td>256</td>\n",
       "      <td>27</td>\n",
       "      <td>14</td>\n",
       "      <td>25</td>\n",
       "      <td>16</td>\n",
       "      <td>15</td>\n",
       "      <td>24</td>\n",
       "    </tr>\n",
       "    <tr>\n",
       "      <th>365</th>\n",
       "      <td>4</td>\n",
       "      <td>6</td>\n",
       "      <td>5</td>\n",
       "      <td>0</td>\n",
       "      <td>19</td>\n",
       "      <td>245</td>\n",
       "      <td>27</td>\n",
       "      <td>10</td>\n",
       "      <td>25</td>\n",
       "      <td>16</td>\n",
       "      <td>13</td>\n",
       "      <td>21</td>\n",
       "    </tr>\n",
       "    <tr>\n",
       "      <th>253</th>\n",
       "      <td>14</td>\n",
       "      <td>7</td>\n",
       "      <td>1</td>\n",
       "      <td>9</td>\n",
       "      <td>17</td>\n",
       "      <td>94</td>\n",
       "      <td>19</td>\n",
       "      <td>11</td>\n",
       "      <td>21</td>\n",
       "      <td>2</td>\n",
       "      <td>10</td>\n",
       "      <td>5</td>\n",
       "    </tr>\n",
       "    <tr>\n",
       "      <th>336</th>\n",
       "      <td>4</td>\n",
       "      <td>6</td>\n",
       "      <td>0</td>\n",
       "      <td>12</td>\n",
       "      <td>17</td>\n",
       "      <td>32</td>\n",
       "      <td>17</td>\n",
       "      <td>10</td>\n",
       "      <td>15</td>\n",
       "      <td>12</td>\n",
       "      <td>11</td>\n",
       "      <td>15</td>\n",
       "    </tr>\n",
       "    <tr>\n",
       "      <th>409</th>\n",
       "      <td>8</td>\n",
       "      <td>0</td>\n",
       "      <td>0</td>\n",
       "      <td>15</td>\n",
       "      <td>11</td>\n",
       "      <td>18</td>\n",
       "      <td>9</td>\n",
       "      <td>12</td>\n",
       "      <td>11</td>\n",
       "      <td>5</td>\n",
       "      <td>8</td>\n",
       "      <td>5</td>\n",
       "    </tr>\n",
       "  </tbody>\n",
       "</table>\n",
       "</div>"
      ],
      "text/plain": [
       "     Type  ALIGNMENT  Size  CR  AC   HP  STR  DEX  CON  INT  WIS  CHA\n",
       "152     4          6     5  26  19  256   27   14   25   16   15   24\n",
       "365     4          6     5   0  19  245   27   10   25   16   13   21\n",
       "253    14          7     1   9  17   94   19   11   21    2   10    5\n",
       "336     4          6     0  12  17   32   17   10   15   12   11   15\n",
       "409     8          0     0  15  11   18    9   12   11    5    8    5"
      ]
     },
     "execution_count": 5,
     "metadata": {},
     "output_type": "execute_result"
    }
   ],
   "source": [
    "# Get numbers back to integers\n",
    "faux_df = faux_df.round().astype('int')\n",
    "faux_df.sample(5)"
   ]
  },
  {
   "cell_type": "markdown",
   "metadata": {},
   "source": [
    "These look more like we might expect, however some of our fields were factors (i.e. text fields).  We'd like to restore these to their original labels."
   ]
  },
  {
   "cell_type": "code",
   "execution_count": 6,
   "metadata": {},
   "outputs": [
    {
     "data": {
      "text/html": [
       "<div>\n",
       "<style scoped>\n",
       "    .dataframe tbody tr th:only-of-type {\n",
       "        vertical-align: middle;\n",
       "    }\n",
       "\n",
       "    .dataframe tbody tr th {\n",
       "        vertical-align: top;\n",
       "    }\n",
       "\n",
       "    .dataframe thead th {\n",
       "        text-align: right;\n",
       "    }\n",
       "</style>\n",
       "<table border=\"1\" class=\"dataframe\">\n",
       "  <thead>\n",
       "    <tr style=\"text-align: right;\">\n",
       "      <th></th>\n",
       "      <th>Type</th>\n",
       "      <th>ALIGNMENT</th>\n",
       "      <th>Size</th>\n",
       "      <th>CR</th>\n",
       "      <th>AC</th>\n",
       "      <th>HP</th>\n",
       "      <th>STR</th>\n",
       "      <th>DEX</th>\n",
       "      <th>CON</th>\n",
       "      <th>INT</th>\n",
       "      <th>WIS</th>\n",
       "      <th>CHA</th>\n",
       "    </tr>\n",
       "  </thead>\n",
       "  <tbody>\n",
       "    <tr>\n",
       "      <th>91</th>\n",
       "      <td>Humanoid</td>\n",
       "      <td>NOT GOOD</td>\n",
       "      <td>Medium</td>\n",
       "      <td>8</td>\n",
       "      <td>18</td>\n",
       "      <td>151</td>\n",
       "      <td>18</td>\n",
       "      <td>11</td>\n",
       "      <td>18</td>\n",
       "      <td>11</td>\n",
       "      <td>14</td>\n",
       "      <td>15</td>\n",
       "    </tr>\n",
       "    <tr>\n",
       "      <th>591</th>\n",
       "      <td>Undead</td>\n",
       "      <td>NE</td>\n",
       "      <td>Large</td>\n",
       "      <td>5</td>\n",
       "      <td>15</td>\n",
       "      <td>94</td>\n",
       "      <td>10</td>\n",
       "      <td>8</td>\n",
       "      <td>16</td>\n",
       "      <td>3</td>\n",
       "      <td>8</td>\n",
       "      <td>5</td>\n",
       "    </tr>\n",
       "    <tr>\n",
       "      <th>341</th>\n",
       "      <td>Fiend (Demon)</td>\n",
       "      <td>CE</td>\n",
       "      <td>Medium</td>\n",
       "      <td>3</td>\n",
       "      <td>14</td>\n",
       "      <td>53</td>\n",
       "      <td>15</td>\n",
       "      <td>14</td>\n",
       "      <td>17</td>\n",
       "      <td>8</td>\n",
       "      <td>9</td>\n",
       "      <td>6</td>\n",
       "    </tr>\n",
       "    <tr>\n",
       "      <th>543</th>\n",
       "      <td>Beast</td>\n",
       "      <td>U</td>\n",
       "      <td>Tiny</td>\n",
       "      <td>0</td>\n",
       "      <td>10</td>\n",
       "      <td>0</td>\n",
       "      <td>2</td>\n",
       "      <td>11</td>\n",
       "      <td>10</td>\n",
       "      <td>1</td>\n",
       "      <td>8</td>\n",
       "      <td>3</td>\n",
       "    </tr>\n",
       "    <tr>\n",
       "      <th>319</th>\n",
       "      <td>Beast</td>\n",
       "      <td>U</td>\n",
       "      <td>Large</td>\n",
       "      <td>1</td>\n",
       "      <td>14</td>\n",
       "      <td>26</td>\n",
       "      <td>14</td>\n",
       "      <td>16</td>\n",
       "      <td>12</td>\n",
       "      <td>2</td>\n",
       "      <td>11</td>\n",
       "      <td>4</td>\n",
       "    </tr>\n",
       "  </tbody>\n",
       "</table>\n",
       "</div>"
      ],
      "text/plain": [
       "              Type ALIGNMENT    Size CR  AC   HP  STR  DEX  CON  INT  WIS  CHA\n",
       "91        Humanoid  NOT GOOD  Medium  8  18  151   18   11   18   11   14   15\n",
       "591         Undead        NE   Large  5  15   94   10    8   16    3    8    5\n",
       "341  Fiend (Demon)        CE  Medium  3  14   53   15   14   17    8    9    6\n",
       "543          Beast         U    Tiny  0  10    0    2   11   10    1    8    3\n",
       "319          Beast         U   Large  1  14   26   14   16   12    2   11    4"
      ]
     },
     "execution_count": 6,
     "metadata": {},
     "output_type": "execute_result"
    }
   ],
   "source": [
    "# Back-transform factors to their labels\n",
    "for factor_name in factor_indices:\n",
    "    alt = factor_indices[factor_name]\n",
    "    altlab = np.arange(len(alt))\n",
    "    lookup = dict(zip(altlab,alt))\n",
    "    faux_df[factor_name]=[lookup[xx] for xx in faux_df[factor_name]]\n",
    "\n",
    "faux_df.sample(5)"
   ]
  },
  {
   "cell_type": "markdown",
   "metadata": {},
   "source": [
    "This looks much more like what we'd expect.    Lets do some exploration and cleaning."
   ]
  },
  {
   "cell_type": "code",
   "execution_count": 7,
   "metadata": {},
   "outputs": [
    {
     "name": "stdout",
     "output_type": "stream",
     "text": [
      "['Humanoid' 'Monstrosity' 'Fey' 'Fiend (Devil)' 'Fiend (Demon)' 'Beast'\n",
      " 'Elemental' 'Construct' 'Giant ' 'Giant' 'Undead' 'Fiend' 'Aberration'\n",
      " 'Dragon' 'Celestial' 'Ooze' 'Plant' 'Fiend (demon)']\n",
      "['Aberration' 'Beast' 'Celestial' 'Construct' 'Dragon' 'Elemental' 'Fey'\n",
      " 'Fiend' 'Fiend (Demon)' 'Fiend (Devil)' 'Fiend (demon)' 'Giant' 'Giant '\n",
      " 'Humanoid' 'Monstrosity' 'Ooze' 'Plant' 'Undead']\n"
     ]
    }
   ],
   "source": [
    "distincts = faux_df.Type.unique()\n",
    "print(distincts)\n",
    "distincts.sort()\n",
    "print(distincts)\n"
   ]
  },
  {
   "cell_type": "markdown",
   "metadata": {},
   "source": [
    "+ **Boo!  Why is Giant in there twice? A trailing space!**\n",
    "\n",
    "Lets check the other factors."
   ]
  },
  {
   "cell_type": "code",
   "execution_count": 8,
   "metadata": {},
   "outputs": [
    {
     "name": "stdout",
     "output_type": "stream",
     "text": [
      "['Medium' 'Huge' 'Tiny' 'Large' 'Small' 'small' 'Gargantuan' 'VARIES'\n",
      " 'large']\n",
      "['Gargantuan' 'Huge' 'Large' 'Medium' 'Small' 'Tiny' 'VARIES' 'large'\n",
      " 'small']\n"
     ]
    }
   ],
   "source": [
    "distincts = faux_df.Size.unique()\n",
    "print(distincts)\n",
    "distincts.sort()\n",
    "print(distincts)"
   ]
  },
  {
   "cell_type": "markdown",
   "metadata": {},
   "source": [
    "+ **ooh!  There's \"large\" and \"Large\", \"small and \"Small\", and \"VARIES\" changes capitalization convention.**"
   ]
  },
  {
   "cell_type": "code",
   "execution_count": 9,
   "metadata": {},
   "outputs": [
    {
     "name": "stdout",
     "output_type": "stream",
     "text": [
      "['ANY' 'CE' 'N' 'CN' 'LE' 'LN' 'U' 'NE' 'C' 'ANY EVIL' 'CG' 'LG' 'NOT GOOD'\n",
      " 'NOT LAWFUL' 'NG' 'E' 'CG OR NE']\n",
      "['ANY' 'ANY EVIL' 'C' 'CE' 'CG' 'CG OR NE' 'CN' 'E' 'LE' 'LG' 'LN' 'N' 'NE'\n",
      " 'NG' 'NOT GOOD' 'NOT LAWFUL' 'U']\n"
     ]
    }
   ],
   "source": [
    "distincts = faux_df.ALIGNMENT.unique()\n",
    "print(distincts)\n",
    "distincts.sort()\n",
    "print(distincts)\n",
    "\n"
   ]
  },
  {
   "cell_type": "markdown",
   "metadata": {},
   "source": [
    "* **No problems jump out here**"
   ]
  },
  {
   "cell_type": "code",
   "execution_count": 10,
   "metadata": {},
   "outputs": [
    {
     "name": "stdout",
     "output_type": "stream",
     "text": [
      "['1' '9' '11' '10' '3' '1/4' '1/2' '4' '25' '7' '13' '6' '2' '5' '0' '1/8'\n",
      " '17' '12' '16' '23' '15' '8' '21' '18' '26' '22' '20' '19' '14' '24' '30']\n",
      "['0' '1' '1/2' '1/4' '1/8' '10' '11' '12' '13' '14' '15' '16' '17' '18'\n",
      " '19' '2' '20' '21' '22' '23' '24' '25' '26' '3' '30' '4' '5' '6' '7' '8'\n",
      " '9']\n"
     ]
    }
   ],
   "source": [
    "distincts = faux_df.CR.unique()\n",
    "print(distincts)\n",
    "distincts.sort()\n",
    "print(distincts)"
   ]
  },
  {
   "cell_type": "markdown",
   "metadata": {},
   "source": [
    "*  **This has numbers, mostly.  There's a '-' for some reason.   Also, there are fractions which we might want to be numerical.**\n",
    "\n",
    "Lets build a preprocessor that can fix these problems for us.  "
   ]
  },
  {
   "cell_type": "code",
   "execution_count": 11,
   "metadata": {
    "collapsed": true
   },
   "outputs": [],
   "source": [
    "# Preprocessing instructions\n",
    "def df_preprocess(df):\n",
    "\n",
    "    # Get rid of rows with missing data\n",
    "    df=df.dropna()\n",
    "    \n",
    "    # Take care of capitalization problems\n",
    "    df['Size']=pd.Series([xx.capitalize().strip() for xx in df.Size])\n",
    "    df['Type']=pd.Series([xx.capitalize().strip() for xx in df.Type])\n",
    "    df['ALIGNMENT'] = pd.Series([xx.upper().strip() for xx in df.ALIGNMENT])\n",
    "    \n",
    "    # Convert any '-' values to a 0\n",
    "    #df['CR'] = pd.Series([xx if xx is not '-' else '0' for xx in df.CR])\n",
    "    df['CR'] = pd.Series([float(Fraction(xx)) if xx is not '-' else 0.0 for xx in df.CR])\n",
    "    return(df)"
   ]
  },
  {
   "cell_type": "markdown",
   "metadata": {},
   "source": [
    "Lets verify that df_preprocess seems to fix our problems on our original data set."
   ]
  },
  {
   "cell_type": "code",
   "execution_count": 14,
   "metadata": {
    "collapsed": true
   },
   "outputs": [
    {
     "name": "stdout",
     "output_type": "stream",
     "text": [
      "['Medium' 'Huge' 'Tiny' 'Large' 'Small' 'Gargantuan' 'Varies'] \n",
      "\n",
      " ['Humanoid' 'Monstrosity' 'Fey' 'Fiend (devil)' 'Fiend (demon)' 'Beast'\n",
      " 'Elemental' 'Construct' 'Giant' 'Undead' 'Fiend' 'Aberration' 'Dragon'\n",
      " 'Celestial' 'Ooze' 'Plant'] \n",
      "\n",
      " ['ANY' 'CE' 'N' 'CN' 'LE' 'LN' 'U' 'NE' 'C' 'ANY EVIL' 'CG' 'LG' 'NOT GOOD'\n",
      " 'NOT LAWFUL' 'NG' 'E' 'CG OR NE']\n",
      "[  1.      9.     11.     10.      3.      0.25    0.5     4.     25.      7.\n",
      "  13.      6.      2.      5.      0.      0.125  17.     12.     16.     23.\n",
      "  15.      8.     21.     18.     26.     22.     20.     19.     14.     24.\n",
      "  30.   ]\n"
     ]
    }
   ],
   "source": [
    "fixed = df_preprocess(faux_df)\n",
    "print(fixed.Size.unique(), '\\n\\n', fixed.Type.unique(),'\\n\\n',fixed.ALIGNMENT.unique())\n",
    "\n",
    "print(fixed.CR.unique())"
   ]
  },
  {
   "cell_type": "markdown",
   "metadata": {},
   "source": [
    "Ok.  Lets re-run with the preprocessor!"
   ]
  },
  {
   "cell_type": "code",
   "execution_count": 22,
   "metadata": {
    "collapsed": true
   },
   "outputs": [
    {
     "name": "stdout",
     "output_type": "stream",
     "text": [
      "Preprocess <function df_preprocess at 0x10fffb598>\n",
      "Building KDE Model\n"
     ]
    },
    {
     "name": "stderr",
     "output_type": "stream",
     "text": [
      "/Users/jamesking/miniconda3/lib/python3.6/site-packages/ipykernel_launcher.py:8: SettingWithCopyWarning: \n",
      "A value is trying to be set on a copy of a slice from a DataFrame.\n",
      "Try using .loc[row_indexer,col_indexer] = value instead\n",
      "\n",
      "See the caveats in the documentation: http://pandas.pydata.org/pandas-docs/stable/indexing.html#indexing-view-versus-copy\n",
      "  \n",
      "/Users/jamesking/miniconda3/lib/python3.6/site-packages/ipykernel_launcher.py:9: SettingWithCopyWarning: \n",
      "A value is trying to be set on a copy of a slice from a DataFrame.\n",
      "Try using .loc[row_indexer,col_indexer] = value instead\n",
      "\n",
      "See the caveats in the documentation: http://pandas.pydata.org/pandas-docs/stable/indexing.html#indexing-view-versus-copy\n",
      "  if __name__ == '__main__':\n",
      "/Users/jamesking/miniconda3/lib/python3.6/site-packages/ipykernel_launcher.py:10: SettingWithCopyWarning: \n",
      "A value is trying to be set on a copy of a slice from a DataFrame.\n",
      "Try using .loc[row_indexer,col_indexer] = value instead\n",
      "\n",
      "See the caveats in the documentation: http://pandas.pydata.org/pandas-docs/stable/indexing.html#indexing-view-versus-copy\n",
      "  # Remove the CWD from sys.path while we load stuff.\n",
      "/Users/jamesking/miniconda3/lib/python3.6/site-packages/ipykernel_launcher.py:14: SettingWithCopyWarning: \n",
      "A value is trying to be set on a copy of a slice from a DataFrame.\n",
      "Try using .loc[row_indexer,col_indexer] = value instead\n",
      "\n",
      "See the caveats in the documentation: http://pandas.pydata.org/pandas-docs/stable/indexing.html#indexing-view-versus-copy\n",
      "  \n"
     ]
    }
   ],
   "source": [
    "# Instantiate KFP object\n",
    "kfpd = KungFauxPandas(plugin=KDEPlugin(),\n",
    "                      logging='../../../data/kfp_log.db',\n",
    "                      db_file='../../../data/monsters.db')\n",
    "\n",
    "# Ensure KFP object has the options we want\n",
    "kfpd.plugin.capture_covariance = True\n",
    "kfpd.plugin.determine_factors =  True\n",
    "\n",
    "# Generate the Fake data\n",
    "kfpd.plugin.fauxify(df_in=df, preprocess=df_preprocess)\n",
    "\n",
    "# Do some renames to improve readability\n",
    "faux_df = kfpd.plugin.df_out\n",
    "factor_indices = kfpd.plugin.factor_indices"
   ]
  },
  {
   "cell_type": "code",
   "execution_count": 23,
   "metadata": {
    "collapsed": true
   },
   "outputs": [],
   "source": [
    "# Get numbers back to integers\n",
    "faux_df = faux_df.round().astype('int')"
   ]
  },
  {
   "cell_type": "code",
   "execution_count": 24,
   "metadata": {
    "collapsed": true
   },
   "outputs": [
    {
     "data": {
      "text/html": [
       "<div>\n",
       "<style scoped>\n",
       "    .dataframe tbody tr th:only-of-type {\n",
       "        vertical-align: middle;\n",
       "    }\n",
       "\n",
       "    .dataframe tbody tr th {\n",
       "        vertical-align: top;\n",
       "    }\n",
       "\n",
       "    .dataframe thead th {\n",
       "        text-align: right;\n",
       "    }\n",
       "</style>\n",
       "<table border=\"1\" class=\"dataframe\">\n",
       "  <thead>\n",
       "    <tr style=\"text-align: right;\">\n",
       "      <th></th>\n",
       "      <th>Type</th>\n",
       "      <th>ALIGNMENT</th>\n",
       "      <th>Size</th>\n",
       "      <th>CR</th>\n",
       "      <th>AC</th>\n",
       "      <th>HP</th>\n",
       "      <th>STR</th>\n",
       "      <th>DEX</th>\n",
       "      <th>CON</th>\n",
       "      <th>INT</th>\n",
       "      <th>WIS</th>\n",
       "      <th>CHA</th>\n",
       "    </tr>\n",
       "  </thead>\n",
       "  <tbody>\n",
       "    <tr>\n",
       "      <th>144</th>\n",
       "      <td>11</td>\n",
       "      <td>14</td>\n",
       "      <td>0</td>\n",
       "      <td>2</td>\n",
       "      <td>12</td>\n",
       "      <td>30</td>\n",
       "      <td>12</td>\n",
       "      <td>11</td>\n",
       "      <td>16</td>\n",
       "      <td>11</td>\n",
       "      <td>14</td>\n",
       "      <td>9</td>\n",
       "    </tr>\n",
       "    <tr>\n",
       "      <th>280</th>\n",
       "      <td>7</td>\n",
       "      <td>2</td>\n",
       "      <td>1</td>\n",
       "      <td>9</td>\n",
       "      <td>17</td>\n",
       "      <td>145</td>\n",
       "      <td>19</td>\n",
       "      <td>14</td>\n",
       "      <td>21</td>\n",
       "      <td>16</td>\n",
       "      <td>15</td>\n",
       "      <td>18</td>\n",
       "    </tr>\n",
       "    <tr>\n",
       "      <th>277</th>\n",
       "      <td>4</td>\n",
       "      <td>0</td>\n",
       "      <td>0</td>\n",
       "      <td>2</td>\n",
       "      <td>14</td>\n",
       "      <td>52</td>\n",
       "      <td>16</td>\n",
       "      <td>11</td>\n",
       "      <td>16</td>\n",
       "      <td>4</td>\n",
       "      <td>10</td>\n",
       "      <td>7</td>\n",
       "    </tr>\n",
       "    <tr>\n",
       "      <th>506</th>\n",
       "      <td>12</td>\n",
       "      <td>5</td>\n",
       "      <td>1</td>\n",
       "      <td>21</td>\n",
       "      <td>18</td>\n",
       "      <td>472</td>\n",
       "      <td>30</td>\n",
       "      <td>11</td>\n",
       "      <td>25</td>\n",
       "      <td>22</td>\n",
       "      <td>18</td>\n",
       "      <td>20</td>\n",
       "    </tr>\n",
       "    <tr>\n",
       "      <th>86</th>\n",
       "      <td>1</td>\n",
       "      <td>7</td>\n",
       "      <td>2</td>\n",
       "      <td>5</td>\n",
       "      <td>15</td>\n",
       "      <td>121</td>\n",
       "      <td>21</td>\n",
       "      <td>9</td>\n",
       "      <td>17</td>\n",
       "      <td>2</td>\n",
       "      <td>10</td>\n",
       "      <td>7</td>\n",
       "    </tr>\n",
       "    <tr>\n",
       "      <th>36</th>\n",
       "      <td>11</td>\n",
       "      <td>0</td>\n",
       "      <td>0</td>\n",
       "      <td>2</td>\n",
       "      <td>15</td>\n",
       "      <td>31</td>\n",
       "      <td>14</td>\n",
       "      <td>16</td>\n",
       "      <td>15</td>\n",
       "      <td>14</td>\n",
       "      <td>15</td>\n",
       "      <td>11</td>\n",
       "    </tr>\n",
       "    <tr>\n",
       "      <th>404</th>\n",
       "      <td>12</td>\n",
       "      <td>2</td>\n",
       "      <td>5</td>\n",
       "      <td>12</td>\n",
       "      <td>19</td>\n",
       "      <td>190</td>\n",
       "      <td>19</td>\n",
       "      <td>13</td>\n",
       "      <td>20</td>\n",
       "      <td>3</td>\n",
       "      <td>6</td>\n",
       "      <td>8</td>\n",
       "    </tr>\n",
       "    <tr>\n",
       "      <th>549</th>\n",
       "      <td>15</td>\n",
       "      <td>1</td>\n",
       "      <td>1</td>\n",
       "      <td>15</td>\n",
       "      <td>17</td>\n",
       "      <td>96</td>\n",
       "      <td>18</td>\n",
       "      <td>10</td>\n",
       "      <td>17</td>\n",
       "      <td>11</td>\n",
       "      <td>18</td>\n",
       "      <td>16</td>\n",
       "    </tr>\n",
       "    <tr>\n",
       "      <th>258</th>\n",
       "      <td>1</td>\n",
       "      <td>7</td>\n",
       "      <td>0</td>\n",
       "      <td>0</td>\n",
       "      <td>12</td>\n",
       "      <td>13</td>\n",
       "      <td>10</td>\n",
       "      <td>14</td>\n",
       "      <td>10</td>\n",
       "      <td>1</td>\n",
       "      <td>10</td>\n",
       "      <td>3</td>\n",
       "    </tr>\n",
       "    <tr>\n",
       "      <th>554</th>\n",
       "      <td>4</td>\n",
       "      <td>6</td>\n",
       "      <td>1</td>\n",
       "      <td>13</td>\n",
       "      <td>18</td>\n",
       "      <td>177</td>\n",
       "      <td>23</td>\n",
       "      <td>10</td>\n",
       "      <td>21</td>\n",
       "      <td>14</td>\n",
       "      <td>11</td>\n",
       "      <td>19</td>\n",
       "    </tr>\n",
       "  </tbody>\n",
       "</table>\n",
       "</div>"
      ],
      "text/plain": [
       "     Type  ALIGNMENT  Size  CR  AC   HP  STR  DEX  CON  INT  WIS  CHA\n",
       "144    11         14     0   2  12   30   12   11   16   11   14    9\n",
       "280     7          2     1   9  17  145   19   14   21   16   15   18\n",
       "277     4          0     0   2  14   52   16   11   16    4   10    7\n",
       "506    12          5     1  21  18  472   30   11   25   22   18   20\n",
       "86      1          7     2   5  15  121   21    9   17    2   10    7\n",
       "36     11          0     0   2  15   31   14   16   15   14   15   11\n",
       "404    12          2     5  12  19  190   19   13   20    3    6    8\n",
       "549    15          1     1  15  17   96   18   10   17   11   18   16\n",
       "258     1          7     0   0  12   13   10   14   10    1   10    3\n",
       "554     4          6     1  13  18  177   23   10   21   14   11   19"
      ]
     },
     "execution_count": 24,
     "metadata": {},
     "output_type": "execute_result"
    }
   ],
   "source": [
    "faux_df.sample(10)"
   ]
  },
  {
   "cell_type": "code",
   "execution_count": 25,
   "metadata": {
    "collapsed": true
   },
   "outputs": [
    {
     "data": {
      "text/plain": [
       "{'ALIGNMENT': Index(['CE', 'LE', 'NE', 'CN', 'N', 'LN', 'LG', 'U', 'CG OR NE', 'CG',\n",
       "        'SAME AS EIDOLON', 'NG', 'E', 'C', 'ANY', 'NOT GOOD', 'NOT LAWFUL',\n",
       "        'ANY EVIL'],\n",
       "       dtype='object'),\n",
       " 'Size': Index(['Medium', 'Large', 'Gargantuan', 'Small', 'Tiny', 'Huge', 'Varies'], dtype='object'),\n",
       " 'Type': Index(['Aberration', 'Beast', 'Celestial', 'Construct', 'Dragon', 'Elemental',\n",
       "        'Fey', 'Fiend', 'Fiend (demon)', 'Fiend (devil)', 'Giant', 'Humanoid',\n",
       "        'Monstrosity', 'Ooze', 'Plant', 'Undead'],\n",
       "       dtype='object')}"
      ]
     },
     "execution_count": 25,
     "metadata": {},
     "output_type": "execute_result"
    }
   ],
   "source": [
    "factor_indices"
   ]
  },
  {
   "cell_type": "code",
   "execution_count": 26,
   "metadata": {
    "collapsed": true
   },
   "outputs": [],
   "source": [
    "# Back-transform factors to their labels\n",
    "for factor_name in factor_indices:\n",
    "    alt = factor_indices[factor_name]\n",
    "    altlab = np.arange(len(alt))\n",
    "    lookup = dict(zip(altlab,alt))\n",
    "    faux_df[factor_name]=[lookup[xx] for xx in faux_df[factor_name]]\n",
    "\n"
   ]
  },
  {
   "cell_type": "code",
   "execution_count": 98,
   "metadata": {},
   "outputs": [
    {
     "data": {
      "text/html": [
       "<div>\n",
       "<style scoped>\n",
       "    .dataframe tbody tr th:only-of-type {\n",
       "        vertical-align: middle;\n",
       "    }\n",
       "\n",
       "    .dataframe tbody tr th {\n",
       "        vertical-align: top;\n",
       "    }\n",
       "\n",
       "    .dataframe thead th {\n",
       "        text-align: right;\n",
       "    }\n",
       "</style>\n",
       "<table border=\"1\" class=\"dataframe\">\n",
       "  <thead>\n",
       "    <tr style=\"text-align: right;\">\n",
       "      <th></th>\n",
       "      <th>Type</th>\n",
       "      <th>ALIGNMENT</th>\n",
       "      <th>Size</th>\n",
       "      <th>CR</th>\n",
       "      <th>AC</th>\n",
       "      <th>HP</th>\n",
       "      <th>STR</th>\n",
       "      <th>DEX</th>\n",
       "      <th>CON</th>\n",
       "      <th>INT</th>\n",
       "      <th>WIS</th>\n",
       "      <th>CHA</th>\n",
       "    </tr>\n",
       "  </thead>\n",
       "  <tbody>\n",
       "    <tr>\n",
       "      <th>638</th>\n",
       "      <td>Beast</td>\n",
       "      <td>U</td>\n",
       "      <td>Huge</td>\n",
       "      <td>2</td>\n",
       "      <td>12</td>\n",
       "      <td>60</td>\n",
       "      <td>19</td>\n",
       "      <td>14</td>\n",
       "      <td>12</td>\n",
       "      <td>1</td>\n",
       "      <td>10</td>\n",
       "      <td>3</td>\n",
       "    </tr>\n",
       "    <tr>\n",
       "      <th>561</th>\n",
       "      <td>Giant</td>\n",
       "      <td>CN</td>\n",
       "      <td>Huge</td>\n",
       "      <td>12</td>\n",
       "      <td>16</td>\n",
       "      <td>229</td>\n",
       "      <td>29</td>\n",
       "      <td>14</td>\n",
       "      <td>20</td>\n",
       "      <td>16</td>\n",
       "      <td>18</td>\n",
       "      <td>18</td>\n",
       "    </tr>\n",
       "    <tr>\n",
       "      <th>111</th>\n",
       "      <td>Monstrosity</td>\n",
       "      <td>NE</td>\n",
       "      <td>Medium</td>\n",
       "      <td>2</td>\n",
       "      <td>13</td>\n",
       "      <td>34</td>\n",
       "      <td>16</td>\n",
       "      <td>12</td>\n",
       "      <td>13</td>\n",
       "      <td>9</td>\n",
       "      <td>12</td>\n",
       "      <td>10</td>\n",
       "    </tr>\n",
       "    <tr>\n",
       "      <th>385</th>\n",
       "      <td>Humanoid</td>\n",
       "      <td>NE</td>\n",
       "      <td>Medium</td>\n",
       "      <td>18</td>\n",
       "      <td>17</td>\n",
       "      <td>261</td>\n",
       "      <td>12</td>\n",
       "      <td>18</td>\n",
       "      <td>16</td>\n",
       "      <td>17</td>\n",
       "      <td>21</td>\n",
       "      <td>22</td>\n",
       "    </tr>\n",
       "    <tr>\n",
       "      <th>77</th>\n",
       "      <td>Beast</td>\n",
       "      <td>U</td>\n",
       "      <td>Large</td>\n",
       "      <td>0</td>\n",
       "      <td>12</td>\n",
       "      <td>19</td>\n",
       "      <td>13</td>\n",
       "      <td>15</td>\n",
       "      <td>12</td>\n",
       "      <td>8</td>\n",
       "      <td>13</td>\n",
       "      <td>10</td>\n",
       "    </tr>\n",
       "  </tbody>\n",
       "</table>\n",
       "</div>"
      ],
      "text/plain": [
       "            Type ALIGNMENT    Size  CR  AC   HP  STR  DEX  CON  INT  WIS  CHA\n",
       "638        Beast         U    Huge   2  12   60   19   14   12    1   10    3\n",
       "561        Giant        CN    Huge  12  16  229   29   14   20   16   18   18\n",
       "111  Monstrosity        NE  Medium   2  13   34   16   12   13    9   12   10\n",
       "385     Humanoid        NE  Medium  18  17  261   12   18   16   17   21   22\n",
       "77         Beast         U   Large   0  12   19   13   15   12    8   13   10"
      ]
     },
     "execution_count": 98,
     "metadata": {},
     "output_type": "execute_result"
    }
   ],
   "source": [
    "faux_df.sample(5)"
   ]
  },
  {
   "cell_type": "code",
   "execution_count": null,
   "metadata": {},
   "outputs": [],
   "source": []
  },
  {
   "cell_type": "code",
   "execution_count": null,
   "metadata": {},
   "outputs": [],
   "source": []
  },
  {
   "cell_type": "markdown",
   "metadata": {},
   "source": [
    "# Comparing the Faux Data to the Original"
   ]
  },
  {
   "cell_type": "markdown",
   "metadata": {},
   "source": [
    "## Faux Data"
   ]
  },
  {
   "cell_type": "code",
   "execution_count": 97,
   "metadata": {},
   "outputs": [
    {
     "name": "stdout",
     "output_type": "stream",
     "text": [
      "                            OLS Regression Results                            \n",
      "==============================================================================\n",
      "Dep. Variable:                      y   R-squared:                       0.862\n",
      "Model:                            OLS   Adj. R-squared:                  0.861\n",
      "Method:                 Least Squares   F-statistic:                     1071.\n",
      "Date:                Wed, 29 Aug 2018   Prob (F-statistic):          3.29e-293\n",
      "Time:                        13:59:25   Log-Likelihood:                -1771.8\n",
      "No. Observations:                 690   AIC:                             3552.\n",
      "Df Residuals:                     686   BIC:                             3570.\n",
      "Df Model:                           4                                         \n",
      "Covariance Type:            nonrobust                                         \n",
      "==============================================================================\n",
      "                 coef    std err          t      P>|t|      [0.025      0.975]\n",
      "------------------------------------------------------------------------------\n",
      "HP             0.0551      0.002     30.796      0.000       0.052       0.059\n",
      "STR           -0.1131      0.024     -4.781      0.000      -0.160      -0.067\n",
      "DEX           -0.0929      0.031     -2.978      0.003      -0.154      -0.032\n",
      "WIS            0.3024      0.040      7.539      0.000       0.224       0.381\n",
      "==============================================================================\n",
      "Omnibus:                      545.992   Durbin-Watson:                   1.956\n",
      "Prob(Omnibus):                  0.000   Jarque-Bera (JB):            15658.098\n",
      "Skew:                           3.288   Prob(JB):                         0.00\n",
      "Kurtosis:                      25.392   Cond. No.                         53.5\n",
      "==============================================================================\n",
      "\n",
      "Warnings:\n",
      "[1] Standard Errors assume that the covariance matrix of the errors is correctly specified.\n"
     ]
    }
   ],
   "source": [
    "import statsmodels.api as sm\n",
    "from fractions import Fraction\n",
    "import numpy\n",
    "#reg = linear_model.LinearRegression()\n",
    "\n",
    "y = [float(Fraction(xx))  if xx !='-' else 0.0 for xx in faux_df.CR]\n",
    "#X = faux_df.iloc[:,[xx in ['HP','AC','STR','DEX','INT','CON','WIS'] for xx in faux_df.columns]]\n",
    "X = faux_df.iloc[:,[xx in ['HP','STR','DEX','WIS'] for xx in faux_df.columns]]\n",
    "#X = sm.add_constant(X)  \n",
    "\n",
    "M1 = sm.OLS(y,X)\n",
    "print(M1.fit().summary())"
   ]
  },
  {
   "cell_type": "markdown",
   "metadata": {},
   "source": [
    "## Real Data"
   ]
  },
  {
   "cell_type": "code",
   "execution_count": 104,
   "metadata": {},
   "outputs": [
    {
     "name": "stdout",
     "output_type": "stream",
     "text": [
      "                            OLS Regression Results                            \n",
      "==============================================================================\n",
      "Dep. Variable:                      y   R-squared:                       0.930\n",
      "Model:                            OLS   Adj. R-squared:                  0.930\n",
      "Method:                 Least Squares   F-statistic:                     3064.\n",
      "Date:                Wed, 29 Aug 2018   Prob (F-statistic):               0.00\n",
      "Time:                        19:39:54   Log-Likelihood:                -1522.9\n",
      "No. Observations:                 691   AIC:                             3052.\n",
      "Df Residuals:                     688   BIC:                             3065.\n",
      "Df Model:                           3                                         \n",
      "Covariance Type:            nonrobust                                         \n",
      "==============================================================================\n",
      "                 coef    std err          t      P>|t|      [0.025      0.975]\n",
      "------------------------------------------------------------------------------\n",
      "HP             0.0629      0.001     52.289      0.000       0.061       0.065\n",
      "STR           -0.1147      0.016     -7.299      0.000      -0.145      -0.084\n",
      "WIS            0.1579      0.017      9.122      0.000       0.124       0.192\n",
      "==============================================================================\n",
      "Omnibus:                      117.318   Durbin-Watson:                   1.041\n",
      "Prob(Omnibus):                  0.000   Jarque-Bera (JB):              960.949\n",
      "Skew:                           0.486   Prob(JB):                    2.15e-209\n",
      "Kurtosis:                       8.695   Cond. No.                         34.2\n",
      "==============================================================================\n",
      "\n",
      "Warnings:\n",
      "[1] Standard Errors assume that the covariance matrix of the errors is correctly specified.\n"
     ]
    }
   ],
   "source": [
    "import statsmodels.api as sm\n",
    "from fractions import Fraction\n",
    "import numpy\n",
    "#reg = linear_model.LinearRegression()\n",
    "\n",
    "y2 = [float(Fraction(xx))  if xx !='-' else 0 for xx in df.CR]\n",
    "#X2 = df.iloc[:,[xx in ['HP','AC','STR','DEX','INT','CON','WIS'] for xx in df.columns]]\n",
    "X2 = df.iloc[:,[xx in ['HP','STR','WIS'] for xx in df.columns]]\n",
    "\n",
    "#X2 = sm.add_constant(X2)  \n",
    "X2.columns\n",
    "\n",
    "M2 = sm.OLS(y2,X2)\n",
    "print(M2.fit().summary())"
   ]
  },
  {
   "cell_type": "code",
   "execution_count": null,
   "metadata": {},
   "outputs": [],
   "source": []
  },
  {
   "cell_type": "code",
   "execution_count": null,
   "metadata": {},
   "outputs": [],
   "source": []
  },
  {
   "cell_type": "code",
   "execution_count": 78,
   "metadata": {
    "collapsed": true
   },
   "outputs": [
    {
     "data": {
      "text/plain": [
       "(array([ 300.,  144.,   71.,   63.,   42.,   28.,   13.,   21.,    8.,    1.]),\n",
       " array([  0.,   3.,   6.,   9.,  12.,  15.,  18.,  21.,  24.,  27.,  30.]),\n",
       " <a list of 10 Patch objects>)"
      ]
     },
     "execution_count": 78,
     "metadata": {},
     "output_type": "execute_result"
    },
    {
     "data": {
      "image/png": "[encoded data removed]",
      "text/plain": [
       "<matplotlib.figure.Figure at 0x10ff41160>"
      ]
     },
     "metadata": {},
     "output_type": "display_data"
    }
   ],
   "source": [
    "%matplotlib inline\n",
    "plt.subplot(1,2,1)\n",
    "plt.hist(y)\n",
    "plt.subplot(1,2,2)\n",
    "plt.hist(y2)"
   ]
  },
  {
   "cell_type": "code",
   "execution_count": 91,
   "metadata": {},
   "outputs": [
    {
     "data": {
      "text/plain": [
       "array([[ 39.29158749,  -3.51282745],\n",
       "       [ -3.51282745,  11.52846326]])"
      ]
     },
     "execution_count": 91,
     "metadata": {},
     "output_type": "execute_result"
    },
    {
     "data": {
      "image/png": "[encoded data removed]",
      "text/plain": [
       "<matplotlib.figure.Figure at 0x1c1cad5518>"
      ]
     },
     "metadata": {},
     "output_type": "display_data"
    }
   ],
   "source": [
    "plt.plot(df['STR'],df['DEX'],'.')\n",
    "np.cov(df['STR'],df['DEX'],'.')"
   ]
  },
  {
   "cell_type": "code",
   "execution_count": 170,
   "metadata": {},
   "outputs": [
    {
     "data": {
      "text/plain": [
       "Lasso(alpha=0.1, copy_X=True, fit_intercept=True, max_iter=1000,\n",
       "   normalize=False, positive=False, precompute=False, random_state=None,\n",
       "   selection='cyclic', tol=0.0001, warm_start=False)"
      ]
     },
     "execution_count": 170,
     "metadata": {},
     "output_type": "execute_result"
    }
   ],
   "source": [
    "from sklearn import linear_model\n",
    "reg = linear_model.Lasso(alpha = 0.1)\n",
    "reg.fit(X, y)\n",
    "\n",
    "#reg.predict([np.array(X_pred)])\n"
   ]
  },
  {
   "cell_type": "code",
   "execution_count": 179,
   "metadata": {},
   "outputs": [],
   "source": [
    "val = 33\n",
    "X_pred = fauxriginal.iloc[:,[xx in ['HP','AC','INT','CON'] for xx in df.columns]]\n",
    "y_correct = y[:]\n",
    "preds=reg.predict(np.array(X_pred))"
   ]
  },
  {
   "cell_type": "code",
   "execution_count": 186,
   "metadata": {},
   "outputs": [],
   "source": [
    "av_err=np.mean(preds.round()-y_correct)"
   ]
  },
  {
   "cell_type": "code",
   "execution_count": 11,
   "metadata": {},
   "outputs": [
    {
     "ename": "Exception",
     "evalue": "Input data frame not defined",
     "output_type": "error",
     "traceback": [
      "\u001b[0;31m---------------------------------------------------------------------------\u001b[0m",
      "\u001b[0;31mException\u001b[0m                                 Traceback (most recent call last)",
      "\u001b[0;32m<ipython-input-11-f48ac3af1add>\u001b[0m in \u001b[0;36m<module>\u001b[0;34m()\u001b[0m\n\u001b[0;32m----> 1\u001b[0;31m \u001b[0;32mraise\u001b[0m \u001b[0mException\u001b[0m\u001b[0;34m(\u001b[0m\u001b[0;34m'Input data frame not defined'\u001b[0m\u001b[0;34m)\u001b[0m\u001b[0;34m\u001b[0m\u001b[0m\n\u001b[0m",
      "\u001b[0;31mException\u001b[0m: Input data frame not defined"
     ]
    }
   ],
   "source": []
  },
  {
   "cell_type": "code",
   "execution_count": 8,
   "metadata": {},
   "outputs": [
    {
     "name": "stdout",
     "output_type": "stream",
     "text": [
      "Help on class BaseException in module builtins:\n",
      "\n",
      "class BaseException(object)\n",
      " |  Common base class for all exceptions\n",
      " |  \n",
      " |  Methods defined here:\n",
      " |  \n",
      " |  __delattr__(self, name, /)\n",
      " |      Implement delattr(self, name).\n",
      " |  \n",
      " |  __getattribute__(self, name, /)\n",
      " |      Return getattr(self, name).\n",
      " |  \n",
      " |  __init__(self, /, *args, **kwargs)\n",
      " |      Initialize self.  See help(type(self)) for accurate signature.\n",
      " |  \n",
      " |  __new__(*args, **kwargs) from builtins.type\n",
      " |      Create and return a new object.  See help(type) for accurate signature.\n",
      " |  \n",
      " |  __reduce__(...)\n",
      " |      helper for pickle\n",
      " |  \n",
      " |  __repr__(self, /)\n",
      " |      Return repr(self).\n",
      " |  \n",
      " |  __setattr__(self, name, value, /)\n",
      " |      Implement setattr(self, name, value).\n",
      " |  \n",
      " |  __setstate__(...)\n",
      " |  \n",
      " |  __str__(self, /)\n",
      " |      Return str(self).\n",
      " |  \n",
      " |  with_traceback(...)\n",
      " |      Exception.with_traceback(tb) --\n",
      " |      set self.__traceback__ to tb and return self.\n",
      " |  \n",
      " |  ----------------------------------------------------------------------\n",
      " |  Data descriptors defined here:\n",
      " |  \n",
      " |  __cause__\n",
      " |      exception cause\n",
      " |  \n",
      " |  __context__\n",
      " |      exception context\n",
      " |  \n",
      " |  __dict__\n",
      " |  \n",
      " |  __suppress_context__\n",
      " |  \n",
      " |  __traceback__\n",
      " |  \n",
      " |  args\n",
      "\n"
     ]
    }
   ],
   "source": [
    "help(BaseException)"
   ]
  },
  {
   "cell_type": "code",
   "execution_count": null,
   "metadata": {},
   "outputs": [],
   "source": []
  }
 ],
 "metadata": {
  "kernelspec": {
   "display_name": "Python 3",
   "language": "python",
   "name": "python3"
  },
  "language_info": {
   "codemirror_mode": {
    "name": "ipython",
    "version": 3
   },
   "file_extension": ".py",
   "mimetype": "text/x-python",
   "name": "python",
   "nbconvert_exporter": "python",
   "pygments_lexer": "ipython3",
   "version": "3.6.3"
  }
 },
 "nbformat": 4,
 "nbformat_minor": 2
}
