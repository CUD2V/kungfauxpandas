{
 "cells": [
  {
   "cell_type": "code",
   "execution_count": 12,
   "metadata": {},
   "outputs": [
    {
     "ename": "ModuleNotFoundError",
     "evalue": "No module named 'DataSynthesizer'",
     "output_type": "error",
     "traceback": [
      "\u001b[0;31m---------------------------------------------------------------------------\u001b[0m",
      "\u001b[0;31mModuleNotFoundError\u001b[0m                       Traceback (most recent call last)",
      "\u001b[0;32m<ipython-input-12-94824cf86714>\u001b[0m in \u001b[0;36m<module>\u001b[0;34m()\u001b[0m\n\u001b[1;32m     10\u001b[0m \u001b[0msys\u001b[0m\u001b[0;34m.\u001b[0m\u001b[0mpath\u001b[0m\u001b[0;34m.\u001b[0m\u001b[0mappend\u001b[0m\u001b[0;34m(\u001b[0m\u001b[0;34m'../'\u001b[0m\u001b[0;34m)\u001b[0m\u001b[0;34m\u001b[0m\u001b[0m\n\u001b[1;32m     11\u001b[0m \u001b[0;32mfrom\u001b[0m \u001b[0mimportlib\u001b[0m \u001b[0;32mimport\u001b[0m \u001b[0mreload\u001b[0m\u001b[0;34m\u001b[0m\u001b[0m\n\u001b[0;32m---> 12\u001b[0;31m \u001b[0;32mfrom\u001b[0m \u001b[0mkungfauxpandas\u001b[0m \u001b[0;32mimport\u001b[0m \u001b[0mKungFauxPandas\u001b[0m\u001b[0;34m,\u001b[0m \u001b[0mTrivialPlugin\u001b[0m\u001b[0;34m,\u001b[0m \u001b[0mDataSynthesizerPlugin\u001b[0m\u001b[0;34m,\u001b[0m \u001b[0mKDEPlugin\u001b[0m\u001b[0;34m\u001b[0m\u001b[0m\n\u001b[0m\u001b[1;32m     13\u001b[0m \u001b[0;34m\u001b[0m\u001b[0m\n\u001b[1;32m     14\u001b[0m \u001b[0mprint\u001b[0m\u001b[0;34m(\u001b[0m\u001b[0msys\u001b[0m\u001b[0;34m.\u001b[0m\u001b[0mpath\u001b[0m\u001b[0;34m)\u001b[0m\u001b[0;34m\u001b[0m\u001b[0m\n",
      "\u001b[0;32m~/GoogleDrive/Dropbox/Files/Business/D2V/kungfauxpandas/sourcecode/python/kungfauxpandas.py\u001b[0m in \u001b[0;36m<module>\u001b[0;34m()\u001b[0m\n\u001b[1;32m     12\u001b[0m \u001b[0msys\u001b[0m\u001b[0;34m.\u001b[0m\u001b[0mpath\u001b[0m\u001b[0;34m.\u001b[0m\u001b[0mappend\u001b[0m\u001b[0;34m(\u001b[0m\u001b[0mlibrary_location\u001b[0m\u001b[0;34m)\u001b[0m\u001b[0;34m\u001b[0m\u001b[0m\n\u001b[1;32m     13\u001b[0m \u001b[0;34m\u001b[0m\u001b[0m\n\u001b[0;32m---> 14\u001b[0;31m \u001b[0;32mfrom\u001b[0m \u001b[0mDataSynthesizer\u001b[0m\u001b[0;34m.\u001b[0m\u001b[0mDataDescriber\u001b[0m \u001b[0;32mimport\u001b[0m \u001b[0mDataDescriber\u001b[0m\u001b[0;34m\u001b[0m\u001b[0m\n\u001b[0m\u001b[1;32m     15\u001b[0m \u001b[0;34m\u001b[0m\u001b[0m\n\u001b[1;32m     16\u001b[0m \u001b[0;31m####################################################################################################################################\u001b[0m\u001b[0;34m\u001b[0m\u001b[0;34m\u001b[0m\u001b[0m\n",
      "\u001b[0;31mModuleNotFoundError\u001b[0m: No module named 'DataSynthesizer'"
     ]
    }
   ],
   "source": [
    "import sqlite3\n",
    "import pandas as pd\n",
    "import numpy as np\n",
    "import scipy as sp\n",
    "import scipy.stats as stats\n",
    "import pylab as plt\n",
    "from collections import Counter\n",
    "import datetime\n",
    "import sys\n",
    "sys.path.append('../')\n",
    "from importlib import reload\n",
    "from kungfauxpandas import KungFauxPandas, TrivialPlugin, DataSynthesizerPlugin, KDEPlugin\n",
    "\n",
    "print(sys.path)"
   ]
  },
  {
   "cell_type": "code",
   "execution_count": 4,
   "metadata": {},
   "outputs": [
    {
     "data": {
      "text/html": [
       "<div>\n",
       "<style scoped>\n",
       "    .dataframe tbody tr th:only-of-type {\n",
       "        vertical-align: middle;\n",
       "    }\n",
       "\n",
       "    .dataframe tbody tr th {\n",
       "        vertical-align: top;\n",
       "    }\n",
       "\n",
       "    .dataframe thead th {\n",
       "        text-align: right;\n",
       "    }\n",
       "</style>\n",
       "<table border=\"1\" class=\"dataframe\">\n",
       "  <thead>\n",
       "    <tr style=\"text-align: right;\">\n",
       "      <th></th>\n",
       "      <th>Name</th>\n",
       "      <th>Size</th>\n",
       "      <th>Type</th>\n",
       "      <th>Align.</th>\n",
       "      <th>AC</th>\n",
       "      <th>HP</th>\n",
       "      <th>Speeds</th>\n",
       "      <th>STR</th>\n",
       "      <th>DEX</th>\n",
       "      <th>CON</th>\n",
       "      <th>...</th>\n",
       "      <th>Sav. Throws</th>\n",
       "      <th>Skills</th>\n",
       "      <th>WRI</th>\n",
       "      <th>Senses</th>\n",
       "      <th>Languages</th>\n",
       "      <th>CR</th>\n",
       "      <th>Additional</th>\n",
       "      <th>Font</th>\n",
       "      <th>Additional Info</th>\n",
       "      <th>Author</th>\n",
       "    </tr>\n",
       "  </thead>\n",
       "  <tbody>\n",
       "    <tr>\n",
       "      <th>0</th>\n",
       "      <td>Animated Object, Broom of Attack</td>\n",
       "      <td>Small</td>\n",
       "      <td>Construct</td>\n",
       "      <td>U</td>\n",
       "      <td>15</td>\n",
       "      <td>17</td>\n",
       "      <td>50 fly</td>\n",
       "      <td>10</td>\n",
       "      <td>17</td>\n",
       "      <td>10</td>\n",
       "      <td>...</td>\n",
       "      <td>None</td>\n",
       "      <td>None</td>\n",
       "      <td>Poisonimmu, psychicimmu, blindedimmu, charmedi...</td>\n",
       "      <td>Blindsight 30</td>\n",
       "      <td>None</td>\n",
       "      <td>0.25</td>\n",
       "      <td>False, None</td>\n",
       "      <td>Curse of Strahd</td>\n",
       "      <td>NaN</td>\n",
       "      <td>Wizards of the Coast</td>\n",
       "    </tr>\n",
       "    <tr>\n",
       "      <th>1</th>\n",
       "      <td>Baba Lysaga's Creeping Hut</td>\n",
       "      <td>Gargantuan</td>\n",
       "      <td>Construct</td>\n",
       "      <td>U</td>\n",
       "      <td>16</td>\n",
       "      <td>263</td>\n",
       "      <td>30</td>\n",
       "      <td>26</td>\n",
       "      <td>7</td>\n",
       "      <td>20</td>\n",
       "      <td>...</td>\n",
       "      <td>CON, WIS, CHA</td>\n",
       "      <td>None</td>\n",
       "      <td>Poisonimmu, psychicimmu, blindedimmu, charmedi...</td>\n",
       "      <td>Blindsight 120</td>\n",
       "      <td>None</td>\n",
       "      <td>11.00</td>\n",
       "      <td>False, Siege</td>\n",
       "      <td>Curse of Strahd</td>\n",
       "      <td>NaN</td>\n",
       "      <td>Wizards of the Coast</td>\n",
       "    </tr>\n",
       "    <tr>\n",
       "      <th>2</th>\n",
       "      <td>Blight, Tree</td>\n",
       "      <td>Huge</td>\n",
       "      <td>Plant</td>\n",
       "      <td>NE</td>\n",
       "      <td>15</td>\n",
       "      <td>149</td>\n",
       "      <td>30</td>\n",
       "      <td>23</td>\n",
       "      <td>10</td>\n",
       "      <td>20</td>\n",
       "      <td>...</td>\n",
       "      <td>None</td>\n",
       "      <td>None</td>\n",
       "      <td>Blindedimmu, deafenedimmu</td>\n",
       "      <td>Blindsight 60</td>\n",
       "      <td>Common, Druidic</td>\n",
       "      <td>7.00</td>\n",
       "      <td>False, Siege</td>\n",
       "      <td>Curse of Strahd</td>\n",
       "      <td>NaN</td>\n",
       "      <td>Wizards of the Coast</td>\n",
       "    </tr>\n",
       "    <tr>\n",
       "      <th>3</th>\n",
       "      <td>Guardian Portrait</td>\n",
       "      <td>Medium</td>\n",
       "      <td>Construct</td>\n",
       "      <td>U</td>\n",
       "      <td>5</td>\n",
       "      <td>22</td>\n",
       "      <td>None</td>\n",
       "      <td>1</td>\n",
       "      <td>1</td>\n",
       "      <td>10</td>\n",
       "      <td>...</td>\n",
       "      <td>None</td>\n",
       "      <td>None</td>\n",
       "      <td>Poisonimmu, charmedimmu, exhaustionimmu, frigh...</td>\n",
       "      <td>Darkvision 60</td>\n",
       "      <td>Common, Any</td>\n",
       "      <td>1.00</td>\n",
       "      <td>False, Innate Spellcasting</td>\n",
       "      <td>Curse of Strahd</td>\n",
       "      <td>NaN</td>\n",
       "      <td>Wizards of the Coast</td>\n",
       "    </tr>\n",
       "    <tr>\n",
       "      <th>4</th>\n",
       "      <td>Lycanthrope, Wereraven</td>\n",
       "      <td>Medium</td>\n",
       "      <td>Humanoid (Human)\\nHumanoid (Shapechanger)</td>\n",
       "      <td>LG</td>\n",
       "      <td>12</td>\n",
       "      <td>31</td>\n",
       "      <td>30</td>\n",
       "      <td>10</td>\n",
       "      <td>15</td>\n",
       "      <td>11</td>\n",
       "      <td>...</td>\n",
       "      <td>None</td>\n",
       "      <td>Insight, Perception</td>\n",
       "      <td>Nonmagicalimmu, nonsilveredimmu</td>\n",
       "      <td>Normal</td>\n",
       "      <td>Common</td>\n",
       "      <td>2.00</td>\n",
       "      <td>Shapechanger, Mimicry</td>\n",
       "      <td>Curse of Strahd</td>\n",
       "      <td>NaN</td>\n",
       "      <td>Wizards of the Coast</td>\n",
       "    </tr>\n",
       "  </tbody>\n",
       "</table>\n",
       "<p>5 rows × 23 columns</p>\n",
       "</div>"
      ],
      "text/plain": [
       "                               Name        Size  \\\n",
       "0  Animated Object, Broom of Attack       Small   \n",
       "1        Baba Lysaga's Creeping Hut  Gargantuan   \n",
       "2                      Blight, Tree        Huge   \n",
       "3                 Guardian Portrait      Medium   \n",
       "4            Lycanthrope, Wereraven      Medium   \n",
       "\n",
       "                                        Type Align.  AC   HP  Speeds STR DEX  \\\n",
       "0                                  Construct      U  15   17  50 fly  10  17   \n",
       "1                                  Construct      U  16  263      30  26   7   \n",
       "2                                      Plant     NE  15  149      30  23  10   \n",
       "3                                  Construct      U   5   22    None   1   1   \n",
       "4  Humanoid (Human)\\nHumanoid (Shapechanger)     LG  12   31      30  10  15   \n",
       "\n",
       "  CON          ...             Sav. Throws               Skills  \\\n",
       "0  10          ...                    None                 None   \n",
       "1  20          ...           CON, WIS, CHA                 None   \n",
       "2  20          ...                    None                 None   \n",
       "3  10          ...                    None                 None   \n",
       "4  11          ...                    None  Insight, Perception   \n",
       "\n",
       "                                                 WRI          Senses  \\\n",
       "0  Poisonimmu, psychicimmu, blindedimmu, charmedi...   Blindsight 30   \n",
       "1  Poisonimmu, psychicimmu, blindedimmu, charmedi...  Blindsight 120   \n",
       "2                          Blindedimmu, deafenedimmu   Blindsight 60   \n",
       "3  Poisonimmu, charmedimmu, exhaustionimmu, frigh...   Darkvision 60   \n",
       "4                    Nonmagicalimmu, nonsilveredimmu          Normal   \n",
       "\n",
       "         Languages     CR                  Additional             Font  \\\n",
       "0             None   0.25                 False, None  Curse of Strahd   \n",
       "1             None  11.00                False, Siege  Curse of Strahd   \n",
       "2  Common, Druidic   7.00                False, Siege  Curse of Strahd   \n",
       "3      Common, Any   1.00  False, Innate Spellcasting  Curse of Strahd   \n",
       "4           Common   2.00       Shapechanger, Mimicry  Curse of Strahd   \n",
       "\n",
       "  Additional Info                Author  \n",
       "0             NaN  Wizards of the Coast  \n",
       "1             NaN  Wizards of the Coast  \n",
       "2             NaN  Wizards of the Coast  \n",
       "3             NaN  Wizards of the Coast  \n",
       "4             NaN  Wizards of the Coast  \n",
       "\n",
       "[5 rows x 23 columns]"
      ]
     },
     "execution_count": 4,
     "metadata": {},
     "output_type": "execute_result"
    }
   ],
   "source": [
    "%matplotlib notebook\n",
    "\n",
    "# flag to control where data is loaded to\n",
    "mode = 'sqlite3'\n",
    "\n",
    "# sqlite stuff\n",
    "if mode == 'sqlite3':\n",
    "    import sqlite3\n",
    "    conn = sqlite3.connect(\"../../../data/monsters.db\")\n",
    "    cursor = conn.cursor()\n",
    "    \n",
    "elif mode == 'psycopg2': # alternatively use postgresql\n",
    "    import psycopg2\n",
    "    connect_str = \"dbname='sepsis' user='sepsis' host='localhost' \" + \\\n",
    "                  \"password='sepsis'\"\n",
    "    conn = psycopg2.connect(connect_str)\n",
    "    cursor = conn.cursor()\n",
    "\n",
    "qlog_conn = sqlite3.connect('../../../data/kfp_log.db')\n",
    "q_cursor = qlog_conn.cursor()\n",
    "\n",
    "start = datetime.datetime.now()\n",
    "\n",
    "monsterfile = \"../../../data/The Great Monster Spreadsheet (D&D5e) - Official Stats.csv\"\n",
    "df = pd.read_csv(monsterfile)\n",
    "df.head()\n",
    "\n"
   ]
  },
  {
   "cell_type": "code",
   "execution_count": null,
   "metadata": {},
   "outputs": [],
   "source": [
    "def show_timings(df):\n",
    "    q = pd.read_sql(\"SELECT * FROM kfp_log order by fauxify_end\",qlog_conn)\n",
    "    print('Method used     :', q.tail(1)['faux_method'].iloc[0])\n",
    "    print('Time for query  :', (pd.to_datetime(q.tail(1)['query_end']) - pd.to_datetime(q.tail(1)['query_start'])).iloc[0])\n",
    "    print('Time for fauxify:', (pd.to_datetime(q.tail(1)['fauxify_end']) - pd.to_datetime(q.tail(1)['fauxify_start'])).iloc[0])\n",
    "    print('Size of dataset :', len(df), 'rows')"
   ]
  },
  {
   "cell_type": "code",
   "execution_count": 8,
   "metadata": {},
   "outputs": [
    {
     "ename": "ModuleNotFoundError",
     "evalue": "No module named 'kungfauxpandas'",
     "output_type": "error",
     "traceback": [
      "\u001b[0;31m---------------------------------------------------------------------------\u001b[0m",
      "\u001b[0;31mModuleNotFoundError\u001b[0m                       Traceback (most recent call last)",
      "\u001b[0;32m<ipython-input-8-a9260ff2a2ce>\u001b[0m in \u001b[0;36m<module>\u001b[0;34m()\u001b[0m\n\u001b[1;32m      1\u001b[0m \u001b[0;32mfrom\u001b[0m \u001b[0mimportlib\u001b[0m \u001b[0;32mimport\u001b[0m \u001b[0mreload\u001b[0m\u001b[0;34m\u001b[0m\u001b[0m\n\u001b[0;32m----> 2\u001b[0;31m \u001b[0;32mfrom\u001b[0m \u001b[0mkungfauxpandas\u001b[0m \u001b[0;32mimport\u001b[0m \u001b[0mKungFauxPandas\u001b[0m\u001b[0;34m,\u001b[0m \u001b[0mTrivialPlugin\u001b[0m\u001b[0;34m,\u001b[0m \u001b[0mDataSynthesizerPlugin\u001b[0m\u001b[0;34m,\u001b[0m \u001b[0mKDEPlugin\u001b[0m\u001b[0;34m\u001b[0m\u001b[0m\n\u001b[0m\u001b[1;32m      3\u001b[0m \u001b[0mkfpd\u001b[0m \u001b[0;34m=\u001b[0m \u001b[0mKungFauxPandas\u001b[0m\u001b[0;34m(\u001b[0m\u001b[0;34m)\u001b[0m\u001b[0;34m\u001b[0m\u001b[0m\n",
      "\u001b[0;31mModuleNotFoundError\u001b[0m: No module named 'kungfauxpandas'"
     ]
    }
   ],
   "source": [
    "#kfpd = KungFauxPandas()"
   ]
  },
  {
   "cell_type": "code",
   "execution_count": null,
   "metadata": {},
   "outputs": [],
   "source": [
    "kfpd.plugin = DataSynthesizerPlugin(mode='correlated_attribute_mode', verbose=False)\n",
    "#fdf=kfpd.read_sql(sql,conn, index_col=['SubjectId', 'EncounterId'])\n",
    "fdf=kfpd.read_sql(sql,conn)#, fauxify = {'categorical_attributes' : {'Source' : True}})\n",
    "#fdf = kfpd.plugin.fauxify(df)\n",
    "fdf.head()\n",
    "\n",
    "#fdf=kfpd.read_sql(sql,conn, index_col=['SubjectId', 'EncounterId'])\n",
    "#fdf=kfpd.read_sql(sql,conn, fauxify = {'categorical_attributes' : {'Source' : True}})\n",
    "#df=pd.read_sql(sql + ' 10',conn)\n",
    "#fdf = kfpd.plugin.fauxify(df)#, categorical_attributes = {'Source' : True, 'Code': True, 'Type': True})"
   ]
  },
  {
   "cell_type": "code",
   "execution_count": null,
   "metadata": {},
   "outputs": [],
   "source": [
    "kfpd.plugin = TrivialPlugin()\n",
    "for n in ['10', '100', '1000', '10000']:\n",
    "    fdf=kfpd.read_sql(sql + n,conn)\n",
    "    show_timings(fdf)\n",
    "\n",
    "fdf.head()"
   ]
  },
  {
   "cell_type": "code",
   "execution_count": null,
   "metadata": {},
   "outputs": [],
   "source": [
    "kfpd.verbose"
   ]
  },
  {
   "cell_type": "code",
   "execution_count": null,
   "metadata": {},
   "outputs": [],
   "source": [
    "kfpd.plugin = KDEPlugin()\n",
    "for n in ['10', '100', '1000', '10000']:\n",
    "    fdf=kfpd.read_sql(sql + n,conn)\n",
    "    show_timings(fdf)"
   ]
  },
  {
   "cell_type": "code",
   "execution_count": null,
   "metadata": {},
   "outputs": [],
   "source": [
    "fdf"
   ]
  },
  {
   "cell_type": "code",
   "execution_count": null,
   "metadata": {},
   "outputs": [],
   "source": [
    "col = 'Code'\n",
    "out_dict = dict()\n",
    "\n",
    "colfact = df[col].factorize()\n",
    "cc=Counter(colfact[0])\n",
    " \n",
    "# convert from counts to proportions\n",
    "\n",
    "for key in cc:\n",
    "     cc[key] = cc[key] / len(df)\n",
    "\n",
    "fakes = choice(elements,p=weights, replace=True, size=len(df))\n",
    "\n",
    "out_dict[col] = [colfact[1][xx] for xx in fakes]\n"
   ]
  },
  {
   "cell_type": "code",
   "execution_count": null,
   "metadata": {},
   "outputs": [],
   "source": [
    "len(cc.values()), len(df), len(cc)/len(df)"
   ]
  },
  {
   "cell_type": "code",
   "execution_count": null,
   "metadata": {},
   "outputs": [],
   "source": [
    "col = 'Code'\n",
    "out_dict = dict()\n",
    "\n",
    "colfact = df[col].factorize()\n",
    "cc=Counter(colfact[0])\n",
    " \n",
    "# convert from counts to proportions\n",
    "\n",
    "for key in cc:\n",
    "     cc[key] = cc[key] / len(df)\n",
    "\n",
    "fakes = choice(elements,p=weights, replace=True, size=len(df))\n",
    "\n",
    "out_dict[col] = [colfact[1][xx] for xx in fakes]\n",
    "#out_dict"
   ]
  },
  {
   "cell_type": "code",
   "execution_count": null,
   "metadata": {
    "collapsed": true
   },
   "outputs": [],
   "source": [
    "col = 'SubjectId'\n",
    "kd = stats.gaussian_kde(df[col], bw_method='silverman')\n",
    "out_dict[col]=np.int64(kd.resample()[0])\n"
   ]
  },
  {
   "cell_type": "code",
   "execution_count": null,
   "metadata": {},
   "outputs": [],
   "source": [
    "\n",
    "\n"
   ]
  },
  {
   "cell_type": "code",
   "execution_count": null,
   "metadata": {},
   "outputs": [],
   "source": []
  },
  {
   "cell_type": "code",
   "execution_count": null,
   "metadata": {},
   "outputs": [],
   "source": [
    "df.head()"
   ]
  },
  {
   "cell_type": "code",
   "execution_count": null,
   "metadata": {},
   "outputs": [],
   "source": [
    "pd.crosstab(df.Codeode, df.squishcode)"
   ]
  },
  {
   "cell_type": "code",
   "execution_count": null,
   "metadata": {},
   "outputs": [],
   "source": [
    "np.corrcoef(df.Code, df.squishcode)"
   ]
  },
  {
   "cell_type": "code",
   "execution_count": null,
   "metadata": {},
   "outputs": [],
   "source": [
    "sdf = df.sample(50000)\n",
    "for thiscol in sdf.columns:\n",
    "    if sdf[thiscol].dtype=='object':\n",
    "        print('Converting column ', thiscol)\n",
    "        sdf[thiscol] = sdf[thiscol].factorize()[0]\n",
    "    \n",
    "#np.cov(sdf)"
   ]
  },
  {
   "cell_type": "code",
   "execution_count": null,
   "metadata": {},
   "outputs": [],
   "source": [
    "cc = np.corrcoef(sdf.transpose())\n",
    "#cc = np.cov(sdf.transpose())\n",
    "#cc[5,1]\n",
    "plt.imshow(cc,cmap='inferno')\n",
    "plt.colorbar()"
   ]
  },
  {
   "cell_type": "code",
   "execution_count": null,
   "metadata": {},
   "outputs": [],
   "source": [
    "#sdf.head()\n",
    "#help(np.correlate)\n",
    "df.iloc[3]"
   ]
  },
  {
   "cell_type": "code",
   "execution_count": null,
   "metadata": {},
   "outputs": [],
   "source": [
    "from statsmodels.nonparametric import kernel_density as kd"
   ]
  },
  {
   "cell_type": "code",
   "execution_count": null,
   "metadata": {},
   "outputs": [],
   "source": [
    "woo = kd.KDEMultivariate(np.array(sdf.iloc[:,[2,4,9]]), var_type=3*'u')\n",
    "#help(kd.KDEMultivariate)"
   ]
  },
  {
   "cell_type": "code",
   "execution_count": null,
   "metadata": {},
   "outputs": [],
   "source": [
    "np.array(data=sdf.sample(2000).iloc[:,[2,4,9]])"
   ]
  },
  {
   "cell_type": "code",
   "execution_count": null,
   "metadata": {},
   "outputs": [],
   "source": [
    "xx = range(40)\n",
    "bb = list(itertools.product(xx,xx,xx))"
   ]
  },
  {
   "cell_type": "code",
   "execution_count": null,
   "metadata": {},
   "outputs": [],
   "source": []
  },
  {
   "cell_type": "code",
   "execution_count": null,
   "metadata": {},
   "outputs": [],
   "source": [
    "np.array(sdf.iloc[2]).shape"
   ]
  },
  {
   "cell_type": "code",
   "execution_count": null,
   "metadata": {},
   "outputs": [],
   "source": [
    "from scipy.optimize import fsolve\n",
    "import statsmodels.api as sm\n",
    "import numpy as np\n",
    "\n",
    "# fit\n",
    "kde = woo#sm.nonparametric.KDEMultivariate()  # ... you already did this\n",
    "\n",
    "# sample\n",
    "u = np.random.random()\n",
    "\n",
    "# 1-d root-finding\n",
    "def func(x):\n",
    "    return kde.cdf([x]) - u\n",
    "#sample_x = brentq(func, -99999999, 99999999)  # read brentq-docs about these constants\n",
    "                                              # constants need to be sign-changing for the function\n"
   ]
  },
  {
   "cell_type": "code",
   "execution_count": null,
   "metadata": {},
   "outputs": [],
   "source": [
    "#u = np.random.random()\n",
    "#u\n",
    "#sample_x = brentq(func, -99999999, 99999999)"
   ]
  },
  {
   "cell_type": "code",
   "execution_count": null,
   "metadata": {},
   "outputs": [],
   "source": [
    "def func(x):\n",
    "    return kde.cdf([x]) - u\n",
    "\n",
    "x0=[92,4,5,3,6,7,8,9,10,11]\n"
   ]
  },
  {
   "cell_type": "code",
   "execution_count": null,
   "metadata": {},
   "outputs": [],
   "source": [
    "from scipy.optimize import minimize\n",
    "darf = minimize(func,np.array(x0))\n",
    "print(darf)"
   ]
  },
  {
   "cell_type": "code",
   "execution_count": null,
   "metadata": {},
   "outputs": [],
   "source": [
    "x0, func(x0)\n"
   ]
  },
  {
   "cell_type": "code",
   "execution_count": null,
   "metadata": {},
   "outputs": [],
   "source": [
    "func([0,0,0,0,0,3,0,0,0,0])"
   ]
  },
  {
   "cell_type": "code",
   "execution_count": null,
   "metadata": {},
   "outputs": [],
   "source": [
    "bork = np.mgrid[0:10,0:10, 0:10]"
   ]
  },
  {
   "cell_type": "code",
   "execution_count": null,
   "metadata": {},
   "outputs": [],
   "source": [
    "xx = range(4)\n",
    "\n",
    "import itertools\n",
    "ins = list(itertools.product(xx,xx,xx,xx,xx,xx,xx,xx,xx,xx))\n",
    "\n",
    "vals = [func(i) for i in ins[1004:2004]]\n",
    "func(ins[1004:2004])"
   ]
  },
  {
   "cell_type": "code",
   "execution_count": null,
   "metadata": {},
   "outputs": [],
   "source": [
    "func(bork[32532])"
   ]
  },
  {
   "cell_type": "code",
   "execution_count": null,
   "metadata": {},
   "outputs": [],
   "source": [
    "u\n"
   ]
  },
  {
   "cell_type": "code",
   "execution_count": null,
   "metadata": {},
   "outputs": [],
   "source": [
    "#kde.cdf(bork[9000:10000])\n",
    "func(x0)"
   ]
  },
  {
   "cell_type": "code",
   "execution_count": null,
   "metadata": {},
   "outputs": [],
   "source": [
    "list(bork[0])"
   ]
  },
  {
   "cell_type": "code",
   "execution_count": null,
   "metadata": {},
   "outputs": [],
   "source": [
    "x0"
   ]
  },
  {
   "cell_type": "code",
   "execution_count": null,
   "metadata": {},
   "outputs": [],
   "source": [
    "import statsmodels.api as sm\n",
    "nobs = 300\n",
    "np.random.seed(1234)  # Seed random generator\n",
    "c1 = np.random.normal(size=(nobs,1))\n",
    "c2 = np.random.normal(2, 1, size=(nobs,1))\n",
    "  \n",
    "#Estimate a bivariate distribution and display the bandwidth found:\n",
    "   \n",
    "#dens_u = sm.nonparametric.KDEMultivariate(data=[c1,c2], var_type='cc', bw='normal_reference')\n",
    "#dens_u.bw\n",
    "\n",
    "woo = sm.nonparametric.KDEMultivariate(data=sdf.iloc[:,[2,4,9]], var_type=3*'u')\n",
    "\n"
   ]
  },
  {
   "cell_type": "code",
   "execution_count": null,
   "metadata": {},
   "outputs": [],
   "source": [
    "woo.cdf()"
   ]
  },
  {
   "cell_type": "code",
   "execution_count": null,
   "metadata": {},
   "outputs": [],
   "source": [
    "len(sdf)"
   ]
  },
  {
   "cell_type": "code",
   "execution_count": null,
   "metadata": {},
   "outputs": [],
   "source": [
    "len(set(sdf.iloc[:,9]))"
   ]
  },
  {
   "cell_type": "code",
   "execution_count": null,
   "metadata": {},
   "outputs": [],
   "source": [
    "np.corrcoef(sdf.iloc[:,[2,9]])"
   ]
  },
  {
   "cell_type": "code",
   "execution_count": null,
   "metadata": {
    "collapsed": true
   },
   "outputs": [],
   "source": []
  }
 ],
 "metadata": {
  "kernelspec": {
   "display_name": "Python 3",
   "language": "python",
   "name": "python3"
  },
  "language_info": {
   "codemirror_mode": {
    "name": "ipython",
    "version": 3
   },
   "file_extension": ".py",
   "mimetype": "text/x-python",
   "name": "python",
   "nbconvert_exporter": "python",
   "pygments_lexer": "ipython3",
   "version": "3.6.3"
  }
 },
 "nbformat": 4,
 "nbformat_minor": 2
}
