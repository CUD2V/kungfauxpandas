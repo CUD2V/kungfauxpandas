{
 "cells": [
  {
   "cell_type": "code",
   "execution_count": 78,
   "metadata": {},
   "outputs": [],
   "source": [
    "from scipy import stats\n",
    "import random\n",
    "import pandas as pd\n",
    "import numpy as np\n",
    "import pylab as plt\n",
    "%matplotlib inline"
   ]
  },
  {
   "cell_type": "code",
   "execution_count": 142,
   "metadata": {},
   "outputs": [
    {
     "name": "stdout",
     "output_type": "stream",
     "text": [
      "         x1          x2\n",
      "0  2.186977  976.903023\n",
      "1  6.004059  540.340605\n",
      "2  3.377658  906.998459\n",
      "3  8.175227  739.098240\n",
      "4  7.152934  879.295785 \n",
      "\n",
      "\n",
      " [[   4.51829195  973.85342259]\n",
      " [   3.48110427  808.08137038]\n",
      " [  10.99975925  851.96164118]\n",
      " [   1.95620365  632.98761729]\n",
      " [   9.84931712  704.555307  ]\n",
      " [  10.37651031  616.87192443]\n",
      " [  10.13519698  982.06700872]\n",
      " [   5.58361593  846.48265635]\n",
      " [   7.82699161  825.68776095]\n",
      " [   1.9385675   552.26928369]]\n"
     ]
    },
    {
     "data": {
      "text/plain": [
       "(array([ 68.,  41.,  52.,  46.,  40.,  48.,  57.,  47.,  45.,  56.]),\n",
       " array([ 501.7400172 ,  551.30171095,  600.86340469,  650.42509844,\n",
       "         699.98679219,  749.54848594,  799.11017968,  848.67187343,\n",
       "         898.23356718,  947.79526093,  997.35695467]),\n",
       " <a list of 10 Patch objects>)"
      ]
     },
     "execution_count": 142,
     "metadata": {},
     "output_type": "execute_result"
    },
    {
     "data": {
      "image/png": "[encoded data removed]",
      "text/plain": [
       "<matplotlib.figure.Figure at 0x1a2a926160>"
      ]
     },
     "metadata": {},
     "output_type": "display_data"
    }
   ],
   "source": [
    "N=500\n",
    "\n",
    "x1 = np.array([random.randint(1,10) for xx in range(N)])\n",
    "x2 = np.array([random.randint(500,1000) for xx in range(N)])\n",
    "noise1 = np.array([random.random() for xx in range(N)])\n",
    "noise2 = np.array([random.random() for xx in range(N)])\n",
    "dd = dict()\n",
    "dd['x1']=x1+noise1\n",
    "dd['x2']=x2+noise2\n",
    "df = pd.DataFrame.from_dict(dd)\n",
    "\n",
    "\n",
    "\n",
    "\n",
    "#stats.gaussian_kde(df)\n",
    "kd = stats.gaussian_kde(df.transpose(), bw_method=0.01)\n",
    "bork = kd.resample().transpose()\n",
    "print(df.head(), '\\n\\n\\n', bork[0:10,:])\n",
    "\n",
    "\n",
    "#pd.DataFrame(kd.resample(size=500))\n",
    "plt.subplot(1,2,1)\n",
    "plt.hist(bork[:,0])\n",
    "plt.subplot(1,2,2)\n",
    "plt.hist(bork[:,1])\n"
   ]
  },
  {
   "cell_type": "code",
   "execution_count": 131,
   "metadata": {},
   "outputs": [
    {
     "data": {
      "text/plain": [
       "(2, 2)"
      ]
     },
     "execution_count": 131,
     "metadata": {},
     "output_type": "execute_result"
    }
   ],
   "source": [
    "kd.covariance.shape\n"
   ]
  },
  {
   "cell_type": "code",
   "execution_count": null,
   "metadata": {},
   "outputs": [],
   "source": []
  }
 ],
 "metadata": {
  "kernelspec": {
   "display_name": "Python 3",
   "language": "python",
   "name": "python3"
  },
  "language_info": {
   "codemirror_mode": {
    "name": "ipython",
    "version": 3
   },
   "file_extension": ".py",
   "mimetype": "text/x-python",
   "name": "python",
   "nbconvert_exporter": "python",
   "pygments_lexer": "ipython3",
   "version": "3.6.3"
  }
 },
 "nbformat": 4,
 "nbformat_minor": 2
}
