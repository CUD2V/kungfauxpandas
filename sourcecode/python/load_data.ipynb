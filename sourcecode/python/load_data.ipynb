{
 "cells": [
  {
   "cell_type": "code",
   "execution_count": 1,
   "metadata": {},
   "outputs": [],
   "source": [
    "import pandas as pd\n",
    "import sqlite3\n",
    "import glob\n",
    "import os\n",
    "import os.path as op"
   ]
  },
  {
   "cell_type": "code",
   "execution_count": 2,
   "metadata": {},
   "outputs": [
    {
     "name": "stdout",
     "output_type": "stream",
     "text": [
      "Reading /Users/seth/OneDrive - The University of Colorado Denver/Documents/ICML_2018_Paper/faker-prototype/sourcecode/python/../../data/fake_sepsis_data/admission.csv\n",
      "Saved admission to database\n",
      "Reading /Users/seth/OneDrive - The University of Colorado Denver/Documents/ICML_2018_Paper/faker-prototype/sourcecode/python/../../data/fake_sepsis_data/admission_diagnoses.csv\n",
      "Saved admission_diagnoses to database\n",
      "Reading /Users/seth/OneDrive - The University of Colorado Denver/Documents/ICML_2018_Paper/faker-prototype/sourcecode/python/../../data/fake_sepsis_data/adt_events.csv\n",
      "Saved adt_events to database\n",
      "Reading /Users/seth/OneDrive - The University of Colorado Denver/Documents/ICML_2018_Paper/faker-prototype/sourcecode/python/../../data/fake_sepsis_data/diagnoses.csv\n",
      "Saved diagnoses to database\n",
      "Reading /Users/seth/OneDrive - The University of Colorado Denver/Documents/ICML_2018_Paper/faker-prototype/sourcecode/python/../../data/fake_sepsis_data/flowsheet.csv\n",
      "Saved flowsheet to database\n",
      "Reading /Users/seth/OneDrive - The University of Colorado Denver/Documents/ICML_2018_Paper/faker-prototype/sourcecode/python/../../data/fake_sepsis_data/labs.csv\n",
      "Saved labs to database\n",
      "Reading /Users/seth/OneDrive - The University of Colorado Denver/Documents/ICML_2018_Paper/faker-prototype/sourcecode/python/../../data/fake_sepsis_data/procedures.csv\n",
      "Saved procedures to database\n"
     ]
    }
   ],
   "source": [
    "csv_path = op.join(os.getcwd(), '..', '..', 'data', 'fake_sepsis_data')\n",
    "conn = sqlite3.connect(\"../../data/sepsis.db\")\n",
    "\n",
    "for file in glob.glob(op.join(csv_path, \"*.csv\")):\n",
    "    print('Reading', file)\n",
    "    df = pd.read_csv(file)\n",
    "    # First column should be unnamed... if not, there's a problem\n",
    "    if (df.columns[0] == 'Unnamed: 0'):\n",
    "        df.drop('Unnamed: 0', axis=1, inplace=True)\n",
    "    else:\n",
    "        print('   --- Check Data File')\n",
    "    filename, fileextension = op.splitext(file)\n",
    "    filename = op.basename(filename)\n",
    "    df.to_sql(filename, conn, if_exists='replace', index=False)\n",
    "    conn.commit()\n",
    "    print('Saved', filename, 'to database')\n",
    "\n",
    "conn.close()\n"
   ]
  },
  {
   "cell_type": "code",
   "execution_count": 3,
   "metadata": {},
   "outputs": [
    {
     "name": "stdout",
     "output_type": "stream",
     "text": [
      "CREATE TABLE \"admission\" (\n",
      "\"SubjectId\" INTEGER,\n",
      "  \"EncounterId\" INTEGER,\n",
      "  \"DOB\" TEXT,\n",
      "  \"Sex\" TEXT,\n",
      "  \"Race\" TEXT,\n",
      "  \"Ethnicity\" TEXT,\n",
      "  \"FirstHeightInInches\" INTEGER,\n",
      "  \"FirstWeightInOunces\" INTEGER,\n",
      "  \"AdmittingDepartmentName\" TEXT,\n",
      "  \"AdmissionDateTime\" TEXT,\n",
      "  \"FinancialClass\" TEXT,\n",
      "  \"AdmissionType\" TEXT,\n",
      "  \"AdmissionSource\" TEXT,\n",
      "  \"PatientClass\" TEXT,\n",
      "  \"AdmittingService\" TEXT,\n",
      "  \"PrincipalProblem\" TEXT,\n",
      "  \"PrimaryCodedDx\" TEXT,\n",
      "  \"DischargeDateTime\" TEXT,\n",
      "  \"DischargeDisposition\" TEXT,\n",
      "  \"HospitalService\" TEXT\n",
      ")\n",
      "CREATE TABLE \"admission_diagnoses\" (\n",
      "\"SubjectId\" INTEGER,\n",
      "  \"EncounterId\" INTEGER,\n",
      "  \"AdmittingDiagnosis\" TEXT\n",
      ")\n",
      "CREATE TABLE \"adt_events\" (\n",
      "\"SubjectId\" INTEGER,\n",
      "  \"EncounterId\" INTEGER,\n",
      "  \"DepartmentName\" TEXT,\n",
      "  \"TransferInDateTime\" TEXT,\n",
      "  \"TransferOutDateTime\" TEXT\n",
      ")\n",
      "CREATE TABLE \"diagnoses\" (\n",
      "\"SubjectId\" INTEGER,\n",
      "  \"EncounterId\" INTEGER,\n",
      "  \"Source\" TEXT,\n",
      "  \"StartDate\" TEXT,\n",
      "  \"Code\" TEXT,\n",
      "  \"Type\" TEXT\n",
      ")\n",
      "CREATE TABLE \"flowsheet\" (\n",
      "\"SubjectId\" INTEGER,\n",
      "  \"EncounterId\" INTEGER,\n",
      "  \"FlowsheetDisplayName\" TEXT,\n",
      "  \"FlowsheetValue\" REAL,\n",
      "  \"DateTime\" TEXT\n",
      ")\n",
      "CREATE TABLE \"labs\" (\n",
      "\"SubjectId\" INTEGER,\n",
      "  \"EncounterId\" INTEGER,\n",
      "  \"LabName\" TEXT,\n",
      "  \"LabValue\" REAL,\n",
      "  \"LabUnit\" TEXT,\n",
      "  \"CollectionDateTime\" TEXT,\n",
      "  \"ResultDateTime\" TEXT\n",
      ")\n",
      "CREATE TABLE \"procedures\" (\n",
      "\"SubjectId\" INTEGER,\n",
      "  \"EncounterId\" INTEGER,\n",
      "  \"SurgeryName\" TEXT,\n",
      "  \"ProcedureCompleteDateTime\" TEXT,\n",
      "  \"PatientInPacuDateTime\" TEXT,\n",
      "  \"AnesthesiaStopDateTime\" TEXT\n",
      ")\n"
     ]
    }
   ],
   "source": [
    "con = sqlite3.connect(\"../../data/sepsis.db\")\n",
    "\n",
    "cursor = con.cursor()\n",
    "cursor.execute(\"SELECT name FROM sqlite_master WHERE type='table';\")\n",
    "tables = cursor.fetchall()\n",
    "for c in tables:\n",
    "    cursor.execute(\"SELECT sql FROM sqlite_master WHERE name='\" + c[0] + \"'\")\n",
    "    print(cursor.fetchall()[0][0])\n",
    "\n",
    "con.close()"
   ]
  },
  {
   "cell_type": "code",
   "execution_count": 13,
   "metadata": {},
   "outputs": [
    {
     "name": "stdout",
     "output_type": "stream",
     "text": [
      "Processing column SubjectId as a int64\n",
      "Processing column EncounterId as a int64\n",
      "Processing column DOB as a object\n",
      "Processing column Sex as a object\n",
      "Processing column Race as a object\n",
      "Processing column Ethnicity as a object\n",
      "Processing column FirstHeightInInches as a int64\n",
      "Processing column FirstWeightInOunces as a int64\n",
      "Processing column AdmittingDepartmentName as a object\n",
      "Processing column AdmissionDateTime as a object\n",
      "Processing column FinancialClass as a object\n",
      "Processing column AdmissionType as a object\n",
      "Processing column AdmissionSource as a object\n",
      "Processing column PatientClass as a object\n",
      "Processing column AdmittingService as a object\n",
      "Processing column PrincipalProblem as a object\n",
      "Processing column PrimaryCodedDx as a object\n",
      "Processing column DischargeDateTime as a object\n",
      "Processing column DischargeDisposition as a object\n",
      "Processing column HospitalService as a object\n"
     ]
    },
    {
     "ename": "AttributeError",
     "evalue": "'Styler' object has no attribute 'hide_columns'",
     "output_type": "error",
     "traceback": [
      "\u001b[0;31m---------------------------------------------------------------------------\u001b[0m",
      "\u001b[0;31mAttributeError\u001b[0m                            Traceback (most recent call last)",
      "\u001b[0;32m<ipython-input-13-646b3ed57f26>\u001b[0m in \u001b[0;36m<module>\u001b[0;34m()\u001b[0m\n\u001b[1;32m     13\u001b[0m \u001b[0;31m#df.style.hide_index()\u001b[0m\u001b[0;34m\u001b[0m\u001b[0;34m\u001b[0m\u001b[0m\n\u001b[1;32m     14\u001b[0m \u001b[0mdf\u001b[0m\u001b[0;34m.\u001b[0m\u001b[0mto_html\u001b[0m\u001b[0;34m(\u001b[0m\u001b[0mclasses\u001b[0m\u001b[0;34m=\u001b[0m\u001b[0;34m'table'\u001b[0m\u001b[0;34m)\u001b[0m\u001b[0;34m\u001b[0m\u001b[0m\n\u001b[0;32m---> 15\u001b[0;31m \u001b[0mdf\u001b[0m\u001b[0;34m.\u001b[0m\u001b[0mstyle\u001b[0m\u001b[0;34m.\u001b[0m\u001b[0mhide_columns\u001b[0m\u001b[0;34m(\u001b[0m\u001b[0;34m'index'\u001b[0m\u001b[0;34m)\u001b[0m\u001b[0;34m\u001b[0m\u001b[0m\n\u001b[0m",
      "\u001b[0;31mAttributeError\u001b[0m: 'Styler' object has no attribute 'hide_columns'"
     ]
    }
   ],
   "source": [
    "import hug\n",
    "from seth_fakelite3 import KungFauxPandas\n",
    "import sqlite3\n",
    "import sys\n",
    "\n",
    "\n",
    "kfpd = KungFauxPandas()\n",
    "dbname = 'file:../../data/sepsis.db?mode=ro'\n",
    "db_conn = sqlite3.connect(dbname, uri=True)\n",
    "cursor = db_conn.cursor()\n",
    "\n",
    "df = kfpd.read_sql('select * from admission limit 10', db_conn, 'kde')\n",
    "#df.style.hide_index()\n",
    "df.to_html(classes='table')\n",
    "df.style.hide_columns('index')"
   ]
  },
  {
   "cell_type": "code",
   "execution_count": null,
   "metadata": {},
   "outputs": [],
   "source": []
  }
 ],
 "metadata": {
  "kernelspec": {
   "display_name": "Python 3",
   "language": "python",
   "name": "python3"
  },
  "language_info": {
   "codemirror_mode": {
    "name": "ipython",
    "version": 3
   },
   "file_extension": ".py",
   "mimetype": "text/x-python",
   "name": "python",
   "nbconvert_exporter": "python",
   "pygments_lexer": "ipython3",
   "version": "3.6.4"
  }
 },
 "nbformat": 4,
 "nbformat_minor": 2
}
