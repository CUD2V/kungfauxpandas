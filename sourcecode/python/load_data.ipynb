{
 "cells": [
  {
   "cell_type": "code",
   "execution_count": 2,
   "metadata": {},
   "outputs": [],
   "source": [
    "import pandas as pd\n",
    "import sqlite3\n",
    "import glob\n",
    "import os\n",
    "import os.path as op"
   ]
  },
  {
   "cell_type": "code",
   "execution_count": 15,
   "metadata": {},
   "outputs": [
    {
     "name": "stdout",
     "output_type": "stream",
     "text": [
      "Reading /Users/seth/OneDrive - The University of Colorado Denver/Documents/ICML_2018_Paper/faker-prototype/sourcecode/python/../../data/homework_data/admission.csv\n",
      "Saved admission to database\n",
      "Reading /Users/seth/OneDrive - The University of Colorado Denver/Documents/ICML_2018_Paper/faker-prototype/sourcecode/python/../../data/homework_data/admission_diagnoses.csv\n",
      "Saved admission_diagnoses to database\n",
      "Reading /Users/seth/OneDrive - The University of Colorado Denver/Documents/ICML_2018_Paper/faker-prototype/sourcecode/python/../../data/homework_data/adt_events.csv\n",
      "Saved adt_events to database\n",
      "Reading /Users/seth/OneDrive - The University of Colorado Denver/Documents/ICML_2018_Paper/faker-prototype/sourcecode/python/../../data/homework_data/diagnoses.csv\n",
      "Saved diagnoses to database\n",
      "Reading /Users/seth/OneDrive - The University of Colorado Denver/Documents/ICML_2018_Paper/faker-prototype/sourcecode/python/../../data/homework_data/flowsheet.csv\n"
     ]
    },
    {
     "name": "stderr",
     "output_type": "stream",
     "text": [
      "/Users/seth/anaconda3/lib/python3.6/site-packages/pandas/core/generic.py:1534: UserWarning: The spaces in these column names will not be changed. In pandas versions < 0.14, spaces were converted to underscores.\n",
      "  chunksize=chunksize, dtype=dtype)\n"
     ]
    },
    {
     "name": "stdout",
     "output_type": "stream",
     "text": [
      "Saved flowsheet to database\n",
      "Reading /Users/seth/OneDrive - The University of Colorado Denver/Documents/ICML_2018_Paper/faker-prototype/sourcecode/python/../../data/homework_data/labs.csv\n",
      "Saved labs to database\n",
      "Reading /Users/seth/OneDrive - The University of Colorado Denver/Documents/ICML_2018_Paper/faker-prototype/sourcecode/python/../../data/homework_data/procedures.csv\n",
      "Saved procedures to database\n"
     ]
    }
   ],
   "source": [
    "csv_path = op.join(os.getcwd(), '..', '..', 'data', 'homework_data')\n",
    "conn = sqlite3.connect(\"../../data/sepsis.db\")\n",
    "\n",
    "for file in glob.glob(op.join(csv_path, \"*.csv\")):\n",
    "    print('Reading', file)\n",
    "    df = pd.read_csv(file)\n",
    "    filename, fileextension = op.splitext(file)\n",
    "    filename = op.basename(filename)\n",
    "    df.to_sql(filename, conn, if_exists='replace', index=False)\n",
    "    conn.commit()\n",
    "    print('Saved', filename, 'to database')\n",
    "\n",
    "conn.close()\n"
   ]
  },
  {
   "cell_type": "code",
   "execution_count": 16,
   "metadata": {},
   "outputs": [
    {
     "name": "stdout",
     "output_type": "stream",
     "text": [
      "[('admission',), ('admission_diagnoses',), ('adt_events',), ('diagnoses',), ('flowsheet',), ('labs',), ('procedures',)]\n"
     ]
    }
   ],
   "source": [
    "con = sqlite3.connect(\"../../data/sepsis.db\")\n",
    "\n",
    "cursor = con.cursor()\n",
    "cursor.execute(\"SELECT name FROM sqlite_master WHERE type='table';\")\n",
    "print(cursor.fetchall())\n",
    "\n",
    "con.close()"
   ]
  },
  {
   "cell_type": "code",
   "execution_count": null,
   "metadata": {},
   "outputs": [],
   "source": []
  }
 ],
 "metadata": {
  "kernelspec": {
   "display_name": "Python 3",
   "language": "python",
   "name": "python3"
  },
  "language_info": {
   "codemirror_mode": {
    "name": "ipython",
    "version": 3
   },
   "file_extension": ".py",
   "mimetype": "text/x-python",
   "name": "python",
   "nbconvert_exporter": "python",
   "pygments_lexer": "ipython3",
   "version": "3.6.4"
  }
 },
 "nbformat": 4,
 "nbformat_minor": 2
}
